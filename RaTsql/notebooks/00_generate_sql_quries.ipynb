{
 "cells": [
  {
   "cell_type": "code",
   "execution_count": null,
   "id": "6934f354",
   "metadata": {},
   "outputs": [],
   "source": [
    "!pip install sql-metadata pandas\n"
   ]
  },
  {
   "cell_type": "code",
   "execution_count": 10,
   "id": "425bda07",
   "metadata": {},
   "outputs": [
    {
     "name": "stdout",
     "output_type": "stream",
     "text": [
      "Collecting sqlglot\n",
      "  Downloading sqlglot-27.2.0-py3-none-any.whl.metadata (20 kB)\n",
      "Downloading sqlglot-27.2.0-py3-none-any.whl (487 kB)\n",
      "Installing collected packages: sqlglot\n",
      "Successfully installed sqlglot-27.2.0\n"
     ]
    }
   ],
   "source": [
    "!pip install sqlglot\n"
   ]
  },
  {
   "cell_type": "code",
   "execution_count": 13,
   "id": "edc71d67",
   "metadata": {},
   "outputs": [],
   "source": [
    "import pandas as pd\n",
    "import sqlglot\n",
    "from sqlglot import parse_one\n",
    "import json\n",
    "\n",
    "# Customize these if needed\n",
    "TABLE_PREFIX = \"google_ads_\"\n",
    "TABLE_SUFFIX = \"postfix\"\n",
    "\n",
    "def clean_table_name(name):\n",
    "    if name.startswith(TABLE_PREFIX):\n",
    "        name = name[len(TABLE_PREFIX):]\n",
    "    if name.endswith(TABLE_SUFFIX):\n",
    "        name = name[: -len(TABLE_SUFFIX)]\n",
    "    return name\n",
    "\n",
    "def extract_tables_and_columns(sql):\n",
    "    try:\n",
    "        expression = parse_one(sql, read='bigquery')\n",
    "        tables = {\n",
    "            clean_table_name(table.name)\n",
    "            for table in expression.find_all(sqlglot.exp.Table)\n",
    "        }\n",
    "        columns = {col.name for col in expression.find_all(sqlglot.exp.Column)}\n",
    "        return list(tables), list(columns)\n",
    "    except Exception as e:\n",
    "        return [], []\n",
    "\n",
    "# Load CSV and normalize headers\n",
    "df = pd.read_csv(\"/home/prakhar/luke-dev/txt2sql_methods/RaTsql/notebooks/sql_ground_truth.csv\", encoding='utf-8-sig', sep=None, engine='python')\n",
    "df.columns = df.columns.str.strip()\n",
    "\n",
    "output = []\n",
    "\n",
    "for _, row in df.iterrows():\n",
    "    query = str(row.get('Questions', '')).strip()\n",
    "    sql = str(row.get('Ground truth sql', '')).strip()\n",
    "\n",
    "    if not query or not sql or sql.lower() == 'nan':\n",
    "        continue\n",
    "\n",
    "    tables, columns = extract_tables_and_columns(sql)\n",
    "\n",
    "    entry = {\n",
    "        \"query\": query,\n",
    "        \"sql\": sql,\n",
    "        \"tables\": tables,\n",
    "        \"columns\": columns\n",
    "    }\n",
    "\n",
    "    output.append(entry)\n",
    "\n",
    "# Save to JSON\n",
    "with open(\"formatted_data.json\", \"w\") as f:\n",
    "    json.dump(output, f, indent=2)"
   ]
  },
  {
   "cell_type": "code",
   "execution_count": null,
   "id": "4617d026",
   "metadata": {},
   "outputs": [],
   "source": []
  }
 ],
 "metadata": {
  "kernelspec": {
   "display_name": "txt2sql",
   "language": "python",
   "name": "python3"
  },
  "language_info": {
   "codemirror_mode": {
    "name": "ipython",
    "version": 3
   },
   "file_extension": ".py",
   "mimetype": "text/x-python",
   "name": "python",
   "nbconvert_exporter": "python",
   "pygments_lexer": "ipython3",
   "version": "3.12.11"
  }
 },
 "nbformat": 4,
 "nbformat_minor": 5
}
