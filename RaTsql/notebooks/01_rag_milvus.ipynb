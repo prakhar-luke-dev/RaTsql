{
 "cells": [
  {
   "cell_type": "markdown",
   "id": "9aee0ac1",
   "metadata": {},
   "source": [
    "# Real rag"
   ]
  },
  {
   "cell_type": "markdown",
   "id": "51b92d46",
   "metadata": {},
   "source": [
    "llm setup"
   ]
  },
  {
   "cell_type": "code",
   "execution_count": null,
   "id": "c77830d6",
   "metadata": {},
   "outputs": [],
   "source": [
    "from langchain_openai import ChatOpenAI\n",
    "\n",
    "\n",
    "DEEPINFRA_API_TOKEN = \"xxx\"  # api key\n",
    "DEEPINFRA_BASE_URL = \"https://api.deepinfra.com/v1/openai\"\n",
    "def get_chat_model(model_name: str = \"meta-llama/Llama-3.3-70B-Instruct-Turbo\", _temp: float = 0) -> ChatOpenAI:\n",
    "    return ChatOpenAI(\n",
    "        api_key=DEEPINFRA_API_TOKEN,\n",
    "        base_url=DEEPINFRA_BASE_URL,\n",
    "        model=model_name,\n",
    "        temperature= _temp\n",
    "    )\n",
    "\n",
    "llm = get_chat_model()"
   ]
  },
  {
   "cell_type": "markdown",
   "id": "fafcfc2f",
   "metadata": {},
   "source": [
    "milvus lite vector store"
   ]
  },
  {
   "cell_type": "code",
   "execution_count": 26,
   "id": "949432db",
   "metadata": {},
   "outputs": [],
   "source": [
    "from pymilvus import MilvusClient\n",
    "client = MilvusClient(\"./rag_demo1.db\")\n"
   ]
  },
  {
   "cell_type": "code",
   "execution_count": 33,
   "id": "9d5ec073",
   "metadata": {},
   "outputs": [],
   "source": [
    "# from langchain.embeddings import HuggingFaceEmbeddings\n",
    "from langchain_community.embeddings import DeepInfraEmbeddings\n",
    "from langchain_milvus import Milvus\n",
    "\n",
    "# embedding_model = HuggingFaceEmbeddings(model_name=\"sentence-transformers/all-MiniLM-L6-v2\")\n",
    "embedding_model = DeepInfraEmbeddings(model_id=\"BAAI/bge-en-icl\", deepinfra_api_token=DEEPINFRA_API_TOKEN)\n",
    "URI = \"./rag_demo2.db\"\n",
    "vector_store = Milvus(\n",
    "    embedding_function=embedding_model,\n",
    "    connection_args={\"uri\": URI, \"token\": \"root:Milvus\", \"db_name\": \"milvus_demo\"},\n",
    "    index_params={\"index_type\": \"FLAT\", \"metric_type\": \"L2\"},\n",
    "    collection_name=\"test_collection\",\n",
    "    collection_description=\"This is a testing collection for Rag demo\",\n",
    ")\n"
   ]
  },
  {
   "cell_type": "markdown",
   "id": "e8ddb82b",
   "metadata": {},
   "source": [
    "Delete old docs"
   ]
  },
  {
   "cell_type": "code",
   "execution_count": 28,
   "id": "675e94f3",
   "metadata": {},
   "outputs": [
    {
     "data": {
      "text/plain": [
       "True"
      ]
     },
     "execution_count": 28,
     "metadata": {},
     "output_type": "execute_result"
    }
   ],
   "source": [
    "vector_store.delete(ids=[\"1\", \"2\"])"
   ]
  },
  {
   "cell_type": "markdown",
   "id": "75d47a51",
   "metadata": {},
   "source": [
    "Add documents"
   ]
  },
  {
   "cell_type": "code",
   "execution_count": 4,
   "id": "f852c4ed",
   "metadata": {},
   "outputs": [],
   "source": [
    "from langchain_core.documents import Document\n",
    "\n",
    "document_1 = Document(\n",
    "    page_content=\"Which campaign had the maximum impressions on 1 jan 2025?\", \n",
    "    metadata={\n",
    "        \"ref_id\": \"query_000\",\n",
    "        \"query_path\" : \"query_store/query_000.json\"\n",
    "        }\n",
    "    )\n",
    "\n",
    "document_2 = Document(\n",
    "    page_content=\"What is the total number of campaigns with a conversion rate above 4/% in may 2025.\",\n",
    "    metadata={\n",
    "        \"ref_id\": \"query_001\",\n",
    "        \"query_path\" : \"query_store/query_001.json\"\n",
    "        }\n",
    "    )\n"
   ]
  },
  {
   "cell_type": "markdown",
   "id": "407f37e3",
   "metadata": {},
   "source": [
    "Add documents from storage"
   ]
  },
  {
   "cell_type": "code",
   "execution_count": 28,
   "id": "2e731e53",
   "metadata": {},
   "outputs": [],
   "source": [
    "from pathlib import Path\n",
    "import json\n",
    "\n",
    "def load_json_files(base_dir: str):\n",
    "    json_paths = Path(base_dir).rglob(\"*.json\")\n",
    "    documents = []\n",
    "\n",
    "    for path in json_paths:\n",
    "        with open(path, \"r\") as f:\n",
    "            data = json.load(f)\n",
    "            question = data.get(\"query\", \"\").strip()\n",
    "            if not question:\n",
    "                continue\n",
    "\n",
    "            metadata = {\n",
    "                \"ref_id\": data.get(\"ref_id\"),\n",
    "                \"query_path\": str(path),\n",
    "            }\n",
    "\n",
    "            doc = Document(page_content=question, metadata=metadata)\n",
    "            documents.append(doc)\n",
    "    \n",
    "    return documents"
   ]
  },
  {
   "cell_type": "code",
   "execution_count": 29,
   "id": "2727855e",
   "metadata": {},
   "outputs": [],
   "source": [
    "base_dir = \"/home/prakhar/luke-dev/txt2sql_methods/RaTsql/notebooks/metadata_query_store\"\n",
    "docs = load_json_files(base_dir)"
   ]
  },
  {
   "cell_type": "code",
   "execution_count": 30,
   "id": "c5fbae95",
   "metadata": {},
   "outputs": [
    {
     "name": "stderr",
     "output_type": "stream",
     "text": [
      "/home/prakhar/miniconda3/envs/txt2sql/lib/python3.12/site-packages/langchain_milvus/vectorstores/milvus.py:1215: UserWarning: No ids provided and auto_id is False. Setting auto_id to True automatically.\n",
      "  warnings.warn(\n"
     ]
    },
    {
     "data": {
      "text/plain": [
       "[459744281146687488,\n",
       " 459744281146687489,\n",
       " 459744281146687490,\n",
       " 459744281146687491,\n",
       " 459744281146687492,\n",
       " 459744281146687493,\n",
       " 459744281146687494,\n",
       " 459744281146687495,\n",
       " 459744281146687496,\n",
       " 459744281146687497,\n",
       " 459744281146687498,\n",
       " 459744281146687499,\n",
       " 459744281146687500,\n",
       " 459744281146687501,\n",
       " 459744281146687502,\n",
       " 459744281146687503,\n",
       " 459744281146687504,\n",
       " 459744281146687505,\n",
       " 459744281146687506,\n",
       " 459744281146687507,\n",
       " 459744281146687508,\n",
       " 459744281146687509,\n",
       " 459744281146687510,\n",
       " 459744281146687511,\n",
       " 459744281146687512,\n",
       " 459744281146687513,\n",
       " 459744281146687514]"
      ]
     },
     "execution_count": 30,
     "metadata": {},
     "output_type": "execute_result"
    }
   ],
   "source": [
    "vector_store.add_documents(docs, auto_id=True)"
   ]
  },
  {
   "cell_type": "code",
   "execution_count": 5,
   "id": "39c1c755",
   "metadata": {},
   "outputs": [
    {
     "data": {
      "text/plain": [
       "['1', '2']"
      ]
     },
     "execution_count": 5,
     "metadata": {},
     "output_type": "execute_result"
    }
   ],
   "source": [
    "documents = [document_1, document_2]\n",
    "ids = [\"1\", \"2\"]\n",
    "vector_store.add_documents(documents=documents, ids=ids)\n"
   ]
  },
  {
   "cell_type": "markdown",
   "id": "62538a17",
   "metadata": {},
   "source": [
    "Search store"
   ]
  },
  {
   "cell_type": "code",
   "execution_count": 25,
   "id": "0c27c357",
   "metadata": {},
   "outputs": [
    {
     "name": "stdout",
     "output_type": "stream",
     "text": [
      "* [SIM=27879.24609375] Which campaign had the maximum impressions on 1 jan 2025? [{'pk': 459744260041211904, 'query_path': '/home/prakhar/luke-dev/txt2sql_methods/RaTsql/notebooks/metadata_query_store/00/query_00000.json', 'ref_id': 'query_00000'}]\n"
     ]
    }
   ],
   "source": [
    "results = vector_store.similarity_search_with_score(query=\"maximum impressions\",k=1)\n",
    "for doc, score in results:\n",
    "    print(f\"* [SIM={score}] {doc.page_content} [{doc.metadata}]\")"
   ]
  },
  {
   "cell_type": "markdown",
   "id": "e90a7a8c",
   "metadata": {},
   "source": [
    "Load data from reff"
   ]
  },
  {
   "cell_type": "code",
   "execution_count": 16,
   "id": "ee07b7f9",
   "metadata": {},
   "outputs": [],
   "source": [
    "import json\n",
    "\n",
    "def get_shard_dir(ref_id):\n",
    "    num = int(ref_id.split('_')[1])\n",
    "    shard = f\"{num // 1000:02}\"\n",
    "    return f\"query_store/{shard}\"\n",
    "\n",
    "def load_query_info(path):\n",
    "    with open(path, \"r\") as f:\n",
    "        return json.load(f)\n",
    "    \n",
    "shard_dir = get_shard_dir(doc.metadata[\"ref_id\"])\n",
    "info = load_query_info(f\"{shard_dir}/{doc.metadata[\"ref_id\"]}.json\")\n",
    "sql = info[\"sql\"]\n",
    "instructions = info[\"instructions\"]"
   ]
  },
  {
   "cell_type": "code",
   "execution_count": 17,
   "id": "3d06ab2e",
   "metadata": {},
   "outputs": [
    {
     "name": "stdout",
     "output_type": "stream",
     "text": [
      "User Query : Which campaign had the maximum impressions on 1 jan 2025?\n",
      "SQL : SELECT gcd.campaign_id, gcd.campaign_name, SUM(gcp.metrics_impressions) AS total_impressions FROM advida-data-pipeline.manager_dataset_preprod_updated.google_ads_campaign_performance_2643649617 gcp JOIN advida-data-pipeline.manager_dataset_preprod_updated.google_ads_campaign_details_2643649617 gcd ON gcp.campaign_id = gcd.campaign_id WHERE gcp.customer_id = 8870377244 AND gcp.segments_date = '2025-01-01' GROUP BY gcd.campaign_id, gcd.campaign_name ORDER BY total_impressions DESC LIMIT 1\n",
      "INSTRUCTIONS : nan\n"
     ]
    }
   ],
   "source": [
    "print(f\"User Query : {doc.page_content}\\nSQL : {sql}\\nINSTRUCTIONS : {instructions}\")"
   ]
  },
  {
   "cell_type": "code",
   "execution_count": null,
   "id": "3a2b28f7",
   "metadata": {},
   "outputs": [],
   "source": []
  }
 ],
 "metadata": {
  "kernelspec": {
   "display_name": "txt2sql",
   "language": "python",
   "name": "python3"
  },
  "language_info": {
   "codemirror_mode": {
    "name": "ipython",
    "version": 3
   },
   "file_extension": ".py",
   "mimetype": "text/x-python",
   "name": "python",
   "nbconvert_exporter": "python",
   "pygments_lexer": "ipython3",
   "version": "3.12.11"
  }
 },
 "nbformat": 4,
 "nbformat_minor": 5
}
