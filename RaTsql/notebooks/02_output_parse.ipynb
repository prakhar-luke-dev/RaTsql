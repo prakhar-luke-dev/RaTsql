{
 "cells": [
  {
   "cell_type": "code",
   "execution_count": null,
   "id": "9b95194a",
   "metadata": {},
   "outputs": [],
   "source": [
    "from langchain_openai import ChatOpenAI\n",
    "\n",
    "\n",
    "DEEPINFRA_API_TOKEN = \"xxxxxxx\"\n",
    "DEEPINFRA_BASE_URL = \"https://api.deepinfra.com/v1/openai\"\n",
    "def get_chat_model(model_name: str = \"meta-llama/Llama-3.3-70B-Instruct-Turbo\", _temp: float = 0) -> ChatOpenAI:\n",
    "    return ChatOpenAI(\n",
    "        api_key=DEEPINFRA_API_TOKEN,\n",
    "        base_url=DEEPINFRA_BASE_URL,\n",
    "        model=model_name,\n",
    "        temperature= _temp\n",
    "    )\n",
    "\n",
    "llm = get_chat_model(model_name=\"Qwen/Qwen3-Coder-480B-A35B-Instruct\")"
   ]
  },
  {
   "cell_type": "code",
   "execution_count": 2,
   "id": "6fbcc3de",
   "metadata": {},
   "outputs": [],
   "source": [
    "from langchain_core.output_parsers import JsonOutputParser\n",
    "from langchain_core.prompts import PromptTemplate\n",
    "from langchain_openai import ChatOpenAI\n",
    "from pydantic import BaseModel, Field\n",
    "\n",
    "model = get_chat_model()\n",
    "\n",
    "\n",
    "# Define your desired data structure.\n",
    "class sql1(BaseModel):\n",
    "    sql: str = Field(description=\"sql query for the user question\")\n",
    "\n",
    "db_schema = \"\"\"\n",
    "    \"table_column_map\": {\n",
    "        \"campaign_details\": [\n",
    "        \"campaign_id\",\n",
    "        \"campaign_name\",\n",
    "        \"total_impressions\"\n",
    "        ],\n",
    "        \"campaign_performance\": [\n",
    "        \"campaign_id\",\n",
    "        \"customer_id\",\n",
    "        \"metrics_impressions\",\n",
    "        \"segments_date\",\n",
    "        \"total_impressions\"\n",
    "        ]\n",
    "    }\n",
    "  \"\"\"\n",
    "# And a query intented to prompt a language model to populate the data structure.\n",
    "joke_query = \"Which campaign had the maximum impressions on 1 jan 2025?\"\n",
    "\n",
    "# Set up a parser + inject instructions into the prompt template.\n",
    "parser = JsonOutputParser(pydantic_object=sql1)\n",
    "\n",
    "prompt = PromptTemplate(\n",
    "    template=\"Answer the user query based on given schema : \\n{schema}.\\n{format_instructions}\\n{query}\\n\",\n",
    "    input_variables=[\"query\", \"schema\"],\n",
    "    partial_variables={\"format_instructions\": parser.get_format_instructions(),},\n",
    ")\n",
    "\n",
    "chain = prompt | model | parser\n",
    "\n",
    "ans = chain.invoke({\"query\": joke_query, \"schema\": db_schema})"
   ]
  },
  {
   "cell_type": "code",
   "execution_count": 7,
   "id": "37a60c72",
   "metadata": {},
   "outputs": [
    {
     "data": {
      "text/plain": [
       "'The output should be formatted as a JSON instance that conforms to the JSON schema below.\\n\\nAs an example, for the schema {\"properties\": {\"foo\": {\"title\": \"Foo\", \"description\": \"a list of strings\", \"type\": \"array\", \"items\": {\"type\": \"string\"}}}, \"required\": [\"foo\"]}\\nthe object {\"foo\": [\"bar\", \"baz\"]} is a well-formatted instance of the schema. The object {\"properties\": {\"foo\": [\"bar\", \"baz\"]}} is not well-formatted.\\n\\nHere is the output schema:\\n```\\n{\"properties\": {\"sql\": {\"description\": \"sql query for the user question\", \"title\": \"Sql\", \"type\": \"string\"}}, \"required\": [\"sql\"]}\\n```'"
      ]
     },
     "execution_count": 7,
     "metadata": {},
     "output_type": "execute_result"
    }
   ],
   "source": [
    "parser.get_format_instructions()"
   ]
  },
  {
   "cell_type": "code",
   "execution_count": 3,
   "id": "ba3114f2",
   "metadata": {},
   "outputs": [
    {
     "data": {
      "text/plain": [
       "{'sql': \"SELECT campaign_id FROM campaign_performance WHERE segments_date = '2025-01-01' ORDER BY metrics_impressions DESC LIMIT 1\"}"
      ]
     },
     "execution_count": 3,
     "metadata": {},
     "output_type": "execute_result"
    }
   ],
   "source": [
    "ans"
   ]
  },
  {
   "cell_type": "code",
   "execution_count": 4,
   "id": "e979bf73",
   "metadata": {},
   "outputs": [
    {
     "data": {
      "text/plain": [
       "\"SELECT campaign_id FROM campaign_performance WHERE segments_date = '2025-01-01' ORDER BY metrics_impressions DESC LIMIT 1\""
      ]
     },
     "execution_count": 4,
     "metadata": {},
     "output_type": "execute_result"
    }
   ],
   "source": [
    "ans['sql']"
   ]
  },
  {
   "cell_type": "code",
   "execution_count": 41,
   "id": "0fda24cd",
   "metadata": {},
   "outputs": [
    {
     "data": {
      "text/plain": [
       "PromptTemplate(input_variables=['query', 'schema'], input_types={}, partial_variables={'format_instructions': 'The output should be formatted as a JSON instance that conforms to the JSON schema below.\\n\\nAs an example, for the schema {\"properties\": {\"foo\": {\"title\": \"Foo\", \"description\": \"a list of strings\", \"type\": \"array\", \"items\": {\"type\": \"string\"}}}, \"required\": [\"foo\"]}\\nthe object {\"foo\": [\"bar\", \"baz\"]} is a well-formatted instance of the schema. The object {\"properties\": {\"foo\": [\"bar\", \"baz\"]}} is not well-formatted.\\n\\nHere is the output schema:\\n```\\n{\"properties\": {\"sql\": {\"description\": \"sql query for the user question\", \"title\": \"Sql\", \"type\": \"string\"}}, \"required\": [\"sql\"]}\\n```'}, template='Answer the user query based on given schema : \\n{schema}.\\n{format_instructions}\\n{query}\\n')"
      ]
     },
     "execution_count": 41,
     "metadata": {},
     "output_type": "execute_result"
    }
   ],
   "source": [
    "prompt"
   ]
  },
  {
   "cell_type": "code",
   "execution_count": 55,
   "id": "bd84ea7b",
   "metadata": {},
   "outputs": [],
   "source": [
    "SYSTEM_PROPMT_SQL1 = \"\"\"\n",
    "Answer the user query based on given schema :\n",
    "\n",
    "{db_schema}.\\n\n",
    "\n",
    "{format_instructions}\\n.\n",
    "\n",
    "{query}\\n\"\n",
    "\n",
    "If the user query is not related to the schema, return 'None' as the sql query.\n",
    "\"\"\"\n",
    "\n",
    "sq1_input_variables = [\"query\", \"db_schema\"]\n",
    "\n",
    "def generate_sql1_example(db_schema, user_question):\n",
    "    class sql1(BaseModel):\n",
    "        sql: str = Field(description=\"sql query for the user question\")\n",
    "    model = get_chat_model()\n",
    "    parser = JsonOutputParser(pydantic_object=sql1)\n",
    "    prompt = PromptTemplate(\n",
    "        template=SYSTEM_PROPMT_SQL1,\n",
    "        input_variables=sq1_input_variables,\n",
    "        partial_variables={\"format_instructions\": parser.get_format_instructions(), },\n",
    "    )\n",
    "\n",
    "    chain = prompt | model | parser\n",
    "\n",
    "    ans = chain.invoke({\"query\": user_question, \"db_schema\": db_schema})\n",
    "\n",
    "    return ans['sql']"
   ]
  },
  {
   "cell_type": "code",
   "execution_count": 57,
   "id": "0c59544f",
   "metadata": {},
   "outputs": [],
   "source": [
    "db_schema = \"\"\"\n",
    "    \"table_column_map\": {\n",
    "        \"campaign_details\": [\n",
    "        \"campaign_id\",\n",
    "        \"campaign_name\",\n",
    "        \"total_impressions\"\n",
    "        ],\n",
    "        \"campaign_performance\": [\n",
    "        \"campaign_id\",\n",
    "        \"customer_id\",\n",
    "        \"metrics_impressions\",\n",
    "        \"segments_date\",\n",
    "        \"total_impressions\"\n",
    "        ]\n",
    "    }\n",
    "    \"\"\"\n",
    "ans = generate_sql1_example(db_schema, \"Hi how are yoU\")"
   ]
  },
  {
   "cell_type": "code",
   "execution_count": 58,
   "id": "efb4f3fe",
   "metadata": {},
   "outputs": [
    {
     "data": {
      "text/plain": [
       "str"
      ]
     },
     "execution_count": 58,
     "metadata": {},
     "output_type": "execute_result"
    }
   ],
   "source": [
    "type(ans)"
   ]
  },
  {
   "cell_type": "code",
   "execution_count": 62,
   "id": "de312ae8",
   "metadata": {},
   "outputs": [],
   "source": [
    "def generate_structured_sql(model, full_schema, pruned_schema, user_question, _instructions, other_info):\n",
    "    class sql1(BaseModel):\n",
    "        sql: str = Field(description=\"sql query for the user question\")\n",
    "    parser = JsonOutputParser(pydantic_object=sql1)\n",
    "\n",
    "    prompt = PromptTemplate(\n",
    "        template=SYSTEM_PROPMT_SQL1,\n",
    "        input_variables=sq1_input_variables,\n",
    "        partial_variables={\"format_instructions\": parser.get_format_instructions(), },\n",
    "    )\n",
    "    chain = prompt | model | parser\n",
    "    ans = chain.invoke({\n",
    "        \"query\": user_question,\n",
    "        \"full_schema\": full_schema,\n",
    "        \"pruned_schema\": pruned_schema,\n",
    "        \"instruction\": _instructions,\n",
    "        \"other_info\": other_info\n",
    "    })\n",
    "    if ans['sql'].lower == 'none':\n",
    "        raise ValueError(\"The generated SQL query is None. Please check the input query\")\n",
    "    return ans['sql']\n",
    "\n",
    "def generate_sql1(_full_schema, _pruned_schema, _user_question, other_info, instructions):\n",
    "    \"\"\"\n",
    "    Generate SQL1 based on the full schema and pruned schema, user question, and other relevant information.\n",
    "    :return:\n",
    "    \"\"\"\n",
    "    model_to_use = \"Qwen/Qwen3-Coder-480B-A35B-Instruct\"\n",
    "    llm_client = get_chat_model(model_name = model_to_use)\n",
    "    if llm_client is not None:\n",
    "        return generate_structured_sql(\n",
    "            model=llm_client,\n",
    "            full_schema=_full_schema,\n",
    "            pruned_schema=_pruned_schema,\n",
    "            user_question=_user_question,\n",
    "            other_info=other_info,\n",
    "            _instructions = instructions\n",
    "        )"
   ]
  },
  {
   "cell_type": "code",
   "execution_count": 63,
   "id": "b2c208c7",
   "metadata": {},
   "outputs": [],
   "source": [
    "\n",
    "SYSTEM_PROPMT_SQL1 = \"\"\"\n",
    "Answer the user query based on given schema :\n",
    "Here is the full schema of the database:\n",
    "{full_schema}.\\n\n",
    "\n",
    "Here is the schema that you should focus on to answer the user query:\n",
    "{pruned_schema}.\\n\n",
    "\n",
    "{format_instructions}\\n.\n",
    "\n",
    "{instruction}\\n\n",
    "\n",
    "{query}\\n\"\n",
    "\n",
    "If the user query is not related to the schema, return 'None' as the sql query.\n",
    "Here are some other information that you should consider while generating the sql query:\n",
    "{other_info}\\n\n",
    "\n",
    "\"\"\"\n",
    "\n",
    "sq1_input_variables = [\"query\", \"full_schema\", \"pruned_schema\", \"instruction\", \"other_info\"]\n"
   ]
  },
  {
   "cell_type": "code",
   "execution_count": null,
   "id": "8842d2c0",
   "metadata": {},
   "outputs": [],
   "source": [
    "sql1 = generate_sql1(\n",
    "        _full_schema=\"\",\n",
    "        _pruned_schema=\"\"\"\n",
    "        \"table_column_map\": {\n",
    "            \"campaign_details\": [\n",
    "            \"campaign_id\",\n",
    "            \"campaign_name\",\n",
    "            \"total_impressions\"\n",
    "            ],\n",
    "            \"campaign_performance\": [\n",
    "            \"campaign_id\",\n",
    "            \"customer_id\",\n",
    "            \"metrics_impressions\",\n",
    "            \"segments_date\",\n",
    "            \"total_impressions\"\n",
    "            ]\n",
    "        }\"\"\",\n",
    "        _user_question=\"what is my top performing campaign?\",\n",
    "        instructions=\"Only generate the SQL query that answers the user question based on the provided schema.\",\n",
    "        other_info=\"\"\"The provide schema is in following format : \n",
    "        {\n",
    "            'table_name': {\n",
    "                'column_name_1' : 'datatype OR comma-separated enumerated values',\n",
    "                'column_name_2' : 'datatype OR comma-separated enumerated values',\n",
    "                ...\n",
    "            },\n",
    "            ...\n",
    "        }\"\"\"  # TODO : Pass other metadata information here\n",
    "    )"
   ]
  },
  {
   "cell_type": "code",
   "execution_count": 65,
   "id": "5f073c8f",
   "metadata": {},
   "outputs": [
    {
     "data": {
      "text/plain": [
       "'SELECT cd.campaign_id, cd.campaign_name, SUM(cp.metrics_impressions) as total_impressions FROM campaign_details cd JOIN campaign_performance cp ON cd.campaign_id = cp.campaign_id GROUP BY cd.campaign_id, cd.campaign_name ORDER BY total_impressions DESC LIMIT 1'"
      ]
     },
     "execution_count": 65,
     "metadata": {},
     "output_type": "execute_result"
    }
   ],
   "source": [
    "sql1"
   ]
  },
  {
   "cell_type": "markdown",
   "id": "a2aaf735",
   "metadata": {},
   "source": [
    "# From Graph code"
   ]
  },
  {
   "cell_type": "code",
   "execution_count": 17,
   "id": "f6156dce",
   "metadata": {},
   "outputs": [],
   "source": [
    "from langchain_core.output_parsers import JsonOutputParser\n",
    "from langchain_core.prompts import PromptTemplate\n",
    "from langchain_openai import ChatOpenAI\n",
    "from pydantic import BaseModel, Field\n",
    "# from modules.prompts.sql1_prompts import SYSTEM_PROPMT_SQL1, sq1_input_variables\n",
    "\n",
    "SYSTEM_PROPMT_SQL1 = \"\"\"\n",
    "Answer the user query based on given schema :\n",
    "Here is the full schema of the database:\n",
    "{full_schema}.\\n\n",
    "\n",
    "Here is the schema that you should focus on to answer the user query:\n",
    "{pruned_schema}.\\n\n",
    "\n",
    "{format_instructions}\\n.\n",
    "\n",
    "{instruction}\\n\n",
    "\n",
    "{query}\\n\"\n",
    "\n",
    "If the user query is not related to the schema, return 'None' as the sql query.\n",
    "Here are some other information that you should consider while generating the sql query:\n",
    "{other_info}\\n\n",
    "\n",
    "\"\"\"\n",
    "\n",
    "sq1_input_variables = [\"query\", \"full_schema\", \"pruned_schema\", \"instruction\", \"other_info\"]\n",
    "\n",
    "\n",
    "\n",
    "def generate_structured_sql(model, full_schema, pruned_schema, user_question, _instructions, other_info):\n",
    "    class sql1(BaseModel):\n",
    "        sql: str = Field(description=\"generated sql query for the user question\")\n",
    "    parser = JsonOutputParser(pydantic_object=sql1)\n",
    "\n",
    "    prompt = PromptTemplate(\n",
    "        template=SYSTEM_PROPMT_SQL1,\n",
    "        input_variables=sq1_input_variables,\n",
    "        partial_variables={\"format_instructions\": parser.get_format_instructions(), },\n",
    "    )\n",
    "    # print(f\"Prompt template : {prompt}\")\n",
    "    chain = prompt | model | parser\n",
    "    ans = chain.invoke({\n",
    "        \"query\": user_question,\n",
    "        \"full_schema\": full_schema,\n",
    "        \"pruned_schema\": pruned_schema,\n",
    "        \"instruction\": _instructions,\n",
    "        \"other_info\": other_info\n",
    "    }, verbose=True)\n",
    "    print(f\"Answer from LLM : {ans}\")\n",
    "    if isinstance(ans, str):\n",
    "        if ans.strip().lower() == \"none\":\n",
    "            raise ValueError(\"The generated SQL query is None. Please check the input query\")\n",
    "        return ans\n",
    "    elif isinstance(ans, dict):\n",
    "        if ans.get('sql', '').strip().lower() == 'none':\n",
    "            raise ValueError(\"The generated SQL query is None. Please check the input query\")\n",
    "        return ans.get('sql', '')\n",
    "    else:\n",
    "        raise TypeError(f\"Unexpected response type from model: {type(ans)}\")\n",
    "\n",
    "\n",
    "def generate_sql1(_full_schema, _pruned_schema, _user_question, other_info, instructions):\n",
    "    \"\"\"\n",
    "    Generate SQL1 based on the full schema and pruned schema, user question, and other relevant information.\n",
    "    :return:\n",
    "    \"\"\"\n",
    "    # model_to_use = \"Qwen/Qwen3-Coder-480B-A35B-Instruct\"\n",
    "    # model_to_use = \"meta-llama/Llama-4-Maverick-17B-128E-Instruct-FP8\"\n",
    "    llm_client = get_chat_model()\n",
    "    if llm_client is not None:\n",
    "        return generate_structured_sql(\n",
    "            model=llm_client,\n",
    "            full_schema=_full_schema,\n",
    "            pruned_schema=_pruned_schema,\n",
    "            user_question=_user_question,\n",
    "            other_info=other_info,\n",
    "            _instructions = instructions\n",
    "        )"
   ]
  },
  {
   "cell_type": "code",
   "execution_count": null,
   "id": "def10b52",
   "metadata": {},
   "outputs": [],
   "source": [
    "fs = \"\"\n",
    "ps = {\n",
    "      \"table_column_map\": {\n",
    "        \"campaign_details\": [\n",
    "          \"campaign_id\",\n",
    "          \"campaign_name\",\n",
    "          \"total_impressions\"\n",
    "        ],\n",
    "      \"campaign_performance\": [\n",
    "        \"campaign_id\",\n",
    "        \"customer_id\",\n",
    "        \"metrics_impressions\",\n",
    "        \"segments_date\",\n",
    "        \"total_impressions\"\n",
    "        ]\n",
    "      }\n",
    "    } \n",
    "instructions = \"\"\n",
    "\n",
    "other_info=\"\"\"The provide schema is in following format : \n",
    "        {\n",
    "            'table_name': {\n",
    "                'column_name_1' : 'datatype OR comma-separated enumerated values',\n",
    "                'column_name_2' : 'datatype OR comma-separated enumerated values',\n",
    "                ...\n",
    "            },\n",
    "            ...\n",
    "        }\"\"\"\n",
    "import json\n",
    "\n",
    "generate_sql1(\n",
    "    _full_schema = fs,\n",
    "    _pruned_schema = json.dumps(ps, indent=2),\n",
    "    _user_question = \"Which campaign had the maximum impressions on 1 jan 2025?\",\n",
    "    other_info=other_info,\n",
    "    instructions=instructions\n",
    ")"
   ]
  },
  {
   "cell_type": "markdown",
   "id": "e92565e8",
   "metadata": {},
   "source": [
    "# Using pydantic models to as tools"
   ]
  },
  {
   "cell_type": "code",
   "execution_count": null,
   "id": "3b192c04",
   "metadata": {},
   "outputs": [],
   "source": [
    "from pydantic import BaseModel, Field\n",
    "from typing import Optional\n",
    "from langchain_core.messages import HumanMessage, SystemMessage\n",
    "import json\n",
    "\n",
    "# Basic toxic nsfw guardrail tool\n",
    "class sql_generator(BaseModel):\n",
    "    \"\"\"Saves the the SQL query generator based on user input and schema\"\"\"\n",
    "    sql_query : Optional[bool] = Field(\n",
    "        default=False,\n",
    "        description=\"Save the generated SQL query on the user input and schema.\"\n",
    "    )\n",
    "    \n",
    "def sql1_gen(usr_messages: HumanMessage, model_to_use: str = \"meta-llama/Llama-3.3-70B-Instruct-Turbo\", temperature: float = 0.3) -> dict:\n",
    "    SQL_SYS_PROMPT = \"\"\"\n",
    "    Answer the user query based on given schema :\n",
    "\n",
    "    Here is the schema that you should focus on to answer the user query:\n",
    "    {pruned_schema}.\\n\n",
    "\n",
    "\n",
    "    {query}\\n\"\n",
    "\n",
    "    If the user query is not related to the schema, return 'None' as the sql query.\n",
    "    Here are some other information that you should consider while generating the sql query:\n",
    "    {other_info}\\n\n",
    "\n",
    "    \"\"\"\n",
    "    ps = {\n",
    "        \"table_column_map\": {\n",
    "            \"campaign_details\": [\n",
    "            \"campaign_id\",\n",
    "            \"campaign_name\",\n",
    "            \"total_impressions\"\n",
    "            ],\n",
    "        \"campaign_performance\": [\n",
    "            \"campaign_id\",\n",
    "            \"customer_id\",\n",
    "            \"metrics_impressions\",\n",
    "            \"segments_date\",\n",
    "            \"total_impressions\"\n",
    "            ]\n",
    "        }\n",
    "        } \n",
    "\n",
    "\n",
    "    other_info=\"\"\"The provide schema is in following format : \n",
    "            {\n",
    "                'table_name': {\n",
    "                    'column_name_1' : 'datatype OR comma-separated enumerated values',\n",
    "                    'column_name_2' : 'datatype OR comma-separated enumerated values',\n",
    "                    ...\n",
    "                },\n",
    "                ...\n",
    "            }\"\"\"\n",
    "\n",
    "    SQL_SYS_PROMPT = SQL_SYS_PROMPT.format(\n",
    "        pruned_schema = json.dumps(ps, indent=2),\n",
    "        other_info=other_info,\n",
    "        query=usr_messages.content\n",
    "    )\n",
    "    system_message = SystemMessage(\n",
    "        content=SQL_SYS_PROMPT\n",
    "    )\n",
    "    llm_client = get_chat_model(model_name=model_to_use, _temp=temperature)\n",
    "    llm_client = llm_client.bind_tools([sql_generator])\n",
    "    response = llm_client.invoke([system_message]+[usr_messages])\n",
    "    return response\n"
   ]
  },
  {
   "cell_type": "code",
   "execution_count": 34,
   "id": "0f1f7f75",
   "metadata": {},
   "outputs": [],
   "source": [
    "usr = HumanMessage(content=\"Which campaign had the maximum impressions on 1 jan 2025?\")"
   ]
  },
  {
   "cell_type": "code",
   "execution_count": 35,
   "id": "f2e3d7fe",
   "metadata": {},
   "outputs": [],
   "source": [
    "ans = sql1_gen(usr_messages=usr)"
   ]
  },
  {
   "cell_type": "code",
   "execution_count": 36,
   "id": "6c364a67",
   "metadata": {},
   "outputs": [
    {
     "data": {
      "text/plain": [
       "{'name': 'sql_generator',\n",
       " 'args': {'sql_query': True},\n",
       " 'id': 'call_KKEZEVVGaRvLZnL5luuOTeZ3',\n",
       " 'type': 'tool_call'}"
      ]
     },
     "execution_count": 36,
     "metadata": {},
     "output_type": "execute_result"
    }
   ],
   "source": [
    "ans.tool_calls[0]"
   ]
  },
  {
   "cell_type": "code",
   "execution_count": 37,
   "id": "6f558828",
   "metadata": {},
   "outputs": [],
   "source": [
    "SYSTEM_PROMPT_SQL1 = \"\"\"\n",
    "Answer the user query based on given schema :\n",
    "Here is the full schema of the database:\n",
    "{full_schema}.\\n\n",
    "\n",
    "Here is the schema that you should focus on to answer the user query:\n",
    "{pruned_schema}.\\n\n",
    "\n",
    "{instruction}\\n\n",
    "\n",
    "{query}\\n\"\n",
    "\n",
    "If the user query is not related to the schema, return 'None' as the sql query.\n",
    "Here are some other information that you should consider while generating the sql query:\n",
    "{other_info}\\n\n",
    "\n",
    "\"\"\""
   ]
  },
  {
   "cell_type": "code",
   "execution_count": 38,
   "id": "cb538329",
   "metadata": {},
   "outputs": [],
   "source": [
    "a = True\n",
    "b = \"True\""
   ]
  },
  {
   "cell_type": "code",
   "execution_count": 39,
   "id": "8a159554",
   "metadata": {},
   "outputs": [
    {
     "data": {
      "text/plain": [
       "(True, False)"
      ]
     },
     "execution_count": 39,
     "metadata": {},
     "output_type": "execute_result"
    }
   ],
   "source": [
    "isinstance(a, bool), isinstance(b, bool)"
   ]
  },
  {
   "cell_type": "code",
   "execution_count": null,
   "id": "ff6bfd60",
   "metadata": {},
   "outputs": [],
   "source": []
  }
 ],
 "metadata": {
  "kernelspec": {
   "display_name": "txt2sql",
   "language": "python",
   "name": "python3"
  },
  "language_info": {
   "codemirror_mode": {
    "name": "ipython",
    "version": 3
   },
   "file_extension": ".py",
   "mimetype": "text/x-python",
   "name": "python",
   "nbconvert_exporter": "python",
   "pygments_lexer": "ipython3",
   "version": "3.12.11"
  }
 },
 "nbformat": 4,
 "nbformat_minor": 5
}
