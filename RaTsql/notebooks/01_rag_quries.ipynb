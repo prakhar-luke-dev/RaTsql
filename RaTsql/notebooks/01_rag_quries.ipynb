{
 "cells": [
  {
   "cell_type": "markdown",
   "id": "a24cefe6",
   "metadata": {},
   "source": [
    "# Tables"
   ]
  },
  {
   "cell_type": "code",
   "execution_count": 39,
   "id": "1812f1d2",
   "metadata": {},
   "outputs": [],
   "source": [
    "table_prefix = f'google_ads_'\n",
    "table_suffix = 'postfix'\n",
    "tables = [\n",
    "    'campaign_asset_performance',\n",
    "    'placement_performance',\n",
    "    'campaign_time_performance',\n",
    "    'landing_page_performance',\n",
    "    'ad_group_details',\n",
    "    'ad_group_ads_performance',\n",
    "    'geo_targets_constants_details',\n",
    "    'ad_group_asset_performance',\n",
    "    'geo_targets_details',\n",
    "    'campaign_details',\n",
    "    'campaign_conversion_goals_details',\n",
    "    'campaign_crm_performance',\n",
    "    'expanded_landing_page_performance',\n",
    "    'combined_audience_details',\n",
    "    'campaign_performance',\n",
    "    'search_term_analysis_performance',\n",
    "    'audience_performance',\n",
    "    'detailed_demographics_details',\n",
    "    'asset_group_assets_details',\n",
    "    'campaign_device_performance',\n",
    "    'gender_performance',\n",
    "    'ad_group_performance',\n",
    "    'ad_group_ads_details',\n",
    "    'custom_audience_details',\n",
    "    'ad_group_targeting_criteria_details',\n",
    "    'audience_details',\n",
    "    'parental_status_performance',\n",
    "    'campaign_audience_performance',\n",
    "    'income_range_performance',\n",
    "    'ad_group_ad_asset_performance',\n",
    "    'age_range_performance',\n",
    "    'campaign_targeting_criteria_details',\n",
    "    'customer_details',\n",
    "    'keyword_performance'\n",
    "    ]\n",
    "\n",
    "table_name = tables[0]"
   ]
  },
  {
   "cell_type": "code",
   "execution_count": 40,
   "id": "e80f6427",
   "metadata": {},
   "outputs": [
    {
     "data": {
      "text/plain": [
       "'google_ads_keyword_performancepostfix'"
      ]
     },
     "execution_count": 40,
     "metadata": {},
     "output_type": "execute_result"
    }
   ],
   "source": [
    "f\"{table_prefix}{tables[-1]}{table_suffix}\""
   ]
  },
  {
   "cell_type": "markdown",
   "id": "a715dd2e",
   "metadata": {},
   "source": [
    "# Sample Queries"
   ]
  },
  {
   "cell_type": "code",
   "execution_count": null,
   "id": "2ae8eb6f",
   "metadata": {},
   "outputs": [],
   "source": [
    "[\n",
    "  {\n",
    "    \"query\": \"\",\n",
    "    \"sql\": \"\",\n",
    "    \"tables\": [tables[0], tables[-1]],\n",
    "    # Not considering columns for now.\n",
    "    # \"columns\": [f\"{tables[0]}.{columns[0][4]}\", f\"{tables[-1]}.{columns[-1][6]}\"]\n",
    "  },\n",
    "\n",
    "  \n",
    "]"
   ]
  },
  {
   "cell_type": "markdown",
   "id": "987712c3",
   "metadata": {},
   "source": [
    "other loaded in .json file"
   ]
  },
  {
   "cell_type": "markdown",
   "id": "4a3e56f1",
   "metadata": {},
   "source": [
    "# RAG"
   ]
  },
  {
   "cell_type": "code",
   "execution_count": null,
   "id": "1de3c542",
   "metadata": {},
   "outputs": [],
   "source": [
    "!pip install sentence-transformers faiss-cpu\n"
   ]
  },
  {
   "cell_type": "code",
   "execution_count": null,
   "id": "c7936546",
   "metadata": {},
   "outputs": [],
   "source": [
    "import json\n",
    "import faiss\n",
    "import numpy as np\n",
    "from sentence_transformers import SentenceTransformer\n",
    "\n",
    "# Load your formatted data\n",
    "with open(\"RaTsql/notebooks/formatted_data.json\") as f:\n",
    "    data = json.load(f)\n",
    "\n",
    "# Step 1: Extract queries and metadata\n",
    "queries = [item['query'] for item in data]\n",
    "metadata = [ {k: item[k] for k in item if k != \"query\"} for item in data]\n",
    "\n",
    "# Step 2: Embed queries\n",
    "model = SentenceTransformer(\"sentence-transformers/all-MiniLM-L6-v2\")  # Small & fast\n",
    "embeddings = model.encode(queries, convert_to_numpy=True)\n",
    "\n",
    "# Step 3: Create FAISS index\n",
    "index = faiss.IndexFlatL2(embeddings.shape[1])\n",
    "index.add(embeddings)\n"
   ]
  },
  {
   "cell_type": "code",
   "execution_count": 43,
   "id": "e2232756",
   "metadata": {},
   "outputs": [],
   "source": [
    "\n",
    "# Step 4: Simple RAG retrieval function\n",
    "def retrieve_similar(input_query, k=5):\n",
    "    query_embedding = model.encode([input_query], convert_to_numpy=True)\n",
    "    distances, indices = index.search(query_embedding, k)\n",
    "\n",
    "    results = []\n",
    "    for idx, dist in zip(indices[0], distances[0]):\n",
    "        results.append({\n",
    "            \"retrieved_query\": queries[idx],\n",
    "            \"similarity_score\": float(1 / (1 + dist)),  # optional similarity score\n",
    "            **metadata[idx]\n",
    "        })\n",
    "    return results"
   ]
  },
  {
   "cell_type": "markdown",
   "id": "63476ae7",
   "metadata": {},
   "source": [
    "### FANCY OUTPUT"
   ]
  },
  {
   "cell_type": "code",
   "execution_count": 44,
   "id": "4cf70511",
   "metadata": {},
   "outputs": [],
   "source": [
    "from rich.console import Console\n",
    "from rich.markdown import Markdown\n",
    "from rich.panel import Panel\n",
    "from rich.syntax import Syntax\n",
    "\n",
    "console = Console()"
   ]
  },
  {
   "cell_type": "code",
   "execution_count": 45,
   "id": "0bb3bfd9",
   "metadata": {},
   "outputs": [],
   "source": [
    "input_q = \"Over the past 7 days - Which campaign had the highest conversion rate?\"\n",
    "top_k = retrieve_similar(input_q, k=5)"
   ]
  },
  {
   "cell_type": "code",
   "execution_count": 46,
   "id": "2bc1cd7e",
   "metadata": {},
   "outputs": [
    {
     "data": {
      "text/html": [
       "<pre style=\"white-space:pre;overflow-x:auto;line-height:normal;font-family:Menlo,'DejaVu Sans Mono',consolas,'Courier New',monospace\"><span style=\"color: #008000; text-decoration-color: #008000\">──────────────────────────────────────────────────── </span><span style=\"color: #008000; text-decoration-color: #008000; font-weight: bold\">Match #</span><span style=\"color: #008000; text-decoration-color: #008000; font-weight: bold\">1</span><span style=\"color: #008000; text-decoration-color: #008000\"> ─────────────────────────────────────────────────────</span>\n",
       "</pre>\n"
      ],
      "text/plain": [
       "\u001b[32m──────────────────────────────────────────────────── \u001b[0m\u001b[1;32mMatch #\u001b[0m\u001b[1;32m1\u001b[0m\u001b[32m ─────────────────────────────────────────────────────\u001b[0m\n"
      ]
     },
     "metadata": {},
     "output_type": "display_data"
    },
    {
     "data": {
      "text/html": [
       "<pre style=\"white-space:pre;overflow-x:auto;line-height:normal;font-family:Menlo,'DejaVu Sans Mono',consolas,'Courier New',monospace\"><span style=\"color: #000080; text-decoration-color: #000080; font-weight: bold\">🔗 Similarity Score:</span> <span style=\"color: #800080; text-decoration-color: #800080; font-weight: bold\">92.4</span>%\n",
       "</pre>\n"
      ],
      "text/plain": [
       "\u001b[1;34m🔗 Similarity Score:\u001b[0m \u001b[1;35m92.4\u001b[0m%\n"
      ]
     },
     "metadata": {},
     "output_type": "display_data"
    },
    {
     "data": {
      "text/html": [
       "<pre style=\"white-space:pre;overflow-x:auto;line-height:normal;font-family:Menlo,'DejaVu Sans Mono',consolas,'Courier New',monospace\"><span style=\"color: #008080; text-decoration-color: #008080\">╭────────────────────────── 🔍 Retrieved Query ──────────────────────────╮</span>\n",
       "<span style=\"color: #008080; text-decoration-color: #008080\">│</span> <span style=\"color: #008080; text-decoration-color: #008080; font-weight: bold\">Over the past 14 days - Which campaign had the lowest conversion rate?</span> <span style=\"color: #008080; text-decoration-color: #008080\">│</span>\n",
       "<span style=\"color: #008080; text-decoration-color: #008080\">╰────────────────────────────────────────────────────────────────────────╯</span>\n",
       "</pre>\n"
      ],
      "text/plain": [
       "\u001b[36m╭─\u001b[0m\u001b[36m─────────────────────────\u001b[0m\u001b[36m 🔍 Retrieved Query \u001b[0m\u001b[36m─────────────────────────\u001b[0m\u001b[36m─╮\u001b[0m\n",
       "\u001b[36m│\u001b[0m \u001b[1;36mOver the past 14 days - Which campaign had the lowest conversion rate?\u001b[0m \u001b[36m│\u001b[0m\n",
       "\u001b[36m╰────────────────────────────────────────────────────────────────────────╯\u001b[0m\n"
      ]
     },
     "metadata": {},
     "output_type": "display_data"
    },
    {
     "data": {
      "text/html": [
       "<pre style=\"white-space:pre;overflow-x:auto;line-height:normal;font-family:Menlo,'DejaVu Sans Mono',consolas,'Courier New',monospace\"><span style=\"color: #808000; text-decoration-color: #808000\">╭────────────── 📦 Tables ───────────────╮</span>\n",
       "<span style=\"color: #808000; text-decoration-color: #808000\">│</span> <span style=\"color: #808000; text-decoration-color: #808000; font-weight: bold\">campaign_details, campaign_performance</span> <span style=\"color: #808000; text-decoration-color: #808000\">│</span>\n",
       "<span style=\"color: #808000; text-decoration-color: #808000\">╰────────────────────────────────────────╯</span>\n",
       "</pre>\n"
      ],
      "text/plain": [
       "\u001b[33m╭─\u001b[0m\u001b[33m─────────────\u001b[0m\u001b[33m 📦 Tables \u001b[0m\u001b[33m──────────────\u001b[0m\u001b[33m─╮\u001b[0m\n",
       "\u001b[33m│\u001b[0m \u001b[1;33mcampaign_details, campaign_performance\u001b[0m \u001b[33m│\u001b[0m\n",
       "\u001b[33m╰────────────────────────────────────────╯\u001b[0m\n"
      ]
     },
     "metadata": {},
     "output_type": "display_data"
    },
    {
     "data": {
      "text/html": [
       "<pre style=\"white-space:pre;overflow-x:auto;line-height:normal;font-family:Menlo,'DejaVu Sans Mono',consolas,'Courier New',monospace\"><span style=\"color: #000080; text-decoration-color: #000080\">╭────────────────────────────────────────────────── 📊 Columns ───────────────────────────────────────────────────╮</span>\n",
       "<span style=\"color: #000080; text-decoration-color: #000080\">│</span> <span style=\"color: #c0c0c0; text-decoration-color: #c0c0c0; font-weight: bold\">metrics_interactions, campaign_id, metrics_conversions, customer_id, segments_date, campaign_name, </span>             <span style=\"color: #000080; text-decoration-color: #000080\">│</span>\n",
       "<span style=\"color: #000080; text-decoration-color: #000080\">│</span> <span style=\"color: #c0c0c0; text-decoration-color: #c0c0c0; font-weight: bold\">conversion_rate</span>                                                                                                 <span style=\"color: #000080; text-decoration-color: #000080\">│</span>\n",
       "<span style=\"color: #000080; text-decoration-color: #000080\">╰─────────────────────────────────────────────────────────────────────────────────────────────────────────────────╯</span>\n",
       "</pre>\n"
      ],
      "text/plain": [
       "\u001b[34m╭─\u001b[0m\u001b[34m─────────────────────────────────────────────────\u001b[0m\u001b[34m 📊 Columns \u001b[0m\u001b[34m──────────────────────────────────────────────────\u001b[0m\u001b[34m─╮\u001b[0m\n",
       "\u001b[34m│\u001b[0m \u001b[1;37mmetrics_interactions, campaign_id, metrics_conversions, customer_id, segments_date, campaign_name, \u001b[0m             \u001b[34m│\u001b[0m\n",
       "\u001b[34m│\u001b[0m \u001b[1;37mconversion_rate\u001b[0m                                                                                                 \u001b[34m│\u001b[0m\n",
       "\u001b[34m╰─────────────────────────────────────────────────────────────────────────────────────────────────────────────────╯\u001b[0m\n"
      ]
     },
     "metadata": {},
     "output_type": "display_data"
    },
    {
     "data": {
      "text/html": [
       "<pre style=\"white-space:pre;overflow-x:auto;line-height:normal;font-family:Menlo,'DejaVu Sans Mono',consolas,'Courier New',monospace\"><span style=\"color: #800080; text-decoration-color: #800080\">╭───────────────────────────────────────────────── 🧠 SQL Query ──────────────────────────────────────────────────╮</span>\n",
       "<span style=\"color: #800080; text-decoration-color: #800080\">│</span> <span style=\"color: #66d9ef; text-decoration-color: #66d9ef; background-color: #272822\">SELECT</span><span style=\"color: #f8f8f2; text-decoration-color: #f8f8f2; background-color: #272822\"> gcd.campaign_name, SAFE_DIVIDE(</span><span style=\"color: #66d9ef; text-decoration-color: #66d9ef; background-color: #272822\">SUM</span><span style=\"color: #f8f8f2; text-decoration-color: #f8f8f2; background-color: #272822\">(gcp.metrics_conversions), </span><span style=\"color: #66d9ef; text-decoration-color: #66d9ef; background-color: #272822\">SUM</span><span style=\"color: #f8f8f2; text-decoration-color: #f8f8f2; background-color: #272822\">(gcp.metrics_interactions)) </span><span style=\"color: #ff4689; text-decoration-color: #ff4689; background-color: #272822\">*</span><span style=\"color: #f8f8f2; text-decoration-color: #f8f8f2; background-color: #272822\"> </span><span style=\"color: #ae81ff; text-decoration-color: #ae81ff; background-color: #272822\">100</span><span style=\"color: #f8f8f2; text-decoration-color: #f8f8f2; background-color: #272822\"> </span><span style=\"color: #66d9ef; text-decoration-color: #66d9ef; background-color: #272822\">AS</span><span style=\"color: #f8f8f2; text-decoration-color: #f8f8f2; background-color: #272822\"> con</span> <span style=\"color: #800080; text-decoration-color: #800080\">│</span>\n",
       "<span style=\"color: #800080; text-decoration-color: #800080\">│</span> <span style=\"color: #66d9ef; text-decoration-color: #66d9ef; background-color: #272822\">FROM</span><span style=\"color: #f8f8f2; text-decoration-color: #f8f8f2; background-color: #272822\"> projectx</span><span style=\"color: #ff4689; text-decoration-color: #ff4689; background-color: #272822\">-</span><span style=\"color: #f8f8f2; text-decoration-color: #f8f8f2; background-color: #272822\">pipeline.dataset.google_ads_campaign_performancepostfix gcp</span><span style=\"background-color: #272822\">                                      </span> <span style=\"color: #800080; text-decoration-color: #800080\">│</span>\n",
       "<span style=\"color: #800080; text-decoration-color: #800080\">│</span> <span style=\"color: #66d9ef; text-decoration-color: #66d9ef; background-color: #272822\">JOIN</span><span style=\"color: #f8f8f2; text-decoration-color: #f8f8f2; background-color: #272822\"> projectx</span><span style=\"color: #ff4689; text-decoration-color: #ff4689; background-color: #272822\">-</span><span style=\"color: #f8f8f2; text-decoration-color: #f8f8f2; background-color: #272822\">pipeline.dataset.google_ads_campaign_detailspostfix gcd </span><span style=\"background-color: #272822\">                                         </span> <span style=\"color: #800080; text-decoration-color: #800080\">│</span>\n",
       "<span style=\"color: #800080; text-decoration-color: #800080\">│</span> <span style=\"color: #66d9ef; text-decoration-color: #66d9ef; background-color: #272822\">ON</span><span style=\"color: #f8f8f2; text-decoration-color: #f8f8f2; background-color: #272822\"> gcp.campaign_id </span><span style=\"color: #ff4689; text-decoration-color: #ff4689; background-color: #272822\">=</span><span style=\"color: #f8f8f2; text-decoration-color: #f8f8f2; background-color: #272822\"> gcd.campaign_id</span><span style=\"background-color: #272822\">                                                                           </span> <span style=\"color: #800080; text-decoration-color: #800080\">│</span>\n",
       "<span style=\"color: #800080; text-decoration-color: #800080\">│</span> <span style=\"color: #66d9ef; text-decoration-color: #66d9ef; background-color: #272822\">WHERE</span><span style=\"color: #f8f8f2; text-decoration-color: #f8f8f2; background-color: #272822\"> gcd.customer_id </span><span style=\"color: #ff4689; text-decoration-color: #ff4689; background-color: #272822\">=</span><span style=\"color: #f8f8f2; text-decoration-color: #f8f8f2; background-color: #272822\"> </span><span style=\"color: #ae81ff; text-decoration-color: #ae81ff; background-color: #272822\">3424742100</span><span style=\"background-color: #272822\">                                                                             </span> <span style=\"color: #800080; text-decoration-color: #800080\">│</span>\n",
       "<span style=\"color: #800080; text-decoration-color: #800080\">│</span> <span style=\"color: #66d9ef; text-decoration-color: #66d9ef; background-color: #272822\">AND</span><span style=\"color: #f8f8f2; text-decoration-color: #f8f8f2; background-color: #272822\"> gcp.segments_date </span><span style=\"color: #66d9ef; text-decoration-color: #66d9ef; background-color: #272822\">BETWEEN</span><span style=\"color: #f8f8f2; text-decoration-color: #f8f8f2; background-color: #272822\"> DATE_SUB(</span><span style=\"color: #66d9ef; text-decoration-color: #66d9ef; background-color: #272822\">CURRENT_DATE</span><span style=\"color: #f8f8f2; text-decoration-color: #f8f8f2; background-color: #272822\">(), INTERVAL </span><span style=\"color: #ae81ff; text-decoration-color: #ae81ff; background-color: #272822\">14</span><span style=\"color: #f8f8f2; text-decoration-color: #f8f8f2; background-color: #272822\"> </span><span style=\"color: #66d9ef; text-decoration-color: #66d9ef; background-color: #272822\">DAY</span><span style=\"color: #f8f8f2; text-decoration-color: #f8f8f2; background-color: #272822\">) </span><span style=\"color: #66d9ef; text-decoration-color: #66d9ef; background-color: #272822\">AND</span><span style=\"color: #f8f8f2; text-decoration-color: #f8f8f2; background-color: #272822\"> DATE_SUB(</span><span style=\"color: #66d9ef; text-decoration-color: #66d9ef; background-color: #272822\">CURRENT_DATE</span><span style=\"color: #f8f8f2; text-decoration-color: #f8f8f2; background-color: #272822\">(), INTERVAL </span><span style=\"color: #ae81ff; text-decoration-color: #ae81ff; background-color: #272822\">1</span> <span style=\"color: #800080; text-decoration-color: #800080\">│</span>\n",
       "<span style=\"color: #800080; text-decoration-color: #800080\">│</span> <span style=\"color: #66d9ef; text-decoration-color: #66d9ef; background-color: #272822\">GROUP</span><span style=\"color: #f8f8f2; text-decoration-color: #f8f8f2; background-color: #272822\"> </span><span style=\"color: #66d9ef; text-decoration-color: #66d9ef; background-color: #272822\">BY</span><span style=\"color: #f8f8f2; text-decoration-color: #f8f8f2; background-color: #272822\"> gcd.campaign_id, gcd.campaign_name</span><span style=\"background-color: #272822\">                                                                    </span> <span style=\"color: #800080; text-decoration-color: #800080\">│</span>\n",
       "<span style=\"color: #800080; text-decoration-color: #800080\">│</span> <span style=\"color: #66d9ef; text-decoration-color: #66d9ef; background-color: #272822\">HAVING</span><span style=\"color: #f8f8f2; text-decoration-color: #f8f8f2; background-color: #272822\"> conversion_rate </span><span style=\"color: #ff4689; text-decoration-color: #ff4689; background-color: #272822\">&gt;</span><span style=\"color: #f8f8f2; text-decoration-color: #f8f8f2; background-color: #272822\"> </span><span style=\"color: #ae81ff; text-decoration-color: #ae81ff; background-color: #272822\">0</span><span style=\"background-color: #272822\">                                                                                     </span> <span style=\"color: #800080; text-decoration-color: #800080\">│</span>\n",
       "<span style=\"color: #800080; text-decoration-color: #800080\">│</span> <span style=\"color: #66d9ef; text-decoration-color: #66d9ef; background-color: #272822\">ORDER</span><span style=\"color: #f8f8f2; text-decoration-color: #f8f8f2; background-color: #272822\"> </span><span style=\"color: #66d9ef; text-decoration-color: #66d9ef; background-color: #272822\">BY</span><span style=\"color: #f8f8f2; text-decoration-color: #f8f8f2; background-color: #272822\"> conversion_rate </span><span style=\"color: #66d9ef; text-decoration-color: #66d9ef; background-color: #272822\">ASC</span><span style=\"background-color: #272822\">                                                                                   </span> <span style=\"color: #800080; text-decoration-color: #800080\">│</span>\n",
       "<span style=\"color: #800080; text-decoration-color: #800080\">│</span> <span style=\"color: #66d9ef; text-decoration-color: #66d9ef; background-color: #272822\">LIMIT</span><span style=\"color: #f8f8f2; text-decoration-color: #f8f8f2; background-color: #272822\"> </span><span style=\"color: #ae81ff; text-decoration-color: #ae81ff; background-color: #272822\">1</span><span style=\"background-color: #272822\">                                                                                                        </span> <span style=\"color: #800080; text-decoration-color: #800080\">│</span>\n",
       "<span style=\"color: #800080; text-decoration-color: #800080\">╰─────────────────────────────────────────────────────────────────────────────────────────────────────────────────╯</span>\n",
       "</pre>\n"
      ],
      "text/plain": [
       "\u001b[35m╭─\u001b[0m\u001b[35m────────────────────────────────────────────────\u001b[0m\u001b[35m 🧠 SQL Query \u001b[0m\u001b[35m─────────────────────────────────────────────────\u001b[0m\u001b[35m─╮\u001b[0m\n",
       "\u001b[35m│\u001b[0m \u001b[38;2;102;217;239;48;2;39;40;34mSELECT\u001b[0m\u001b[38;2;248;248;242;48;2;39;40;34m \u001b[0m\u001b[38;2;248;248;242;48;2;39;40;34mgcd\u001b[0m\u001b[38;2;248;248;242;48;2;39;40;34m.\u001b[0m\u001b[38;2;248;248;242;48;2;39;40;34mcampaign_name\u001b[0m\u001b[38;2;248;248;242;48;2;39;40;34m,\u001b[0m\u001b[38;2;248;248;242;48;2;39;40;34m \u001b[0m\u001b[38;2;248;248;242;48;2;39;40;34mSAFE_DIVIDE\u001b[0m\u001b[38;2;248;248;242;48;2;39;40;34m(\u001b[0m\u001b[38;2;102;217;239;48;2;39;40;34mSUM\u001b[0m\u001b[38;2;248;248;242;48;2;39;40;34m(\u001b[0m\u001b[38;2;248;248;242;48;2;39;40;34mgcp\u001b[0m\u001b[38;2;248;248;242;48;2;39;40;34m.\u001b[0m\u001b[38;2;248;248;242;48;2;39;40;34mmetrics_conversions\u001b[0m\u001b[38;2;248;248;242;48;2;39;40;34m)\u001b[0m\u001b[38;2;248;248;242;48;2;39;40;34m,\u001b[0m\u001b[38;2;248;248;242;48;2;39;40;34m \u001b[0m\u001b[38;2;102;217;239;48;2;39;40;34mSUM\u001b[0m\u001b[38;2;248;248;242;48;2;39;40;34m(\u001b[0m\u001b[38;2;248;248;242;48;2;39;40;34mgcp\u001b[0m\u001b[38;2;248;248;242;48;2;39;40;34m.\u001b[0m\u001b[38;2;248;248;242;48;2;39;40;34mmetrics_interactions\u001b[0m\u001b[38;2;248;248;242;48;2;39;40;34m)\u001b[0m\u001b[38;2;248;248;242;48;2;39;40;34m)\u001b[0m\u001b[38;2;248;248;242;48;2;39;40;34m \u001b[0m\u001b[38;2;255;70;137;48;2;39;40;34m*\u001b[0m\u001b[38;2;248;248;242;48;2;39;40;34m \u001b[0m\u001b[38;2;174;129;255;48;2;39;40;34m100\u001b[0m\u001b[38;2;248;248;242;48;2;39;40;34m \u001b[0m\u001b[38;2;102;217;239;48;2;39;40;34mAS\u001b[0m\u001b[38;2;248;248;242;48;2;39;40;34m \u001b[0m\u001b[38;2;248;248;242;48;2;39;40;34mcon\u001b[0m \u001b[35m│\u001b[0m\n",
       "\u001b[35m│\u001b[0m \u001b[38;2;102;217;239;48;2;39;40;34mFROM\u001b[0m\u001b[38;2;248;248;242;48;2;39;40;34m \u001b[0m\u001b[38;2;248;248;242;48;2;39;40;34mprojectx\u001b[0m\u001b[38;2;255;70;137;48;2;39;40;34m-\u001b[0m\u001b[38;2;248;248;242;48;2;39;40;34mpipeline\u001b[0m\u001b[38;2;248;248;242;48;2;39;40;34m.\u001b[0m\u001b[38;2;248;248;242;48;2;39;40;34mdataset\u001b[0m\u001b[38;2;248;248;242;48;2;39;40;34m.\u001b[0m\u001b[38;2;248;248;242;48;2;39;40;34mgoogle_ads_campaign_performancepostfix\u001b[0m\u001b[38;2;248;248;242;48;2;39;40;34m \u001b[0m\u001b[38;2;248;248;242;48;2;39;40;34mgcp\u001b[0m\u001b[48;2;39;40;34m                                      \u001b[0m \u001b[35m│\u001b[0m\n",
       "\u001b[35m│\u001b[0m \u001b[38;2;102;217;239;48;2;39;40;34mJOIN\u001b[0m\u001b[38;2;248;248;242;48;2;39;40;34m \u001b[0m\u001b[38;2;248;248;242;48;2;39;40;34mprojectx\u001b[0m\u001b[38;2;255;70;137;48;2;39;40;34m-\u001b[0m\u001b[38;2;248;248;242;48;2;39;40;34mpipeline\u001b[0m\u001b[38;2;248;248;242;48;2;39;40;34m.\u001b[0m\u001b[38;2;248;248;242;48;2;39;40;34mdataset\u001b[0m\u001b[38;2;248;248;242;48;2;39;40;34m.\u001b[0m\u001b[38;2;248;248;242;48;2;39;40;34mgoogle_ads_campaign_detailspostfix\u001b[0m\u001b[38;2;248;248;242;48;2;39;40;34m \u001b[0m\u001b[38;2;248;248;242;48;2;39;40;34mgcd\u001b[0m\u001b[38;2;248;248;242;48;2;39;40;34m \u001b[0m\u001b[48;2;39;40;34m                                         \u001b[0m \u001b[35m│\u001b[0m\n",
       "\u001b[35m│\u001b[0m \u001b[38;2;102;217;239;48;2;39;40;34mON\u001b[0m\u001b[38;2;248;248;242;48;2;39;40;34m \u001b[0m\u001b[38;2;248;248;242;48;2;39;40;34mgcp\u001b[0m\u001b[38;2;248;248;242;48;2;39;40;34m.\u001b[0m\u001b[38;2;248;248;242;48;2;39;40;34mcampaign_id\u001b[0m\u001b[38;2;248;248;242;48;2;39;40;34m \u001b[0m\u001b[38;2;255;70;137;48;2;39;40;34m=\u001b[0m\u001b[38;2;248;248;242;48;2;39;40;34m \u001b[0m\u001b[38;2;248;248;242;48;2;39;40;34mgcd\u001b[0m\u001b[38;2;248;248;242;48;2;39;40;34m.\u001b[0m\u001b[38;2;248;248;242;48;2;39;40;34mcampaign_id\u001b[0m\u001b[48;2;39;40;34m                                                                           \u001b[0m \u001b[35m│\u001b[0m\n",
       "\u001b[35m│\u001b[0m \u001b[38;2;102;217;239;48;2;39;40;34mWHERE\u001b[0m\u001b[38;2;248;248;242;48;2;39;40;34m \u001b[0m\u001b[38;2;248;248;242;48;2;39;40;34mgcd\u001b[0m\u001b[38;2;248;248;242;48;2;39;40;34m.\u001b[0m\u001b[38;2;248;248;242;48;2;39;40;34mcustomer_id\u001b[0m\u001b[38;2;248;248;242;48;2;39;40;34m \u001b[0m\u001b[38;2;255;70;137;48;2;39;40;34m=\u001b[0m\u001b[38;2;248;248;242;48;2;39;40;34m \u001b[0m\u001b[38;2;174;129;255;48;2;39;40;34m3424742100\u001b[0m\u001b[48;2;39;40;34m                                                                             \u001b[0m \u001b[35m│\u001b[0m\n",
       "\u001b[35m│\u001b[0m \u001b[38;2;102;217;239;48;2;39;40;34mAND\u001b[0m\u001b[38;2;248;248;242;48;2;39;40;34m \u001b[0m\u001b[38;2;248;248;242;48;2;39;40;34mgcp\u001b[0m\u001b[38;2;248;248;242;48;2;39;40;34m.\u001b[0m\u001b[38;2;248;248;242;48;2;39;40;34msegments_date\u001b[0m\u001b[38;2;248;248;242;48;2;39;40;34m \u001b[0m\u001b[38;2;102;217;239;48;2;39;40;34mBETWEEN\u001b[0m\u001b[38;2;248;248;242;48;2;39;40;34m \u001b[0m\u001b[38;2;248;248;242;48;2;39;40;34mDATE_SUB\u001b[0m\u001b[38;2;248;248;242;48;2;39;40;34m(\u001b[0m\u001b[38;2;102;217;239;48;2;39;40;34mCURRENT_DATE\u001b[0m\u001b[38;2;248;248;242;48;2;39;40;34m(\u001b[0m\u001b[38;2;248;248;242;48;2;39;40;34m)\u001b[0m\u001b[38;2;248;248;242;48;2;39;40;34m,\u001b[0m\u001b[38;2;248;248;242;48;2;39;40;34m \u001b[0m\u001b[38;2;248;248;242;48;2;39;40;34mINTERVAL\u001b[0m\u001b[38;2;248;248;242;48;2;39;40;34m \u001b[0m\u001b[38;2;174;129;255;48;2;39;40;34m14\u001b[0m\u001b[38;2;248;248;242;48;2;39;40;34m \u001b[0m\u001b[38;2;102;217;239;48;2;39;40;34mDAY\u001b[0m\u001b[38;2;248;248;242;48;2;39;40;34m)\u001b[0m\u001b[38;2;248;248;242;48;2;39;40;34m \u001b[0m\u001b[38;2;102;217;239;48;2;39;40;34mAND\u001b[0m\u001b[38;2;248;248;242;48;2;39;40;34m \u001b[0m\u001b[38;2;248;248;242;48;2;39;40;34mDATE_SUB\u001b[0m\u001b[38;2;248;248;242;48;2;39;40;34m(\u001b[0m\u001b[38;2;102;217;239;48;2;39;40;34mCURRENT_DATE\u001b[0m\u001b[38;2;248;248;242;48;2;39;40;34m(\u001b[0m\u001b[38;2;248;248;242;48;2;39;40;34m)\u001b[0m\u001b[38;2;248;248;242;48;2;39;40;34m,\u001b[0m\u001b[38;2;248;248;242;48;2;39;40;34m \u001b[0m\u001b[38;2;248;248;242;48;2;39;40;34mINTERVAL\u001b[0m\u001b[38;2;248;248;242;48;2;39;40;34m \u001b[0m\u001b[38;2;174;129;255;48;2;39;40;34m1\u001b[0m \u001b[35m│\u001b[0m\n",
       "\u001b[35m│\u001b[0m \u001b[38;2;102;217;239;48;2;39;40;34mGROUP\u001b[0m\u001b[38;2;248;248;242;48;2;39;40;34m \u001b[0m\u001b[38;2;102;217;239;48;2;39;40;34mBY\u001b[0m\u001b[38;2;248;248;242;48;2;39;40;34m \u001b[0m\u001b[38;2;248;248;242;48;2;39;40;34mgcd\u001b[0m\u001b[38;2;248;248;242;48;2;39;40;34m.\u001b[0m\u001b[38;2;248;248;242;48;2;39;40;34mcampaign_id\u001b[0m\u001b[38;2;248;248;242;48;2;39;40;34m,\u001b[0m\u001b[38;2;248;248;242;48;2;39;40;34m \u001b[0m\u001b[38;2;248;248;242;48;2;39;40;34mgcd\u001b[0m\u001b[38;2;248;248;242;48;2;39;40;34m.\u001b[0m\u001b[38;2;248;248;242;48;2;39;40;34mcampaign_name\u001b[0m\u001b[48;2;39;40;34m                                                                    \u001b[0m \u001b[35m│\u001b[0m\n",
       "\u001b[35m│\u001b[0m \u001b[38;2;102;217;239;48;2;39;40;34mHAVING\u001b[0m\u001b[38;2;248;248;242;48;2;39;40;34m \u001b[0m\u001b[38;2;248;248;242;48;2;39;40;34mconversion_rate\u001b[0m\u001b[38;2;248;248;242;48;2;39;40;34m \u001b[0m\u001b[38;2;255;70;137;48;2;39;40;34m>\u001b[0m\u001b[38;2;248;248;242;48;2;39;40;34m \u001b[0m\u001b[38;2;174;129;255;48;2;39;40;34m0\u001b[0m\u001b[48;2;39;40;34m                                                                                     \u001b[0m \u001b[35m│\u001b[0m\n",
       "\u001b[35m│\u001b[0m \u001b[38;2;102;217;239;48;2;39;40;34mORDER\u001b[0m\u001b[38;2;248;248;242;48;2;39;40;34m \u001b[0m\u001b[38;2;102;217;239;48;2;39;40;34mBY\u001b[0m\u001b[38;2;248;248;242;48;2;39;40;34m \u001b[0m\u001b[38;2;248;248;242;48;2;39;40;34mconversion_rate\u001b[0m\u001b[38;2;248;248;242;48;2;39;40;34m \u001b[0m\u001b[38;2;102;217;239;48;2;39;40;34mASC\u001b[0m\u001b[48;2;39;40;34m                                                                                   \u001b[0m \u001b[35m│\u001b[0m\n",
       "\u001b[35m│\u001b[0m \u001b[38;2;102;217;239;48;2;39;40;34mLIMIT\u001b[0m\u001b[38;2;248;248;242;48;2;39;40;34m \u001b[0m\u001b[38;2;174;129;255;48;2;39;40;34m1\u001b[0m\u001b[48;2;39;40;34m                                                                                                        \u001b[0m \u001b[35m│\u001b[0m\n",
       "\u001b[35m╰─────────────────────────────────────────────────────────────────────────────────────────────────────────────────╯\u001b[0m\n"
      ]
     },
     "metadata": {},
     "output_type": "display_data"
    },
    {
     "data": {
      "text/html": [
       "<pre style=\"white-space:pre;overflow-x:auto;line-height:normal;font-family:Menlo,'DejaVu Sans Mono',consolas,'Courier New',monospace\">\n",
       "\n",
       "</pre>\n"
      ],
      "text/plain": [
       "\n",
       "\n"
      ]
     },
     "metadata": {},
     "output_type": "display_data"
    },
    {
     "data": {
      "text/html": [
       "<pre style=\"white-space:pre;overflow-x:auto;line-height:normal;font-family:Menlo,'DejaVu Sans Mono',consolas,'Courier New',monospace\"><span style=\"color: #008000; text-decoration-color: #008000\">──────────────────────────────────────────────────── </span><span style=\"color: #008000; text-decoration-color: #008000; font-weight: bold\">Match #</span><span style=\"color: #008000; text-decoration-color: #008000; font-weight: bold\">2</span><span style=\"color: #008000; text-decoration-color: #008000\"> ─────────────────────────────────────────────────────</span>\n",
       "</pre>\n"
      ],
      "text/plain": [
       "\u001b[32m──────────────────────────────────────────────────── \u001b[0m\u001b[1;32mMatch #\u001b[0m\u001b[1;32m2\u001b[0m\u001b[32m ─────────────────────────────────────────────────────\u001b[0m\n"
      ]
     },
     "metadata": {},
     "output_type": "display_data"
    },
    {
     "data": {
      "text/html": [
       "<pre style=\"white-space:pre;overflow-x:auto;line-height:normal;font-family:Menlo,'DejaVu Sans Mono',consolas,'Courier New',monospace\"><span style=\"color: #000080; text-decoration-color: #000080; font-weight: bold\">🔗 Similarity Score:</span> <span style=\"color: #800080; text-decoration-color: #800080; font-weight: bold\">60.19</span>%\n",
       "</pre>\n"
      ],
      "text/plain": [
       "\u001b[1;34m🔗 Similarity Score:\u001b[0m \u001b[1;35m60.19\u001b[0m%\n"
      ]
     },
     "metadata": {},
     "output_type": "display_data"
    },
    {
     "data": {
      "text/html": [
       "<pre style=\"white-space:pre;overflow-x:auto;line-height:normal;font-family:Menlo,'DejaVu Sans Mono',consolas,'Courier New',monospace\"><span style=\"color: #008080; text-decoration-color: #008080\">╭──────────────────────────────── 🔍 Retrieved Query ────────────────────────────────╮</span>\n",
       "<span style=\"color: #008080; text-decoration-color: #008080\">│</span> <span style=\"color: #008080; text-decoration-color: #008080; font-weight: bold\">What is the total number of campaigns with a conversion rate above 4% in may 2025.</span> <span style=\"color: #008080; text-decoration-color: #008080\">│</span>\n",
       "<span style=\"color: #008080; text-decoration-color: #008080\">╰────────────────────────────────────────────────────────────────────────────────────╯</span>\n",
       "</pre>\n"
      ],
      "text/plain": [
       "\u001b[36m╭─\u001b[0m\u001b[36m───────────────────────────────\u001b[0m\u001b[36m 🔍 Retrieved Query \u001b[0m\u001b[36m───────────────────────────────\u001b[0m\u001b[36m─╮\u001b[0m\n",
       "\u001b[36m│\u001b[0m \u001b[1;36mWhat is the total number of campaigns with a conversion rate above 4% in may 2025.\u001b[0m \u001b[36m│\u001b[0m\n",
       "\u001b[36m╰────────────────────────────────────────────────────────────────────────────────────╯\u001b[0m\n"
      ]
     },
     "metadata": {},
     "output_type": "display_data"
    },
    {
     "data": {
      "text/html": [
       "<pre style=\"white-space:pre;overflow-x:auto;line-height:normal;font-family:Menlo,'DejaVu Sans Mono',consolas,'Courier New',monospace\"><span style=\"color: #808000; text-decoration-color: #808000\">╭───── 📦 Tables ──────╮</span>\n",
       "<span style=\"color: #808000; text-decoration-color: #808000\">│</span> <span style=\"color: #808000; text-decoration-color: #808000; font-weight: bold\">campaign_performance</span> <span style=\"color: #808000; text-decoration-color: #808000\">│</span>\n",
       "<span style=\"color: #808000; text-decoration-color: #808000\">╰──────────────────────╯</span>\n",
       "</pre>\n"
      ],
      "text/plain": [
       "\u001b[33m╭─\u001b[0m\u001b[33m────\u001b[0m\u001b[33m 📦 Tables \u001b[0m\u001b[33m─────\u001b[0m\u001b[33m─╮\u001b[0m\n",
       "\u001b[33m│\u001b[0m \u001b[1;33mcampaign_performance\u001b[0m \u001b[33m│\u001b[0m\n",
       "\u001b[33m╰──────────────────────╯\u001b[0m\n"
      ]
     },
     "metadata": {},
     "output_type": "display_data"
    },
    {
     "data": {
      "text/html": [
       "<pre style=\"white-space:pre;overflow-x:auto;line-height:normal;font-family:Menlo,'DejaVu Sans Mono',consolas,'Courier New',monospace\"><span style=\"color: #000080; text-decoration-color: #000080\">╭──────────────────────────────────────────── 📊 Columns ─────────────────────────────────────────────╮</span>\n",
       "<span style=\"color: #000080; text-decoration-color: #000080\">│</span> <span style=\"color: #c0c0c0; text-decoration-color: #c0c0c0; font-weight: bold\">metrics_interactions, campaign_id, metrics_conversions, customer_id, segments_date, conversion_rate</span> <span style=\"color: #000080; text-decoration-color: #000080\">│</span>\n",
       "<span style=\"color: #000080; text-decoration-color: #000080\">╰─────────────────────────────────────────────────────────────────────────────────────────────────────╯</span>\n",
       "</pre>\n"
      ],
      "text/plain": [
       "\u001b[34m╭─\u001b[0m\u001b[34m───────────────────────────────────────────\u001b[0m\u001b[34m 📊 Columns \u001b[0m\u001b[34m────────────────────────────────────────────\u001b[0m\u001b[34m─╮\u001b[0m\n",
       "\u001b[34m│\u001b[0m \u001b[1;37mmetrics_interactions, campaign_id, metrics_conversions, customer_id, segments_date, conversion_rate\u001b[0m \u001b[34m│\u001b[0m\n",
       "\u001b[34m╰─────────────────────────────────────────────────────────────────────────────────────────────────────╯\u001b[0m\n"
      ]
     },
     "metadata": {},
     "output_type": "display_data"
    },
    {
     "data": {
      "text/html": [
       "<pre style=\"white-space:pre;overflow-x:auto;line-height:normal;font-family:Menlo,'DejaVu Sans Mono',consolas,'Courier New',monospace\"><span style=\"color: #800080; text-decoration-color: #800080\">╭───────────────────────────────────────────────── 🧠 SQL Query ──────────────────────────────────────────────────╮</span>\n",
       "<span style=\"color: #800080; text-decoration-color: #800080\">│</span> <span style=\"color: #66d9ef; text-decoration-color: #66d9ef; background-color: #272822\">SELECT</span><span style=\"color: #f8f8f2; text-decoration-color: #f8f8f2; background-color: #272822\"> </span><span style=\"color: #66d9ef; text-decoration-color: #66d9ef; background-color: #272822\">COUNT</span><span style=\"color: #f8f8f2; text-decoration-color: #f8f8f2; background-color: #272822\">(</span><span style=\"color: #ff4689; text-decoration-color: #ff4689; background-color: #272822\">*</span><span style=\"color: #f8f8f2; text-decoration-color: #f8f8f2; background-color: #272822\">) </span><span style=\"color: #66d9ef; text-decoration-color: #66d9ef; background-color: #272822\">AS</span><span style=\"color: #f8f8f2; text-decoration-color: #f8f8f2; background-color: #272822\"> total_campaigns_above_4pct_CR</span><span style=\"background-color: #272822\">                                                               </span> <span style=\"color: #800080; text-decoration-color: #800080\">│</span>\n",
       "<span style=\"color: #800080; text-decoration-color: #800080\">│</span> <span style=\"color: #66d9ef; text-decoration-color: #66d9ef; background-color: #272822\">FROM</span><span style=\"color: #f8f8f2; text-decoration-color: #f8f8f2; background-color: #272822\"> (</span><span style=\"background-color: #272822\">                                                                                                         </span> <span style=\"color: #800080; text-decoration-color: #800080\">│</span>\n",
       "<span style=\"color: #800080; text-decoration-color: #800080\">│</span> <span style=\"color: #f8f8f2; text-decoration-color: #f8f8f2; background-color: #272822\"> </span><span style=\"color: #66d9ef; text-decoration-color: #66d9ef; background-color: #272822\">SELECT</span><span style=\"color: #f8f8f2; text-decoration-color: #f8f8f2; background-color: #272822\"> </span><span style=\"background-color: #272822\">                                                                                                       </span> <span style=\"color: #800080; text-decoration-color: #800080\">│</span>\n",
       "<span style=\"color: #800080; text-decoration-color: #800080\">│</span> <span style=\"color: #f8f8f2; text-decoration-color: #f8f8f2; background-color: #272822\"> cp.campaign_id,</span><span style=\"background-color: #272822\">                                                                                               </span> <span style=\"color: #800080; text-decoration-color: #800080\">│</span>\n",
       "<span style=\"color: #800080; text-decoration-color: #800080\">│</span> <span style=\"color: #f8f8f2; text-decoration-color: #f8f8f2; background-color: #272822\"> SAFE_MULTIPLY(</span><span style=\"background-color: #272822\">                                                                                                </span> <span style=\"color: #800080; text-decoration-color: #800080\">│</span>\n",
       "<span style=\"color: #800080; text-decoration-color: #800080\">│</span> <span style=\"color: #f8f8f2; text-decoration-color: #f8f8f2; background-color: #272822\"> SAFE_DIVIDE(</span><span style=\"color: #66d9ef; text-decoration-color: #66d9ef; background-color: #272822\">SUM</span><span style=\"color: #f8f8f2; text-decoration-color: #f8f8f2; background-color: #272822\">(cp.metrics_conversions), </span><span style=\"color: #66d9ef; text-decoration-color: #66d9ef; background-color: #272822\">SUM</span><span style=\"color: #f8f8f2; text-decoration-color: #f8f8f2; background-color: #272822\">(cp.metrics_interactions)),</span><span style=\"background-color: #272822\">                                       </span> <span style=\"color: #800080; text-decoration-color: #800080\">│</span>\n",
       "<span style=\"color: #800080; text-decoration-color: #800080\">│</span> <span style=\"color: #f8f8f2; text-decoration-color: #f8f8f2; background-color: #272822\"> </span><span style=\"color: #ae81ff; text-decoration-color: #ae81ff; background-color: #272822\">100</span><span style=\"background-color: #272822\">                                                                                                           </span> <span style=\"color: #800080; text-decoration-color: #800080\">│</span>\n",
       "<span style=\"color: #800080; text-decoration-color: #800080\">│</span> <span style=\"color: #f8f8f2; text-decoration-color: #f8f8f2; background-color: #272822\"> ) </span><span style=\"color: #66d9ef; text-decoration-color: #66d9ef; background-color: #272822\">AS</span><span style=\"color: #f8f8f2; text-decoration-color: #f8f8f2; background-color: #272822\"> conversion_rate</span><span style=\"background-color: #272822\">                                                                                          </span> <span style=\"color: #800080; text-decoration-color: #800080\">│</span>\n",
       "<span style=\"color: #800080; text-decoration-color: #800080\">│</span> <span style=\"color: #f8f8f2; text-decoration-color: #f8f8f2; background-color: #272822\"> </span><span style=\"color: #66d9ef; text-decoration-color: #66d9ef; background-color: #272822\">FROM</span><span style=\"color: #f8f8f2; text-decoration-color: #f8f8f2; background-color: #272822\"> </span><span style=\"color: #ff4689; text-decoration-color: #ff4689; background-color: #272822\">`</span><span style=\"color: #f8f8f2; text-decoration-color: #f8f8f2; background-color: #272822\">projectx</span><span style=\"color: #ff4689; text-decoration-color: #ff4689; background-color: #272822\">-</span><span style=\"color: #f8f8f2; text-decoration-color: #f8f8f2; background-color: #272822\">pipeline.dataset.google_ads_campaign_performancepostfix</span><span style=\"color: #ff4689; text-decoration-color: #ff4689; background-color: #272822\">`</span><span style=\"color: #f8f8f2; text-decoration-color: #f8f8f2; background-color: #272822\"> cp</span><span style=\"background-color: #272822\">                                    </span> <span style=\"color: #800080; text-decoration-color: #800080\">│</span>\n",
       "<span style=\"color: #800080; text-decoration-color: #800080\">│</span> <span style=\"color: #f8f8f2; text-decoration-color: #f8f8f2; background-color: #272822\"> </span><span style=\"color: #66d9ef; text-decoration-color: #66d9ef; background-color: #272822\">WHERE</span><span style=\"color: #f8f8f2; text-decoration-color: #f8f8f2; background-color: #272822\"> cp.customer_id </span><span style=\"color: #ff4689; text-decoration-color: #ff4689; background-color: #272822\">=</span><span style=\"color: #f8f8f2; text-decoration-color: #f8f8f2; background-color: #272822\"> </span><span style=\"color: #ae81ff; text-decoration-color: #ae81ff; background-color: #272822\">3424742100</span><span style=\"background-color: #272822\">                                                                             </span> <span style=\"color: #800080; text-decoration-color: #800080\">│</span>\n",
       "<span style=\"color: #800080; text-decoration-color: #800080\">│</span> <span style=\"color: #f8f8f2; text-decoration-color: #f8f8f2; background-color: #272822\"> </span><span style=\"color: #66d9ef; text-decoration-color: #66d9ef; background-color: #272822\">AND</span><span style=\"color: #f8f8f2; text-decoration-color: #f8f8f2; background-color: #272822\"> cp.segments_date </span><span style=\"color: #66d9ef; text-decoration-color: #66d9ef; background-color: #272822\">BETWEEN</span><span style=\"color: #f8f8f2; text-decoration-color: #f8f8f2; background-color: #272822\"> </span><span style=\"color: #e6db74; text-decoration-color: #e6db74; background-color: #272822\">'2025-05-01'</span><span style=\"color: #f8f8f2; text-decoration-color: #f8f8f2; background-color: #272822\"> </span><span style=\"color: #66d9ef; text-decoration-color: #66d9ef; background-color: #272822\">AND</span><span style=\"color: #f8f8f2; text-decoration-color: #f8f8f2; background-color: #272822\"> </span><span style=\"color: #e6db74; text-decoration-color: #e6db74; background-color: #272822\">'2025-05-31'</span><span style=\"background-color: #272822\">                                                    </span> <span style=\"color: #800080; text-decoration-color: #800080\">│</span>\n",
       "<span style=\"color: #800080; text-decoration-color: #800080\">│</span> <span style=\"color: #f8f8f2; text-decoration-color: #f8f8f2; background-color: #272822\"> </span><span style=\"color: #66d9ef; text-decoration-color: #66d9ef; background-color: #272822\">GROUP</span><span style=\"color: #f8f8f2; text-decoration-color: #f8f8f2; background-color: #272822\"> </span><span style=\"color: #66d9ef; text-decoration-color: #66d9ef; background-color: #272822\">BY</span><span style=\"color: #f8f8f2; text-decoration-color: #f8f8f2; background-color: #272822\"> cp.campaign_id</span><span style=\"background-color: #272822\">                                                                                       </span> <span style=\"color: #800080; text-decoration-color: #800080\">│</span>\n",
       "<span style=\"color: #800080; text-decoration-color: #800080\">│</span> <span style=\"color: #f8f8f2; text-decoration-color: #f8f8f2; background-color: #272822\"> </span><span style=\"color: #66d9ef; text-decoration-color: #66d9ef; background-color: #272822\">HAVING</span><span style=\"color: #f8f8f2; text-decoration-color: #f8f8f2; background-color: #272822\"> conversion_rate </span><span style=\"color: #ff4689; text-decoration-color: #ff4689; background-color: #272822\">&gt;</span><span style=\"color: #f8f8f2; text-decoration-color: #f8f8f2; background-color: #272822\"> </span><span style=\"color: #ae81ff; text-decoration-color: #ae81ff; background-color: #272822\">4</span><span style=\"background-color: #272822\">                                                                                    </span> <span style=\"color: #800080; text-decoration-color: #800080\">│</span>\n",
       "<span style=\"color: #800080; text-decoration-color: #800080\">│</span> <span style=\"color: #f8f8f2; text-decoration-color: #f8f8f2; background-color: #272822\">) </span><span style=\"color: #66d9ef; text-decoration-color: #66d9ef; background-color: #272822\">AS</span><span style=\"color: #f8f8f2; text-decoration-color: #f8f8f2; background-color: #272822\"> campaign_cr;</span><span style=\"background-color: #272822\">                                                                                              </span> <span style=\"color: #800080; text-decoration-color: #800080\">│</span>\n",
       "<span style=\"color: #800080; text-decoration-color: #800080\">╰─────────────────────────────────────────────────────────────────────────────────────────────────────────────────╯</span>\n",
       "</pre>\n"
      ],
      "text/plain": [
       "\u001b[35m╭─\u001b[0m\u001b[35m────────────────────────────────────────────────\u001b[0m\u001b[35m 🧠 SQL Query \u001b[0m\u001b[35m─────────────────────────────────────────────────\u001b[0m\u001b[35m─╮\u001b[0m\n",
       "\u001b[35m│\u001b[0m \u001b[38;2;102;217;239;48;2;39;40;34mSELECT\u001b[0m\u001b[38;2;248;248;242;48;2;39;40;34m \u001b[0m\u001b[38;2;102;217;239;48;2;39;40;34mCOUNT\u001b[0m\u001b[38;2;248;248;242;48;2;39;40;34m(\u001b[0m\u001b[38;2;255;70;137;48;2;39;40;34m*\u001b[0m\u001b[38;2;248;248;242;48;2;39;40;34m)\u001b[0m\u001b[38;2;248;248;242;48;2;39;40;34m \u001b[0m\u001b[38;2;102;217;239;48;2;39;40;34mAS\u001b[0m\u001b[38;2;248;248;242;48;2;39;40;34m \u001b[0m\u001b[38;2;248;248;242;48;2;39;40;34mtotal_campaigns_above_4pct_CR\u001b[0m\u001b[48;2;39;40;34m                                                               \u001b[0m \u001b[35m│\u001b[0m\n",
       "\u001b[35m│\u001b[0m \u001b[38;2;102;217;239;48;2;39;40;34mFROM\u001b[0m\u001b[38;2;248;248;242;48;2;39;40;34m \u001b[0m\u001b[38;2;248;248;242;48;2;39;40;34m(\u001b[0m\u001b[48;2;39;40;34m                                                                                                         \u001b[0m \u001b[35m│\u001b[0m\n",
       "\u001b[35m│\u001b[0m \u001b[38;2;248;248;242;48;2;39;40;34m \u001b[0m\u001b[38;2;102;217;239;48;2;39;40;34mSELECT\u001b[0m\u001b[38;2;248;248;242;48;2;39;40;34m \u001b[0m\u001b[48;2;39;40;34m                                                                                                       \u001b[0m \u001b[35m│\u001b[0m\n",
       "\u001b[35m│\u001b[0m \u001b[38;2;248;248;242;48;2;39;40;34m \u001b[0m\u001b[38;2;248;248;242;48;2;39;40;34mcp\u001b[0m\u001b[38;2;248;248;242;48;2;39;40;34m.\u001b[0m\u001b[38;2;248;248;242;48;2;39;40;34mcampaign_id\u001b[0m\u001b[38;2;248;248;242;48;2;39;40;34m,\u001b[0m\u001b[48;2;39;40;34m                                                                                               \u001b[0m \u001b[35m│\u001b[0m\n",
       "\u001b[35m│\u001b[0m \u001b[38;2;248;248;242;48;2;39;40;34m \u001b[0m\u001b[38;2;248;248;242;48;2;39;40;34mSAFE_MULTIPLY\u001b[0m\u001b[38;2;248;248;242;48;2;39;40;34m(\u001b[0m\u001b[48;2;39;40;34m                                                                                                \u001b[0m \u001b[35m│\u001b[0m\n",
       "\u001b[35m│\u001b[0m \u001b[38;2;248;248;242;48;2;39;40;34m \u001b[0m\u001b[38;2;248;248;242;48;2;39;40;34mSAFE_DIVIDE\u001b[0m\u001b[38;2;248;248;242;48;2;39;40;34m(\u001b[0m\u001b[38;2;102;217;239;48;2;39;40;34mSUM\u001b[0m\u001b[38;2;248;248;242;48;2;39;40;34m(\u001b[0m\u001b[38;2;248;248;242;48;2;39;40;34mcp\u001b[0m\u001b[38;2;248;248;242;48;2;39;40;34m.\u001b[0m\u001b[38;2;248;248;242;48;2;39;40;34mmetrics_conversions\u001b[0m\u001b[38;2;248;248;242;48;2;39;40;34m)\u001b[0m\u001b[38;2;248;248;242;48;2;39;40;34m,\u001b[0m\u001b[38;2;248;248;242;48;2;39;40;34m \u001b[0m\u001b[38;2;102;217;239;48;2;39;40;34mSUM\u001b[0m\u001b[38;2;248;248;242;48;2;39;40;34m(\u001b[0m\u001b[38;2;248;248;242;48;2;39;40;34mcp\u001b[0m\u001b[38;2;248;248;242;48;2;39;40;34m.\u001b[0m\u001b[38;2;248;248;242;48;2;39;40;34mmetrics_interactions\u001b[0m\u001b[38;2;248;248;242;48;2;39;40;34m)\u001b[0m\u001b[38;2;248;248;242;48;2;39;40;34m)\u001b[0m\u001b[38;2;248;248;242;48;2;39;40;34m,\u001b[0m\u001b[48;2;39;40;34m                                       \u001b[0m \u001b[35m│\u001b[0m\n",
       "\u001b[35m│\u001b[0m \u001b[38;2;248;248;242;48;2;39;40;34m \u001b[0m\u001b[38;2;174;129;255;48;2;39;40;34m100\u001b[0m\u001b[48;2;39;40;34m                                                                                                           \u001b[0m \u001b[35m│\u001b[0m\n",
       "\u001b[35m│\u001b[0m \u001b[38;2;248;248;242;48;2;39;40;34m \u001b[0m\u001b[38;2;248;248;242;48;2;39;40;34m)\u001b[0m\u001b[38;2;248;248;242;48;2;39;40;34m \u001b[0m\u001b[38;2;102;217;239;48;2;39;40;34mAS\u001b[0m\u001b[38;2;248;248;242;48;2;39;40;34m \u001b[0m\u001b[38;2;248;248;242;48;2;39;40;34mconversion_rate\u001b[0m\u001b[48;2;39;40;34m                                                                                          \u001b[0m \u001b[35m│\u001b[0m\n",
       "\u001b[35m│\u001b[0m \u001b[38;2;248;248;242;48;2;39;40;34m \u001b[0m\u001b[38;2;102;217;239;48;2;39;40;34mFROM\u001b[0m\u001b[38;2;248;248;242;48;2;39;40;34m \u001b[0m\u001b[38;2;255;70;137;48;2;39;40;34m`\u001b[0m\u001b[38;2;248;248;242;48;2;39;40;34mprojectx\u001b[0m\u001b[38;2;255;70;137;48;2;39;40;34m-\u001b[0m\u001b[38;2;248;248;242;48;2;39;40;34mpipeline\u001b[0m\u001b[38;2;248;248;242;48;2;39;40;34m.\u001b[0m\u001b[38;2;248;248;242;48;2;39;40;34mdataset\u001b[0m\u001b[38;2;248;248;242;48;2;39;40;34m.\u001b[0m\u001b[38;2;248;248;242;48;2;39;40;34mgoogle_ads_campaign_performancepostfix\u001b[0m\u001b[38;2;255;70;137;48;2;39;40;34m`\u001b[0m\u001b[38;2;248;248;242;48;2;39;40;34m \u001b[0m\u001b[38;2;248;248;242;48;2;39;40;34mcp\u001b[0m\u001b[48;2;39;40;34m                                    \u001b[0m \u001b[35m│\u001b[0m\n",
       "\u001b[35m│\u001b[0m \u001b[38;2;248;248;242;48;2;39;40;34m \u001b[0m\u001b[38;2;102;217;239;48;2;39;40;34mWHERE\u001b[0m\u001b[38;2;248;248;242;48;2;39;40;34m \u001b[0m\u001b[38;2;248;248;242;48;2;39;40;34mcp\u001b[0m\u001b[38;2;248;248;242;48;2;39;40;34m.\u001b[0m\u001b[38;2;248;248;242;48;2;39;40;34mcustomer_id\u001b[0m\u001b[38;2;248;248;242;48;2;39;40;34m \u001b[0m\u001b[38;2;255;70;137;48;2;39;40;34m=\u001b[0m\u001b[38;2;248;248;242;48;2;39;40;34m \u001b[0m\u001b[38;2;174;129;255;48;2;39;40;34m3424742100\u001b[0m\u001b[48;2;39;40;34m                                                                             \u001b[0m \u001b[35m│\u001b[0m\n",
       "\u001b[35m│\u001b[0m \u001b[38;2;248;248;242;48;2;39;40;34m \u001b[0m\u001b[38;2;102;217;239;48;2;39;40;34mAND\u001b[0m\u001b[38;2;248;248;242;48;2;39;40;34m \u001b[0m\u001b[38;2;248;248;242;48;2;39;40;34mcp\u001b[0m\u001b[38;2;248;248;242;48;2;39;40;34m.\u001b[0m\u001b[38;2;248;248;242;48;2;39;40;34msegments_date\u001b[0m\u001b[38;2;248;248;242;48;2;39;40;34m \u001b[0m\u001b[38;2;102;217;239;48;2;39;40;34mBETWEEN\u001b[0m\u001b[38;2;248;248;242;48;2;39;40;34m \u001b[0m\u001b[38;2;230;219;116;48;2;39;40;34m'2025-05-01'\u001b[0m\u001b[38;2;248;248;242;48;2;39;40;34m \u001b[0m\u001b[38;2;102;217;239;48;2;39;40;34mAND\u001b[0m\u001b[38;2;248;248;242;48;2;39;40;34m \u001b[0m\u001b[38;2;230;219;116;48;2;39;40;34m'2025-05-31'\u001b[0m\u001b[48;2;39;40;34m                                                    \u001b[0m \u001b[35m│\u001b[0m\n",
       "\u001b[35m│\u001b[0m \u001b[38;2;248;248;242;48;2;39;40;34m \u001b[0m\u001b[38;2;102;217;239;48;2;39;40;34mGROUP\u001b[0m\u001b[38;2;248;248;242;48;2;39;40;34m \u001b[0m\u001b[38;2;102;217;239;48;2;39;40;34mBY\u001b[0m\u001b[38;2;248;248;242;48;2;39;40;34m \u001b[0m\u001b[38;2;248;248;242;48;2;39;40;34mcp\u001b[0m\u001b[38;2;248;248;242;48;2;39;40;34m.\u001b[0m\u001b[38;2;248;248;242;48;2;39;40;34mcampaign_id\u001b[0m\u001b[48;2;39;40;34m                                                                                       \u001b[0m \u001b[35m│\u001b[0m\n",
       "\u001b[35m│\u001b[0m \u001b[38;2;248;248;242;48;2;39;40;34m \u001b[0m\u001b[38;2;102;217;239;48;2;39;40;34mHAVING\u001b[0m\u001b[38;2;248;248;242;48;2;39;40;34m \u001b[0m\u001b[38;2;248;248;242;48;2;39;40;34mconversion_rate\u001b[0m\u001b[38;2;248;248;242;48;2;39;40;34m \u001b[0m\u001b[38;2;255;70;137;48;2;39;40;34m>\u001b[0m\u001b[38;2;248;248;242;48;2;39;40;34m \u001b[0m\u001b[38;2;174;129;255;48;2;39;40;34m4\u001b[0m\u001b[48;2;39;40;34m                                                                                    \u001b[0m \u001b[35m│\u001b[0m\n",
       "\u001b[35m│\u001b[0m \u001b[38;2;248;248;242;48;2;39;40;34m)\u001b[0m\u001b[38;2;248;248;242;48;2;39;40;34m \u001b[0m\u001b[38;2;102;217;239;48;2;39;40;34mAS\u001b[0m\u001b[38;2;248;248;242;48;2;39;40;34m \u001b[0m\u001b[38;2;248;248;242;48;2;39;40;34mcampaign_cr\u001b[0m\u001b[38;2;248;248;242;48;2;39;40;34m;\u001b[0m\u001b[48;2;39;40;34m                                                                                              \u001b[0m \u001b[35m│\u001b[0m\n",
       "\u001b[35m╰─────────────────────────────────────────────────────────────────────────────────────────────────────────────────╯\u001b[0m\n"
      ]
     },
     "metadata": {},
     "output_type": "display_data"
    },
    {
     "data": {
      "text/html": [
       "<pre style=\"white-space:pre;overflow-x:auto;line-height:normal;font-family:Menlo,'DejaVu Sans Mono',consolas,'Courier New',monospace\">\n",
       "\n",
       "</pre>\n"
      ],
      "text/plain": [
       "\n",
       "\n"
      ]
     },
     "metadata": {},
     "output_type": "display_data"
    },
    {
     "data": {
      "text/html": [
       "<pre style=\"white-space:pre;overflow-x:auto;line-height:normal;font-family:Menlo,'DejaVu Sans Mono',consolas,'Courier New',monospace\"><span style=\"color: #008000; text-decoration-color: #008000\">──────────────────────────────────────────────────── </span><span style=\"color: #008000; text-decoration-color: #008000; font-weight: bold\">Match #</span><span style=\"color: #008000; text-decoration-color: #008000; font-weight: bold\">3</span><span style=\"color: #008000; text-decoration-color: #008000\"> ─────────────────────────────────────────────────────</span>\n",
       "</pre>\n"
      ],
      "text/plain": [
       "\u001b[32m──────────────────────────────────────────────────── \u001b[0m\u001b[1;32mMatch #\u001b[0m\u001b[1;32m3\u001b[0m\u001b[32m ─────────────────────────────────────────────────────\u001b[0m\n"
      ]
     },
     "metadata": {},
     "output_type": "display_data"
    },
    {
     "data": {
      "text/html": [
       "<pre style=\"white-space:pre;overflow-x:auto;line-height:normal;font-family:Menlo,'DejaVu Sans Mono',consolas,'Courier New',monospace\"><span style=\"color: #000080; text-decoration-color: #000080; font-weight: bold\">🔗 Similarity Score:</span> <span style=\"color: #800080; text-decoration-color: #800080; font-weight: bold\">58.15</span>%\n",
       "</pre>\n"
      ],
      "text/plain": [
       "\u001b[1;34m🔗 Similarity Score:\u001b[0m \u001b[1;35m58.15\u001b[0m%\n"
      ]
     },
     "metadata": {},
     "output_type": "display_data"
    },
    {
     "data": {
      "text/html": [
       "<pre style=\"white-space:pre;overflow-x:auto;line-height:normal;font-family:Menlo,'DejaVu Sans Mono',consolas,'Courier New',monospace\"><span style=\"color: #008080; text-decoration-color: #008080\">╭────────────────────────────────────── 🔍 Retrieved Query ───────────────────────────────────────╮</span>\n",
       "<span style=\"color: #008080; text-decoration-color: #008080\">│</span> <span style=\"color: #008080; text-decoration-color: #008080; font-weight: bold\">Identify campaigns with CAC greater than $50 and more than 100 conversions in the last 30 days.</span> <span style=\"color: #008080; text-decoration-color: #008080\">│</span>\n",
       "<span style=\"color: #008080; text-decoration-color: #008080\">╰─────────────────────────────────────────────────────────────────────────────────────────────────╯</span>\n",
       "</pre>\n"
      ],
      "text/plain": [
       "\u001b[36m╭─\u001b[0m\u001b[36m─────────────────────────────────────\u001b[0m\u001b[36m 🔍 Retrieved Query \u001b[0m\u001b[36m──────────────────────────────────────\u001b[0m\u001b[36m─╮\u001b[0m\n",
       "\u001b[36m│\u001b[0m \u001b[1;36mIdentify campaigns with CAC greater than $50 and more than 100 conversions in the last 30 days.\u001b[0m \u001b[36m│\u001b[0m\n",
       "\u001b[36m╰─────────────────────────────────────────────────────────────────────────────────────────────────╯\u001b[0m\n"
      ]
     },
     "metadata": {},
     "output_type": "display_data"
    },
    {
     "data": {
      "text/html": [
       "<pre style=\"white-space:pre;overflow-x:auto;line-height:normal;font-family:Menlo,'DejaVu Sans Mono',consolas,'Courier New',monospace\"><span style=\"color: #808000; text-decoration-color: #808000\">╭──────────────── 📦 Tables ─────────────────╮</span>\n",
       "<span style=\"color: #808000; text-decoration-color: #808000\">│</span> <span style=\"color: #808000; text-decoration-color: #808000; font-weight: bold\">campaign_crm_performance, campaign_details</span> <span style=\"color: #808000; text-decoration-color: #808000\">│</span>\n",
       "<span style=\"color: #808000; text-decoration-color: #808000\">╰────────────────────────────────────────────╯</span>\n",
       "</pre>\n"
      ],
      "text/plain": [
       "\u001b[33m╭─\u001b[0m\u001b[33m───────────────\u001b[0m\u001b[33m 📦 Tables \u001b[0m\u001b[33m────────────────\u001b[0m\u001b[33m─╮\u001b[0m\n",
       "\u001b[33m│\u001b[0m \u001b[1;33mcampaign_crm_performance, campaign_details\u001b[0m \u001b[33m│\u001b[0m\n",
       "\u001b[33m╰────────────────────────────────────────────╯\u001b[0m\n"
      ]
     },
     "metadata": {},
     "output_type": "display_data"
    },
    {
     "data": {
      "text/html": [
       "<pre style=\"white-space:pre;overflow-x:auto;line-height:normal;font-family:Menlo,'DejaVu Sans Mono',consolas,'Courier New',monospace\"><span style=\"color: #000080; text-decoration-color: #000080\">╭─────────────────────────────────── 📊 Columns ────────────────────────────────────╮</span>\n",
       "<span style=\"color: #000080; text-decoration-color: #000080\">│</span> <span style=\"color: #c0c0c0; text-decoration-color: #c0c0c0; font-weight: bold\">spend, CAC, campaign_id, customer_id, segments_date, campaign_name, new_customers</span> <span style=\"color: #000080; text-decoration-color: #000080\">│</span>\n",
       "<span style=\"color: #000080; text-decoration-color: #000080\">╰───────────────────────────────────────────────────────────────────────────────────╯</span>\n",
       "</pre>\n"
      ],
      "text/plain": [
       "\u001b[34m╭─\u001b[0m\u001b[34m──────────────────────────────────\u001b[0m\u001b[34m 📊 Columns \u001b[0m\u001b[34m───────────────────────────────────\u001b[0m\u001b[34m─╮\u001b[0m\n",
       "\u001b[34m│\u001b[0m \u001b[1;37mspend, CAC, campaign_id, customer_id, segments_date, campaign_name, new_customers\u001b[0m \u001b[34m│\u001b[0m\n",
       "\u001b[34m╰───────────────────────────────────────────────────────────────────────────────────╯\u001b[0m\n"
      ]
     },
     "metadata": {},
     "output_type": "display_data"
    },
    {
     "data": {
      "text/html": [
       "<pre style=\"white-space:pre;overflow-x:auto;line-height:normal;font-family:Menlo,'DejaVu Sans Mono',consolas,'Courier New',monospace\"><span style=\"color: #800080; text-decoration-color: #800080\">╭───────────────────────────────────────────────── 🧠 SQL Query ──────────────────────────────────────────────────╮</span>\n",
       "<span style=\"color: #800080; text-decoration-color: #800080\">│</span> <span style=\"color: #66d9ef; text-decoration-color: #66d9ef; background-color: #272822\">SELECT</span><span style=\"color: #f8f8f2; text-decoration-color: #f8f8f2; background-color: #272822\"> gcd.campaign_name, SAFE_DIVIDE(</span><span style=\"color: #66d9ef; text-decoration-color: #66d9ef; background-color: #272822\">SUM</span><span style=\"color: #f8f8f2; text-decoration-color: #f8f8f2; background-color: #272822\">(crm.spend), </span><span style=\"color: #66d9ef; text-decoration-color: #66d9ef; background-color: #272822\">SUM</span><span style=\"color: #f8f8f2; text-decoration-color: #f8f8f2; background-color: #272822\">(crm.new_customers)) </span><span style=\"color: #66d9ef; text-decoration-color: #66d9ef; background-color: #272822\">AS</span><span style=\"color: #f8f8f2; text-decoration-color: #f8f8f2; background-color: #272822\"> CAC, </span><span style=\"color: #66d9ef; text-decoration-color: #66d9ef; background-color: #272822\">SUM</span><span style=\"color: #f8f8f2; text-decoration-color: #f8f8f2; background-color: #272822\">(crm.new_customers) </span><span style=\"color: #66d9ef; text-decoration-color: #66d9ef; background-color: #272822\">AS</span> <span style=\"color: #800080; text-decoration-color: #800080\">│</span>\n",
       "<span style=\"color: #800080; text-decoration-color: #800080\">│</span> <span style=\"color: #66d9ef; text-decoration-color: #66d9ef; background-color: #272822\">FROM</span><span style=\"color: #f8f8f2; text-decoration-color: #f8f8f2; background-color: #272822\"> projectx</span><span style=\"color: #ff4689; text-decoration-color: #ff4689; background-color: #272822\">-</span><span style=\"color: #f8f8f2; text-decoration-color: #f8f8f2; background-color: #272822\">pipeline.dataset.google_ads_campaign_crm_performancepostfix crm</span><span style=\"background-color: #272822\">                                  </span> <span style=\"color: #800080; text-decoration-color: #800080\">│</span>\n",
       "<span style=\"color: #800080; text-decoration-color: #800080\">│</span> <span style=\"color: #66d9ef; text-decoration-color: #66d9ef; background-color: #272822\">JOIN</span><span style=\"color: #f8f8f2; text-decoration-color: #f8f8f2; background-color: #272822\"> projectx</span><span style=\"color: #ff4689; text-decoration-color: #ff4689; background-color: #272822\">-</span><span style=\"color: #f8f8f2; text-decoration-color: #f8f8f2; background-color: #272822\">pipeline.dataset.google_ads_campaign_detailspostfix gcd </span><span style=\"color: #66d9ef; text-decoration-color: #66d9ef; background-color: #272822\">ON</span><span style=\"color: #f8f8f2; text-decoration-color: #f8f8f2; background-color: #272822\"> crm.campaign_id </span><span style=\"color: #ff4689; text-decoration-color: #ff4689; background-color: #272822\">=</span><span style=\"color: #f8f8f2; text-decoration-color: #f8f8f2; background-color: #272822\"> gcd.campaign_id</span><span style=\"background-color: #272822\">     </span> <span style=\"color: #800080; text-decoration-color: #800080\">│</span>\n",
       "<span style=\"color: #800080; text-decoration-color: #800080\">│</span> <span style=\"color: #66d9ef; text-decoration-color: #66d9ef; background-color: #272822\">WHERE</span><span style=\"color: #f8f8f2; text-decoration-color: #f8f8f2; background-color: #272822\"> crm.customer_id </span><span style=\"color: #ff4689; text-decoration-color: #ff4689; background-color: #272822\">=</span><span style=\"color: #f8f8f2; text-decoration-color: #f8f8f2; background-color: #272822\"> </span><span style=\"color: #ae81ff; text-decoration-color: #ae81ff; background-color: #272822\">3424742100</span><span style=\"background-color: #272822\">                                                                             </span> <span style=\"color: #800080; text-decoration-color: #800080\">│</span>\n",
       "<span style=\"color: #800080; text-decoration-color: #800080\">│</span> <span style=\"color: #66d9ef; text-decoration-color: #66d9ef; background-color: #272822\">AND</span><span style=\"color: #f8f8f2; text-decoration-color: #f8f8f2; background-color: #272822\"> crm.segments_date </span><span style=\"color: #66d9ef; text-decoration-color: #66d9ef; background-color: #272822\">BETWEEN</span><span style=\"color: #f8f8f2; text-decoration-color: #f8f8f2; background-color: #272822\"> DATE_SUB(</span><span style=\"color: #66d9ef; text-decoration-color: #66d9ef; background-color: #272822\">CURRENT_DATE</span><span style=\"color: #f8f8f2; text-decoration-color: #f8f8f2; background-color: #272822\">(), INTERVAL </span><span style=\"color: #ae81ff; text-decoration-color: #ae81ff; background-color: #272822\">30</span><span style=\"color: #f8f8f2; text-decoration-color: #f8f8f2; background-color: #272822\"> </span><span style=\"color: #66d9ef; text-decoration-color: #66d9ef; background-color: #272822\">DAY</span><span style=\"color: #f8f8f2; text-decoration-color: #f8f8f2; background-color: #272822\">) </span><span style=\"color: #66d9ef; text-decoration-color: #66d9ef; background-color: #272822\">AND</span><span style=\"color: #f8f8f2; text-decoration-color: #f8f8f2; background-color: #272822\"> DATE_SUB(</span><span style=\"color: #66d9ef; text-decoration-color: #66d9ef; background-color: #272822\">CURRENT_DATE</span><span style=\"color: #f8f8f2; text-decoration-color: #f8f8f2; background-color: #272822\">(), INTERVAL </span><span style=\"color: #ae81ff; text-decoration-color: #ae81ff; background-color: #272822\">1</span> <span style=\"color: #800080; text-decoration-color: #800080\">│</span>\n",
       "<span style=\"color: #800080; text-decoration-color: #800080\">│</span> <span style=\"color: #66d9ef; text-decoration-color: #66d9ef; background-color: #272822\">GROUP</span><span style=\"color: #f8f8f2; text-decoration-color: #f8f8f2; background-color: #272822\"> </span><span style=\"color: #66d9ef; text-decoration-color: #66d9ef; background-color: #272822\">BY</span><span style=\"color: #f8f8f2; text-decoration-color: #f8f8f2; background-color: #272822\"> gcd.campaign_id, gcd.campaign_name</span><span style=\"background-color: #272822\">                                                                    </span> <span style=\"color: #800080; text-decoration-color: #800080\">│</span>\n",
       "<span style=\"color: #800080; text-decoration-color: #800080\">│</span> <span style=\"color: #66d9ef; text-decoration-color: #66d9ef; background-color: #272822\">HAVING</span><span style=\"color: #f8f8f2; text-decoration-color: #f8f8f2; background-color: #272822\"> CAC </span><span style=\"color: #ff4689; text-decoration-color: #ff4689; background-color: #272822\">&gt;</span><span style=\"color: #f8f8f2; text-decoration-color: #f8f8f2; background-color: #272822\"> </span><span style=\"color: #ae81ff; text-decoration-color: #ae81ff; background-color: #272822\">50</span><span style=\"background-color: #272822\">                                                                                                </span> <span style=\"color: #800080; text-decoration-color: #800080\">│</span>\n",
       "<span style=\"color: #800080; text-decoration-color: #800080\">│</span> <span style=\"color: #66d9ef; text-decoration-color: #66d9ef; background-color: #272822\">AND</span><span style=\"color: #f8f8f2; text-decoration-color: #f8f8f2; background-color: #272822\"> </span><span style=\"color: #66d9ef; text-decoration-color: #66d9ef; background-color: #272822\">SUM</span><span style=\"color: #f8f8f2; text-decoration-color: #f8f8f2; background-color: #272822\">(crm.new_customers) </span><span style=\"color: #ff4689; text-decoration-color: #ff4689; background-color: #272822\">&gt;</span><span style=\"color: #f8f8f2; text-decoration-color: #f8f8f2; background-color: #272822\"> </span><span style=\"color: #ae81ff; text-decoration-color: #ae81ff; background-color: #272822\">100</span><span style=\"background-color: #272822\">                                                                               </span> <span style=\"color: #800080; text-decoration-color: #800080\">│</span>\n",
       "<span style=\"color: #800080; text-decoration-color: #800080\">╰─────────────────────────────────────────────────────────────────────────────────────────────────────────────────╯</span>\n",
       "</pre>\n"
      ],
      "text/plain": [
       "\u001b[35m╭─\u001b[0m\u001b[35m────────────────────────────────────────────────\u001b[0m\u001b[35m 🧠 SQL Query \u001b[0m\u001b[35m─────────────────────────────────────────────────\u001b[0m\u001b[35m─╮\u001b[0m\n",
       "\u001b[35m│\u001b[0m \u001b[38;2;102;217;239;48;2;39;40;34mSELECT\u001b[0m\u001b[38;2;248;248;242;48;2;39;40;34m \u001b[0m\u001b[38;2;248;248;242;48;2;39;40;34mgcd\u001b[0m\u001b[38;2;248;248;242;48;2;39;40;34m.\u001b[0m\u001b[38;2;248;248;242;48;2;39;40;34mcampaign_name\u001b[0m\u001b[38;2;248;248;242;48;2;39;40;34m,\u001b[0m\u001b[38;2;248;248;242;48;2;39;40;34m \u001b[0m\u001b[38;2;248;248;242;48;2;39;40;34mSAFE_DIVIDE\u001b[0m\u001b[38;2;248;248;242;48;2;39;40;34m(\u001b[0m\u001b[38;2;102;217;239;48;2;39;40;34mSUM\u001b[0m\u001b[38;2;248;248;242;48;2;39;40;34m(\u001b[0m\u001b[38;2;248;248;242;48;2;39;40;34mcrm\u001b[0m\u001b[38;2;248;248;242;48;2;39;40;34m.\u001b[0m\u001b[38;2;248;248;242;48;2;39;40;34mspend\u001b[0m\u001b[38;2;248;248;242;48;2;39;40;34m)\u001b[0m\u001b[38;2;248;248;242;48;2;39;40;34m,\u001b[0m\u001b[38;2;248;248;242;48;2;39;40;34m \u001b[0m\u001b[38;2;102;217;239;48;2;39;40;34mSUM\u001b[0m\u001b[38;2;248;248;242;48;2;39;40;34m(\u001b[0m\u001b[38;2;248;248;242;48;2;39;40;34mcrm\u001b[0m\u001b[38;2;248;248;242;48;2;39;40;34m.\u001b[0m\u001b[38;2;248;248;242;48;2;39;40;34mnew_customers\u001b[0m\u001b[38;2;248;248;242;48;2;39;40;34m)\u001b[0m\u001b[38;2;248;248;242;48;2;39;40;34m)\u001b[0m\u001b[38;2;248;248;242;48;2;39;40;34m \u001b[0m\u001b[38;2;102;217;239;48;2;39;40;34mAS\u001b[0m\u001b[38;2;248;248;242;48;2;39;40;34m \u001b[0m\u001b[38;2;248;248;242;48;2;39;40;34mCAC\u001b[0m\u001b[38;2;248;248;242;48;2;39;40;34m,\u001b[0m\u001b[38;2;248;248;242;48;2;39;40;34m \u001b[0m\u001b[38;2;102;217;239;48;2;39;40;34mSUM\u001b[0m\u001b[38;2;248;248;242;48;2;39;40;34m(\u001b[0m\u001b[38;2;248;248;242;48;2;39;40;34mcrm\u001b[0m\u001b[38;2;248;248;242;48;2;39;40;34m.\u001b[0m\u001b[38;2;248;248;242;48;2;39;40;34mnew_customers\u001b[0m\u001b[38;2;248;248;242;48;2;39;40;34m)\u001b[0m\u001b[38;2;248;248;242;48;2;39;40;34m \u001b[0m\u001b[38;2;102;217;239;48;2;39;40;34mAS\u001b[0m \u001b[35m│\u001b[0m\n",
       "\u001b[35m│\u001b[0m \u001b[38;2;102;217;239;48;2;39;40;34mFROM\u001b[0m\u001b[38;2;248;248;242;48;2;39;40;34m \u001b[0m\u001b[38;2;248;248;242;48;2;39;40;34mprojectx\u001b[0m\u001b[38;2;255;70;137;48;2;39;40;34m-\u001b[0m\u001b[38;2;248;248;242;48;2;39;40;34mpipeline\u001b[0m\u001b[38;2;248;248;242;48;2;39;40;34m.\u001b[0m\u001b[38;2;248;248;242;48;2;39;40;34mdataset\u001b[0m\u001b[38;2;248;248;242;48;2;39;40;34m.\u001b[0m\u001b[38;2;248;248;242;48;2;39;40;34mgoogle_ads_campaign_crm_performancepostfix\u001b[0m\u001b[38;2;248;248;242;48;2;39;40;34m \u001b[0m\u001b[38;2;248;248;242;48;2;39;40;34mcrm\u001b[0m\u001b[48;2;39;40;34m                                  \u001b[0m \u001b[35m│\u001b[0m\n",
       "\u001b[35m│\u001b[0m \u001b[38;2;102;217;239;48;2;39;40;34mJOIN\u001b[0m\u001b[38;2;248;248;242;48;2;39;40;34m \u001b[0m\u001b[38;2;248;248;242;48;2;39;40;34mprojectx\u001b[0m\u001b[38;2;255;70;137;48;2;39;40;34m-\u001b[0m\u001b[38;2;248;248;242;48;2;39;40;34mpipeline\u001b[0m\u001b[38;2;248;248;242;48;2;39;40;34m.\u001b[0m\u001b[38;2;248;248;242;48;2;39;40;34mdataset\u001b[0m\u001b[38;2;248;248;242;48;2;39;40;34m.\u001b[0m\u001b[38;2;248;248;242;48;2;39;40;34mgoogle_ads_campaign_detailspostfix\u001b[0m\u001b[38;2;248;248;242;48;2;39;40;34m \u001b[0m\u001b[38;2;248;248;242;48;2;39;40;34mgcd\u001b[0m\u001b[38;2;248;248;242;48;2;39;40;34m \u001b[0m\u001b[38;2;102;217;239;48;2;39;40;34mON\u001b[0m\u001b[38;2;248;248;242;48;2;39;40;34m \u001b[0m\u001b[38;2;248;248;242;48;2;39;40;34mcrm\u001b[0m\u001b[38;2;248;248;242;48;2;39;40;34m.\u001b[0m\u001b[38;2;248;248;242;48;2;39;40;34mcampaign_id\u001b[0m\u001b[38;2;248;248;242;48;2;39;40;34m \u001b[0m\u001b[38;2;255;70;137;48;2;39;40;34m=\u001b[0m\u001b[38;2;248;248;242;48;2;39;40;34m \u001b[0m\u001b[38;2;248;248;242;48;2;39;40;34mgcd\u001b[0m\u001b[38;2;248;248;242;48;2;39;40;34m.\u001b[0m\u001b[38;2;248;248;242;48;2;39;40;34mcampaign_id\u001b[0m\u001b[48;2;39;40;34m     \u001b[0m \u001b[35m│\u001b[0m\n",
       "\u001b[35m│\u001b[0m \u001b[38;2;102;217;239;48;2;39;40;34mWHERE\u001b[0m\u001b[38;2;248;248;242;48;2;39;40;34m \u001b[0m\u001b[38;2;248;248;242;48;2;39;40;34mcrm\u001b[0m\u001b[38;2;248;248;242;48;2;39;40;34m.\u001b[0m\u001b[38;2;248;248;242;48;2;39;40;34mcustomer_id\u001b[0m\u001b[38;2;248;248;242;48;2;39;40;34m \u001b[0m\u001b[38;2;255;70;137;48;2;39;40;34m=\u001b[0m\u001b[38;2;248;248;242;48;2;39;40;34m \u001b[0m\u001b[38;2;174;129;255;48;2;39;40;34m3424742100\u001b[0m\u001b[48;2;39;40;34m                                                                             \u001b[0m \u001b[35m│\u001b[0m\n",
       "\u001b[35m│\u001b[0m \u001b[38;2;102;217;239;48;2;39;40;34mAND\u001b[0m\u001b[38;2;248;248;242;48;2;39;40;34m \u001b[0m\u001b[38;2;248;248;242;48;2;39;40;34mcrm\u001b[0m\u001b[38;2;248;248;242;48;2;39;40;34m.\u001b[0m\u001b[38;2;248;248;242;48;2;39;40;34msegments_date\u001b[0m\u001b[38;2;248;248;242;48;2;39;40;34m \u001b[0m\u001b[38;2;102;217;239;48;2;39;40;34mBETWEEN\u001b[0m\u001b[38;2;248;248;242;48;2;39;40;34m \u001b[0m\u001b[38;2;248;248;242;48;2;39;40;34mDATE_SUB\u001b[0m\u001b[38;2;248;248;242;48;2;39;40;34m(\u001b[0m\u001b[38;2;102;217;239;48;2;39;40;34mCURRENT_DATE\u001b[0m\u001b[38;2;248;248;242;48;2;39;40;34m(\u001b[0m\u001b[38;2;248;248;242;48;2;39;40;34m)\u001b[0m\u001b[38;2;248;248;242;48;2;39;40;34m,\u001b[0m\u001b[38;2;248;248;242;48;2;39;40;34m \u001b[0m\u001b[38;2;248;248;242;48;2;39;40;34mINTERVAL\u001b[0m\u001b[38;2;248;248;242;48;2;39;40;34m \u001b[0m\u001b[38;2;174;129;255;48;2;39;40;34m30\u001b[0m\u001b[38;2;248;248;242;48;2;39;40;34m \u001b[0m\u001b[38;2;102;217;239;48;2;39;40;34mDAY\u001b[0m\u001b[38;2;248;248;242;48;2;39;40;34m)\u001b[0m\u001b[38;2;248;248;242;48;2;39;40;34m \u001b[0m\u001b[38;2;102;217;239;48;2;39;40;34mAND\u001b[0m\u001b[38;2;248;248;242;48;2;39;40;34m \u001b[0m\u001b[38;2;248;248;242;48;2;39;40;34mDATE_SUB\u001b[0m\u001b[38;2;248;248;242;48;2;39;40;34m(\u001b[0m\u001b[38;2;102;217;239;48;2;39;40;34mCURRENT_DATE\u001b[0m\u001b[38;2;248;248;242;48;2;39;40;34m(\u001b[0m\u001b[38;2;248;248;242;48;2;39;40;34m)\u001b[0m\u001b[38;2;248;248;242;48;2;39;40;34m,\u001b[0m\u001b[38;2;248;248;242;48;2;39;40;34m \u001b[0m\u001b[38;2;248;248;242;48;2;39;40;34mINTERVAL\u001b[0m\u001b[38;2;248;248;242;48;2;39;40;34m \u001b[0m\u001b[38;2;174;129;255;48;2;39;40;34m1\u001b[0m \u001b[35m│\u001b[0m\n",
       "\u001b[35m│\u001b[0m \u001b[38;2;102;217;239;48;2;39;40;34mGROUP\u001b[0m\u001b[38;2;248;248;242;48;2;39;40;34m \u001b[0m\u001b[38;2;102;217;239;48;2;39;40;34mBY\u001b[0m\u001b[38;2;248;248;242;48;2;39;40;34m \u001b[0m\u001b[38;2;248;248;242;48;2;39;40;34mgcd\u001b[0m\u001b[38;2;248;248;242;48;2;39;40;34m.\u001b[0m\u001b[38;2;248;248;242;48;2;39;40;34mcampaign_id\u001b[0m\u001b[38;2;248;248;242;48;2;39;40;34m,\u001b[0m\u001b[38;2;248;248;242;48;2;39;40;34m \u001b[0m\u001b[38;2;248;248;242;48;2;39;40;34mgcd\u001b[0m\u001b[38;2;248;248;242;48;2;39;40;34m.\u001b[0m\u001b[38;2;248;248;242;48;2;39;40;34mcampaign_name\u001b[0m\u001b[48;2;39;40;34m                                                                    \u001b[0m \u001b[35m│\u001b[0m\n",
       "\u001b[35m│\u001b[0m \u001b[38;2;102;217;239;48;2;39;40;34mHAVING\u001b[0m\u001b[38;2;248;248;242;48;2;39;40;34m \u001b[0m\u001b[38;2;248;248;242;48;2;39;40;34mCAC\u001b[0m\u001b[38;2;248;248;242;48;2;39;40;34m \u001b[0m\u001b[38;2;255;70;137;48;2;39;40;34m>\u001b[0m\u001b[38;2;248;248;242;48;2;39;40;34m \u001b[0m\u001b[38;2;174;129;255;48;2;39;40;34m50\u001b[0m\u001b[48;2;39;40;34m                                                                                                \u001b[0m \u001b[35m│\u001b[0m\n",
       "\u001b[35m│\u001b[0m \u001b[38;2;102;217;239;48;2;39;40;34mAND\u001b[0m\u001b[38;2;248;248;242;48;2;39;40;34m \u001b[0m\u001b[38;2;102;217;239;48;2;39;40;34mSUM\u001b[0m\u001b[38;2;248;248;242;48;2;39;40;34m(\u001b[0m\u001b[38;2;248;248;242;48;2;39;40;34mcrm\u001b[0m\u001b[38;2;248;248;242;48;2;39;40;34m.\u001b[0m\u001b[38;2;248;248;242;48;2;39;40;34mnew_customers\u001b[0m\u001b[38;2;248;248;242;48;2;39;40;34m)\u001b[0m\u001b[38;2;248;248;242;48;2;39;40;34m \u001b[0m\u001b[38;2;255;70;137;48;2;39;40;34m>\u001b[0m\u001b[38;2;248;248;242;48;2;39;40;34m \u001b[0m\u001b[38;2;174;129;255;48;2;39;40;34m100\u001b[0m\u001b[48;2;39;40;34m                                                                               \u001b[0m \u001b[35m│\u001b[0m\n",
       "\u001b[35m╰─────────────────────────────────────────────────────────────────────────────────────────────────────────────────╯\u001b[0m\n"
      ]
     },
     "metadata": {},
     "output_type": "display_data"
    },
    {
     "data": {
      "text/html": [
       "<pre style=\"white-space:pre;overflow-x:auto;line-height:normal;font-family:Menlo,'DejaVu Sans Mono',consolas,'Courier New',monospace\">\n",
       "\n",
       "</pre>\n"
      ],
      "text/plain": [
       "\n",
       "\n"
      ]
     },
     "metadata": {},
     "output_type": "display_data"
    },
    {
     "data": {
      "text/html": [
       "<pre style=\"white-space:pre;overflow-x:auto;line-height:normal;font-family:Menlo,'DejaVu Sans Mono',consolas,'Courier New',monospace\"><span style=\"color: #008000; text-decoration-color: #008000\">──────────────────────────────────────────────────── </span><span style=\"color: #008000; text-decoration-color: #008000; font-weight: bold\">Match #</span><span style=\"color: #008000; text-decoration-color: #008000; font-weight: bold\">4</span><span style=\"color: #008000; text-decoration-color: #008000\"> ─────────────────────────────────────────────────────</span>\n",
       "</pre>\n"
      ],
      "text/plain": [
       "\u001b[32m──────────────────────────────────────────────────── \u001b[0m\u001b[1;32mMatch #\u001b[0m\u001b[1;32m4\u001b[0m\u001b[32m ─────────────────────────────────────────────────────\u001b[0m\n"
      ]
     },
     "metadata": {},
     "output_type": "display_data"
    },
    {
     "data": {
      "text/html": [
       "<pre style=\"white-space:pre;overflow-x:auto;line-height:normal;font-family:Menlo,'DejaVu Sans Mono',consolas,'Courier New',monospace\"><span style=\"color: #000080; text-decoration-color: #000080; font-weight: bold\">🔗 Similarity Score:</span> <span style=\"color: #800080; text-decoration-color: #800080; font-weight: bold\">56.38</span>%\n",
       "</pre>\n"
      ],
      "text/plain": [
       "\u001b[1;34m🔗 Similarity Score:\u001b[0m \u001b[1;35m56.38\u001b[0m%\n"
      ]
     },
     "metadata": {},
     "output_type": "display_data"
    },
    {
     "data": {
      "text/html": [
       "<pre style=\"white-space:pre;overflow-x:auto;line-height:normal;font-family:Menlo,'DejaVu Sans Mono',consolas,'Courier New',monospace\"><span style=\"color: #008080; text-decoration-color: #008080\">╭─────────────────── 🔍 Retrieved Query ────────────────────╮</span>\n",
       "<span style=\"color: #008080; text-decoration-color: #008080\">│</span> <span style=\"color: #008080; text-decoration-color: #008080; font-weight: bold\">Which campaign had the maximum impressions on 1 jan 2025?</span> <span style=\"color: #008080; text-decoration-color: #008080\">│</span>\n",
       "<span style=\"color: #008080; text-decoration-color: #008080\">╰───────────────────────────────────────────────────────────╯</span>\n",
       "</pre>\n"
      ],
      "text/plain": [
       "\u001b[36m╭─\u001b[0m\u001b[36m──────────────────\u001b[0m\u001b[36m 🔍 Retrieved Query \u001b[0m\u001b[36m───────────────────\u001b[0m\u001b[36m─╮\u001b[0m\n",
       "\u001b[36m│\u001b[0m \u001b[1;36mWhich campaign had the maximum impressions on 1 jan 2025?\u001b[0m \u001b[36m│\u001b[0m\n",
       "\u001b[36m╰───────────────────────────────────────────────────────────╯\u001b[0m\n"
      ]
     },
     "metadata": {},
     "output_type": "display_data"
    },
    {
     "data": {
      "text/html": [
       "<pre style=\"white-space:pre;overflow-x:auto;line-height:normal;font-family:Menlo,'DejaVu Sans Mono',consolas,'Courier New',monospace\"><span style=\"color: #808000; text-decoration-color: #808000\">╭────────────── 📦 Tables ───────────────╮</span>\n",
       "<span style=\"color: #808000; text-decoration-color: #808000\">│</span> <span style=\"color: #808000; text-decoration-color: #808000; font-weight: bold\">campaign_details, campaign_performance</span> <span style=\"color: #808000; text-decoration-color: #808000\">│</span>\n",
       "<span style=\"color: #808000; text-decoration-color: #808000\">╰────────────────────────────────────────╯</span>\n",
       "</pre>\n"
      ],
      "text/plain": [
       "\u001b[33m╭─\u001b[0m\u001b[33m─────────────\u001b[0m\u001b[33m 📦 Tables \u001b[0m\u001b[33m──────────────\u001b[0m\u001b[33m─╮\u001b[0m\n",
       "\u001b[33m│\u001b[0m \u001b[1;33mcampaign_details, campaign_performance\u001b[0m \u001b[33m│\u001b[0m\n",
       "\u001b[33m╰────────────────────────────────────────╯\u001b[0m\n"
      ]
     },
     "metadata": {},
     "output_type": "display_data"
    },
    {
     "data": {
      "text/html": [
       "<pre style=\"white-space:pre;overflow-x:auto;line-height:normal;font-family:Menlo,'DejaVu Sans Mono',consolas,'Courier New',monospace\"><span style=\"color: #000080; text-decoration-color: #000080\">╭────────────────────────────────────────── 📊 Columns ──────────────────────────────────────────╮</span>\n",
       "<span style=\"color: #000080; text-decoration-color: #000080\">│</span> <span style=\"color: #c0c0c0; text-decoration-color: #c0c0c0; font-weight: bold\">metrics_impressions, campaign_id, customer_id, segments_date, campaign_name, total_impressions</span> <span style=\"color: #000080; text-decoration-color: #000080\">│</span>\n",
       "<span style=\"color: #000080; text-decoration-color: #000080\">╰────────────────────────────────────────────────────────────────────────────────────────────────╯</span>\n",
       "</pre>\n"
      ],
      "text/plain": [
       "\u001b[34m╭─\u001b[0m\u001b[34m─────────────────────────────────────────\u001b[0m\u001b[34m 📊 Columns \u001b[0m\u001b[34m─────────────────────────────────────────\u001b[0m\u001b[34m─╮\u001b[0m\n",
       "\u001b[34m│\u001b[0m \u001b[1;37mmetrics_impressions, campaign_id, customer_id, segments_date, campaign_name, total_impressions\u001b[0m \u001b[34m│\u001b[0m\n",
       "\u001b[34m╰────────────────────────────────────────────────────────────────────────────────────────────────╯\u001b[0m\n"
      ]
     },
     "metadata": {},
     "output_type": "display_data"
    },
    {
     "data": {
      "text/html": [
       "<pre style=\"white-space:pre;overflow-x:auto;line-height:normal;font-family:Menlo,'DejaVu Sans Mono',consolas,'Courier New',monospace\"><span style=\"color: #800080; text-decoration-color: #800080\">╭───────────────────────────────────────────────── 🧠 SQL Query ──────────────────────────────────────────────────╮</span>\n",
       "<span style=\"color: #800080; text-decoration-color: #800080\">│</span> <span style=\"color: #66d9ef; text-decoration-color: #66d9ef; background-color: #272822\">SELECT</span><span style=\"color: #f8f8f2; text-decoration-color: #f8f8f2; background-color: #272822\"> gcd.campaign_id, gcd.campaign_name, </span><span style=\"color: #66d9ef; text-decoration-color: #66d9ef; background-color: #272822\">SUM</span><span style=\"color: #f8f8f2; text-decoration-color: #f8f8f2; background-color: #272822\">(gcp.metrics_impressions) </span><span style=\"color: #66d9ef; text-decoration-color: #66d9ef; background-color: #272822\">AS</span><span style=\"color: #f8f8f2; text-decoration-color: #f8f8f2; background-color: #272822\"> total_impressions </span><span style=\"color: #66d9ef; text-decoration-color: #66d9ef; background-color: #272822\">FROM</span><span style=\"color: #f8f8f2; text-decoration-color: #f8f8f2; background-color: #272822\"> projectx</span><span style=\"color: #ff4689; text-decoration-color: #ff4689; background-color: #272822\">-</span><span style=\"color: #f8f8f2; text-decoration-color: #f8f8f2; background-color: #272822\">pipe</span> <span style=\"color: #800080; text-decoration-color: #800080\">│</span>\n",
       "<span style=\"color: #800080; text-decoration-color: #800080\">╰─────────────────────────────────────────────────────────────────────────────────────────────────────────────────╯</span>\n",
       "</pre>\n"
      ],
      "text/plain": [
       "\u001b[35m╭─\u001b[0m\u001b[35m────────────────────────────────────────────────\u001b[0m\u001b[35m 🧠 SQL Query \u001b[0m\u001b[35m─────────────────────────────────────────────────\u001b[0m\u001b[35m─╮\u001b[0m\n",
       "\u001b[35m│\u001b[0m \u001b[38;2;102;217;239;48;2;39;40;34mSELECT\u001b[0m\u001b[38;2;248;248;242;48;2;39;40;34m \u001b[0m\u001b[38;2;248;248;242;48;2;39;40;34mgcd\u001b[0m\u001b[38;2;248;248;242;48;2;39;40;34m.\u001b[0m\u001b[38;2;248;248;242;48;2;39;40;34mcampaign_id\u001b[0m\u001b[38;2;248;248;242;48;2;39;40;34m,\u001b[0m\u001b[38;2;248;248;242;48;2;39;40;34m \u001b[0m\u001b[38;2;248;248;242;48;2;39;40;34mgcd\u001b[0m\u001b[38;2;248;248;242;48;2;39;40;34m.\u001b[0m\u001b[38;2;248;248;242;48;2;39;40;34mcampaign_name\u001b[0m\u001b[38;2;248;248;242;48;2;39;40;34m,\u001b[0m\u001b[38;2;248;248;242;48;2;39;40;34m \u001b[0m\u001b[38;2;102;217;239;48;2;39;40;34mSUM\u001b[0m\u001b[38;2;248;248;242;48;2;39;40;34m(\u001b[0m\u001b[38;2;248;248;242;48;2;39;40;34mgcp\u001b[0m\u001b[38;2;248;248;242;48;2;39;40;34m.\u001b[0m\u001b[38;2;248;248;242;48;2;39;40;34mmetrics_impressions\u001b[0m\u001b[38;2;248;248;242;48;2;39;40;34m)\u001b[0m\u001b[38;2;248;248;242;48;2;39;40;34m \u001b[0m\u001b[38;2;102;217;239;48;2;39;40;34mAS\u001b[0m\u001b[38;2;248;248;242;48;2;39;40;34m \u001b[0m\u001b[38;2;248;248;242;48;2;39;40;34mtotal_impressions\u001b[0m\u001b[38;2;248;248;242;48;2;39;40;34m \u001b[0m\u001b[38;2;102;217;239;48;2;39;40;34mFROM\u001b[0m\u001b[38;2;248;248;242;48;2;39;40;34m \u001b[0m\u001b[38;2;248;248;242;48;2;39;40;34mprojectx\u001b[0m\u001b[38;2;255;70;137;48;2;39;40;34m-\u001b[0m\u001b[38;2;248;248;242;48;2;39;40;34mpipe\u001b[0m \u001b[35m│\u001b[0m\n",
       "\u001b[35m╰─────────────────────────────────────────────────────────────────────────────────────────────────────────────────╯\u001b[0m\n"
      ]
     },
     "metadata": {},
     "output_type": "display_data"
    },
    {
     "data": {
      "text/html": [
       "<pre style=\"white-space:pre;overflow-x:auto;line-height:normal;font-family:Menlo,'DejaVu Sans Mono',consolas,'Courier New',monospace\">\n",
       "\n",
       "</pre>\n"
      ],
      "text/plain": [
       "\n",
       "\n"
      ]
     },
     "metadata": {},
     "output_type": "display_data"
    },
    {
     "data": {
      "text/html": [
       "<pre style=\"white-space:pre;overflow-x:auto;line-height:normal;font-family:Menlo,'DejaVu Sans Mono',consolas,'Courier New',monospace\"><span style=\"color: #008000; text-decoration-color: #008000\">──────────────────────────────────────────────────── </span><span style=\"color: #008000; text-decoration-color: #008000; font-weight: bold\">Match #</span><span style=\"color: #008000; text-decoration-color: #008000; font-weight: bold\">5</span><span style=\"color: #008000; text-decoration-color: #008000\"> ─────────────────────────────────────────────────────</span>\n",
       "</pre>\n"
      ],
      "text/plain": [
       "\u001b[32m──────────────────────────────────────────────────── \u001b[0m\u001b[1;32mMatch #\u001b[0m\u001b[1;32m5\u001b[0m\u001b[32m ─────────────────────────────────────────────────────\u001b[0m\n"
      ]
     },
     "metadata": {},
     "output_type": "display_data"
    },
    {
     "data": {
      "text/html": [
       "<pre style=\"white-space:pre;overflow-x:auto;line-height:normal;font-family:Menlo,'DejaVu Sans Mono',consolas,'Courier New',monospace\"><span style=\"color: #000080; text-decoration-color: #000080; font-weight: bold\">🔗 Similarity Score:</span> <span style=\"color: #800080; text-decoration-color: #800080; font-weight: bold\">56.23</span>%\n",
       "</pre>\n"
      ],
      "text/plain": [
       "\u001b[1;34m🔗 Similarity Score:\u001b[0m \u001b[1;35m56.23\u001b[0m%\n"
      ]
     },
     "metadata": {},
     "output_type": "display_data"
    },
    {
     "data": {
      "text/html": [
       "<pre style=\"white-space:pre;overflow-x:auto;line-height:normal;font-family:Menlo,'DejaVu Sans Mono',consolas,'Courier New',monospace\"><span style=\"color: #008080; text-decoration-color: #008080\">╭──────────────────────── 🔍 Retrieved Query ─────────────────────────╮</span>\n",
       "<span style=\"color: #008080; text-decoration-color: #008080\">│</span> <span style=\"color: #008080; text-decoration-color: #008080; font-weight: bold\">Which ad group had the maximum cost per conversion on 2 June 2025 ?</span> <span style=\"color: #008080; text-decoration-color: #008080\">│</span>\n",
       "<span style=\"color: #008080; text-decoration-color: #008080\">╰─────────────────────────────────────────────────────────────────────╯</span>\n",
       "</pre>\n"
      ],
      "text/plain": [
       "\u001b[36m╭─\u001b[0m\u001b[36m───────────────────────\u001b[0m\u001b[36m 🔍 Retrieved Query \u001b[0m\u001b[36m────────────────────────\u001b[0m\u001b[36m─╮\u001b[0m\n",
       "\u001b[36m│\u001b[0m \u001b[1;36mWhich ad group had the maximum cost per conversion on 2 June 2025 ?\u001b[0m \u001b[36m│\u001b[0m\n",
       "\u001b[36m╰─────────────────────────────────────────────────────────────────────╯\u001b[0m\n"
      ]
     },
     "metadata": {},
     "output_type": "display_data"
    },
    {
     "data": {
      "text/html": [
       "<pre style=\"white-space:pre;overflow-x:auto;line-height:normal;font-family:Menlo,'DejaVu Sans Mono',consolas,'Courier New',monospace\"><span style=\"color: #808000; text-decoration-color: #808000\">╭────────────── 📦 Tables ───────────────╮</span>\n",
       "<span style=\"color: #808000; text-decoration-color: #808000\">│</span> <span style=\"color: #808000; text-decoration-color: #808000; font-weight: bold\">ad_group_details, ad_group_performance</span> <span style=\"color: #808000; text-decoration-color: #808000\">│</span>\n",
       "<span style=\"color: #808000; text-decoration-color: #808000\">╰────────────────────────────────────────╯</span>\n",
       "</pre>\n"
      ],
      "text/plain": [
       "\u001b[33m╭─\u001b[0m\u001b[33m─────────────\u001b[0m\u001b[33m 📦 Tables \u001b[0m\u001b[33m──────────────\u001b[0m\u001b[33m─╮\u001b[0m\n",
       "\u001b[33m│\u001b[0m \u001b[1;33mad_group_details, ad_group_performance\u001b[0m \u001b[33m│\u001b[0m\n",
       "\u001b[33m╰────────────────────────────────────────╯\u001b[0m\n"
      ]
     },
     "metadata": {},
     "output_type": "display_data"
    },
    {
     "data": {
      "text/html": [
       "<pre style=\"white-space:pre;overflow-x:auto;line-height:normal;font-family:Menlo,'DejaVu Sans Mono',consolas,'Courier New',monospace\"><span style=\"color: #000080; text-decoration-color: #000080\">╭────────────────────────────────────────────────── 📊 Columns ───────────────────────────────────────────────────╮</span>\n",
       "<span style=\"color: #000080; text-decoration-color: #000080\">│</span> <span style=\"color: #c0c0c0; text-decoration-color: #c0c0c0; font-weight: bold\">metrics_conversions, cost_per_conversion, metrics_cost_micros, customer_id, ad_group_name, segments_date, </span>      <span style=\"color: #000080; text-decoration-color: #000080\">│</span>\n",
       "<span style=\"color: #000080; text-decoration-color: #000080\">│</span> <span style=\"color: #c0c0c0; text-decoration-color: #c0c0c0; font-weight: bold\">ad_group_id</span>                                                                                                     <span style=\"color: #000080; text-decoration-color: #000080\">│</span>\n",
       "<span style=\"color: #000080; text-decoration-color: #000080\">╰─────────────────────────────────────────────────────────────────────────────────────────────────────────────────╯</span>\n",
       "</pre>\n"
      ],
      "text/plain": [
       "\u001b[34m╭─\u001b[0m\u001b[34m─────────────────────────────────────────────────\u001b[0m\u001b[34m 📊 Columns \u001b[0m\u001b[34m──────────────────────────────────────────────────\u001b[0m\u001b[34m─╮\u001b[0m\n",
       "\u001b[34m│\u001b[0m \u001b[1;37mmetrics_conversions, cost_per_conversion, metrics_cost_micros, customer_id, ad_group_name, segments_date, \u001b[0m      \u001b[34m│\u001b[0m\n",
       "\u001b[34m│\u001b[0m \u001b[1;37mad_group_id\u001b[0m                                                                                                     \u001b[34m│\u001b[0m\n",
       "\u001b[34m╰─────────────────────────────────────────────────────────────────────────────────────────────────────────────────╯\u001b[0m\n"
      ]
     },
     "metadata": {},
     "output_type": "display_data"
    },
    {
     "data": {
      "text/html": [
       "<pre style=\"white-space:pre;overflow-x:auto;line-height:normal;font-family:Menlo,'DejaVu Sans Mono',consolas,'Courier New',monospace\"><span style=\"color: #800080; text-decoration-color: #800080\">╭───────────────────────────────────────────────── 🧠 SQL Query ──────────────────────────────────────────────────╮</span>\n",
       "<span style=\"color: #800080; text-decoration-color: #800080\">│</span> <span style=\"color: #66d9ef; text-decoration-color: #66d9ef; background-color: #272822\">SELECT</span><span style=\"color: #f8f8f2; text-decoration-color: #f8f8f2; background-color: #272822\"> gag.ad_group_name, </span><span style=\"background-color: #272822\">                                                                                     </span> <span style=\"color: #800080; text-decoration-color: #800080\">│</span>\n",
       "<span style=\"color: #800080; text-decoration-color: #800080\">│</span> <span style=\"color: #f8f8f2; text-decoration-color: #f8f8f2; background-color: #272822\">       SAFE_DIVIDE(SAFE_DIVIDE(</span><span style=\"color: #66d9ef; text-decoration-color: #66d9ef; background-color: #272822\">SUM</span><span style=\"color: #f8f8f2; text-decoration-color: #f8f8f2; background-color: #272822\">(ga.metrics_cost_micros), </span><span style=\"color: #ae81ff; text-decoration-color: #ae81ff; background-color: #272822\">1000000</span><span style=\"color: #f8f8f2; text-decoration-color: #f8f8f2; background-color: #272822\">), </span><span style=\"color: #66d9ef; text-decoration-color: #66d9ef; background-color: #272822\">SUM</span><span style=\"color: #f8f8f2; text-decoration-color: #f8f8f2; background-color: #272822\">(ga.metrics_conversions)) </span><span style=\"color: #66d9ef; text-decoration-color: #66d9ef; background-color: #272822\">AS</span><span style=\"color: #f8f8f2; text-decoration-color: #f8f8f2; background-color: #272822\"> cost_per_</span> <span style=\"color: #800080; text-decoration-color: #800080\">│</span>\n",
       "<span style=\"color: #800080; text-decoration-color: #800080\">│</span> <span style=\"color: #66d9ef; text-decoration-color: #66d9ef; background-color: #272822\">FROM</span><span style=\"color: #f8f8f2; text-decoration-color: #f8f8f2; background-color: #272822\"> projectx</span><span style=\"color: #ff4689; text-decoration-color: #ff4689; background-color: #272822\">-</span><span style=\"color: #f8f8f2; text-decoration-color: #f8f8f2; background-color: #272822\">pipeline.dataset.google_ads_ad_group_performancepostfix ga</span><span style=\"background-color: #272822\">                                       </span> <span style=\"color: #800080; text-decoration-color: #800080\">│</span>\n",
       "<span style=\"color: #800080; text-decoration-color: #800080\">│</span> <span style=\"color: #66d9ef; text-decoration-color: #66d9ef; background-color: #272822\">JOIN</span><span style=\"color: #f8f8f2; text-decoration-color: #f8f8f2; background-color: #272822\"> projectx</span><span style=\"color: #ff4689; text-decoration-color: #ff4689; background-color: #272822\">-</span><span style=\"color: #f8f8f2; text-decoration-color: #f8f8f2; background-color: #272822\">pipeline.dataset.google_ads_ad_group_detailspostfix gag </span><span style=\"color: #66d9ef; text-decoration-color: #66d9ef; background-color: #272822\">ON</span><span style=\"color: #f8f8f2; text-decoration-color: #f8f8f2; background-color: #272822\"> ga.ad_group_id </span><span style=\"color: #ff4689; text-decoration-color: #ff4689; background-color: #272822\">=</span><span style=\"color: #f8f8f2; text-decoration-color: #f8f8f2; background-color: #272822\"> gag.ad_group_id</span><span style=\"background-color: #272822\">      </span> <span style=\"color: #800080; text-decoration-color: #800080\">│</span>\n",
       "<span style=\"color: #800080; text-decoration-color: #800080\">│</span> <span style=\"color: #66d9ef; text-decoration-color: #66d9ef; background-color: #272822\">WHERE</span><span style=\"color: #f8f8f2; text-decoration-color: #f8f8f2; background-color: #272822\"> ga.customer_id </span><span style=\"color: #ff4689; text-decoration-color: #ff4689; background-color: #272822\">=</span><span style=\"color: #f8f8f2; text-decoration-color: #f8f8f2; background-color: #272822\"> </span><span style=\"color: #ae81ff; text-decoration-color: #ae81ff; background-color: #272822\">3424742100</span><span style=\"background-color: #272822\">                                                                              </span> <span style=\"color: #800080; text-decoration-color: #800080\">│</span>\n",
       "<span style=\"color: #800080; text-decoration-color: #800080\">│</span> <span style=\"color: #66d9ef; text-decoration-color: #66d9ef; background-color: #272822\">AND</span><span style=\"color: #f8f8f2; text-decoration-color: #f8f8f2; background-color: #272822\"> ga.segments_date </span><span style=\"color: #ff4689; text-decoration-color: #ff4689; background-color: #272822\">=</span><span style=\"color: #f8f8f2; text-decoration-color: #f8f8f2; background-color: #272822\"> </span><span style=\"color: #e6db74; text-decoration-color: #e6db74; background-color: #272822\">'2025-06-02'</span><span style=\"background-color: #272822\">                                                                            </span> <span style=\"color: #800080; text-decoration-color: #800080\">│</span>\n",
       "<span style=\"color: #800080; text-decoration-color: #800080\">│</span> <span style=\"color: #66d9ef; text-decoration-color: #66d9ef; background-color: #272822\">GROUP</span><span style=\"color: #f8f8f2; text-decoration-color: #f8f8f2; background-color: #272822\"> </span><span style=\"color: #66d9ef; text-decoration-color: #66d9ef; background-color: #272822\">BY</span><span style=\"color: #f8f8f2; text-decoration-color: #f8f8f2; background-color: #272822\"> gag.ad_group_name</span><span style=\"background-color: #272822\">                                                                                     </span> <span style=\"color: #800080; text-decoration-color: #800080\">│</span>\n",
       "<span style=\"color: #800080; text-decoration-color: #800080\">│</span> <span style=\"color: #66d9ef; text-decoration-color: #66d9ef; background-color: #272822\">ORDER</span><span style=\"color: #f8f8f2; text-decoration-color: #f8f8f2; background-color: #272822\"> </span><span style=\"color: #66d9ef; text-decoration-color: #66d9ef; background-color: #272822\">BY</span><span style=\"color: #f8f8f2; text-decoration-color: #f8f8f2; background-color: #272822\"> cost_per_conversion </span><span style=\"color: #66d9ef; text-decoration-color: #66d9ef; background-color: #272822\">DESC</span><span style=\"background-color: #272822\">                                                                              </span> <span style=\"color: #800080; text-decoration-color: #800080\">│</span>\n",
       "<span style=\"color: #800080; text-decoration-color: #800080\">│</span> <span style=\"color: #66d9ef; text-decoration-color: #66d9ef; background-color: #272822\">LIMIT</span><span style=\"color: #f8f8f2; text-decoration-color: #f8f8f2; background-color: #272822\"> </span><span style=\"color: #ae81ff; text-decoration-color: #ae81ff; background-color: #272822\">1</span><span style=\"background-color: #272822\">                                                                                                        </span> <span style=\"color: #800080; text-decoration-color: #800080\">│</span>\n",
       "<span style=\"color: #800080; text-decoration-color: #800080\">╰─────────────────────────────────────────────────────────────────────────────────────────────────────────────────╯</span>\n",
       "</pre>\n"
      ],
      "text/plain": [
       "\u001b[35m╭─\u001b[0m\u001b[35m────────────────────────────────────────────────\u001b[0m\u001b[35m 🧠 SQL Query \u001b[0m\u001b[35m─────────────────────────────────────────────────\u001b[0m\u001b[35m─╮\u001b[0m\n",
       "\u001b[35m│\u001b[0m \u001b[38;2;102;217;239;48;2;39;40;34mSELECT\u001b[0m\u001b[38;2;248;248;242;48;2;39;40;34m \u001b[0m\u001b[38;2;248;248;242;48;2;39;40;34mgag\u001b[0m\u001b[38;2;248;248;242;48;2;39;40;34m.\u001b[0m\u001b[38;2;248;248;242;48;2;39;40;34mad_group_name\u001b[0m\u001b[38;2;248;248;242;48;2;39;40;34m,\u001b[0m\u001b[38;2;248;248;242;48;2;39;40;34m \u001b[0m\u001b[48;2;39;40;34m                                                                                     \u001b[0m \u001b[35m│\u001b[0m\n",
       "\u001b[35m│\u001b[0m \u001b[38;2;248;248;242;48;2;39;40;34m       \u001b[0m\u001b[38;2;248;248;242;48;2;39;40;34mSAFE_DIVIDE\u001b[0m\u001b[38;2;248;248;242;48;2;39;40;34m(\u001b[0m\u001b[38;2;248;248;242;48;2;39;40;34mSAFE_DIVIDE\u001b[0m\u001b[38;2;248;248;242;48;2;39;40;34m(\u001b[0m\u001b[38;2;102;217;239;48;2;39;40;34mSUM\u001b[0m\u001b[38;2;248;248;242;48;2;39;40;34m(\u001b[0m\u001b[38;2;248;248;242;48;2;39;40;34mga\u001b[0m\u001b[38;2;248;248;242;48;2;39;40;34m.\u001b[0m\u001b[38;2;248;248;242;48;2;39;40;34mmetrics_cost_micros\u001b[0m\u001b[38;2;248;248;242;48;2;39;40;34m)\u001b[0m\u001b[38;2;248;248;242;48;2;39;40;34m,\u001b[0m\u001b[38;2;248;248;242;48;2;39;40;34m \u001b[0m\u001b[38;2;174;129;255;48;2;39;40;34m1000000\u001b[0m\u001b[38;2;248;248;242;48;2;39;40;34m)\u001b[0m\u001b[38;2;248;248;242;48;2;39;40;34m,\u001b[0m\u001b[38;2;248;248;242;48;2;39;40;34m \u001b[0m\u001b[38;2;102;217;239;48;2;39;40;34mSUM\u001b[0m\u001b[38;2;248;248;242;48;2;39;40;34m(\u001b[0m\u001b[38;2;248;248;242;48;2;39;40;34mga\u001b[0m\u001b[38;2;248;248;242;48;2;39;40;34m.\u001b[0m\u001b[38;2;248;248;242;48;2;39;40;34mmetrics_conversions\u001b[0m\u001b[38;2;248;248;242;48;2;39;40;34m)\u001b[0m\u001b[38;2;248;248;242;48;2;39;40;34m)\u001b[0m\u001b[38;2;248;248;242;48;2;39;40;34m \u001b[0m\u001b[38;2;102;217;239;48;2;39;40;34mAS\u001b[0m\u001b[38;2;248;248;242;48;2;39;40;34m \u001b[0m\u001b[38;2;248;248;242;48;2;39;40;34mcost_per_\u001b[0m \u001b[35m│\u001b[0m\n",
       "\u001b[35m│\u001b[0m \u001b[38;2;102;217;239;48;2;39;40;34mFROM\u001b[0m\u001b[38;2;248;248;242;48;2;39;40;34m \u001b[0m\u001b[38;2;248;248;242;48;2;39;40;34mprojectx\u001b[0m\u001b[38;2;255;70;137;48;2;39;40;34m-\u001b[0m\u001b[38;2;248;248;242;48;2;39;40;34mpipeline\u001b[0m\u001b[38;2;248;248;242;48;2;39;40;34m.\u001b[0m\u001b[38;2;248;248;242;48;2;39;40;34mdataset\u001b[0m\u001b[38;2;248;248;242;48;2;39;40;34m.\u001b[0m\u001b[38;2;248;248;242;48;2;39;40;34mgoogle_ads_ad_group_performancepostfix\u001b[0m\u001b[38;2;248;248;242;48;2;39;40;34m \u001b[0m\u001b[38;2;248;248;242;48;2;39;40;34mga\u001b[0m\u001b[48;2;39;40;34m                                       \u001b[0m \u001b[35m│\u001b[0m\n",
       "\u001b[35m│\u001b[0m \u001b[38;2;102;217;239;48;2;39;40;34mJOIN\u001b[0m\u001b[38;2;248;248;242;48;2;39;40;34m \u001b[0m\u001b[38;2;248;248;242;48;2;39;40;34mprojectx\u001b[0m\u001b[38;2;255;70;137;48;2;39;40;34m-\u001b[0m\u001b[38;2;248;248;242;48;2;39;40;34mpipeline\u001b[0m\u001b[38;2;248;248;242;48;2;39;40;34m.\u001b[0m\u001b[38;2;248;248;242;48;2;39;40;34mdataset\u001b[0m\u001b[38;2;248;248;242;48;2;39;40;34m.\u001b[0m\u001b[38;2;248;248;242;48;2;39;40;34mgoogle_ads_ad_group_detailspostfix\u001b[0m\u001b[38;2;248;248;242;48;2;39;40;34m \u001b[0m\u001b[38;2;248;248;242;48;2;39;40;34mgag\u001b[0m\u001b[38;2;248;248;242;48;2;39;40;34m \u001b[0m\u001b[38;2;102;217;239;48;2;39;40;34mON\u001b[0m\u001b[38;2;248;248;242;48;2;39;40;34m \u001b[0m\u001b[38;2;248;248;242;48;2;39;40;34mga\u001b[0m\u001b[38;2;248;248;242;48;2;39;40;34m.\u001b[0m\u001b[38;2;248;248;242;48;2;39;40;34mad_group_id\u001b[0m\u001b[38;2;248;248;242;48;2;39;40;34m \u001b[0m\u001b[38;2;255;70;137;48;2;39;40;34m=\u001b[0m\u001b[38;2;248;248;242;48;2;39;40;34m \u001b[0m\u001b[38;2;248;248;242;48;2;39;40;34mgag\u001b[0m\u001b[38;2;248;248;242;48;2;39;40;34m.\u001b[0m\u001b[38;2;248;248;242;48;2;39;40;34mad_group_id\u001b[0m\u001b[48;2;39;40;34m      \u001b[0m \u001b[35m│\u001b[0m\n",
       "\u001b[35m│\u001b[0m \u001b[38;2;102;217;239;48;2;39;40;34mWHERE\u001b[0m\u001b[38;2;248;248;242;48;2;39;40;34m \u001b[0m\u001b[38;2;248;248;242;48;2;39;40;34mga\u001b[0m\u001b[38;2;248;248;242;48;2;39;40;34m.\u001b[0m\u001b[38;2;248;248;242;48;2;39;40;34mcustomer_id\u001b[0m\u001b[38;2;248;248;242;48;2;39;40;34m \u001b[0m\u001b[38;2;255;70;137;48;2;39;40;34m=\u001b[0m\u001b[38;2;248;248;242;48;2;39;40;34m \u001b[0m\u001b[38;2;174;129;255;48;2;39;40;34m3424742100\u001b[0m\u001b[48;2;39;40;34m                                                                              \u001b[0m \u001b[35m│\u001b[0m\n",
       "\u001b[35m│\u001b[0m \u001b[38;2;102;217;239;48;2;39;40;34mAND\u001b[0m\u001b[38;2;248;248;242;48;2;39;40;34m \u001b[0m\u001b[38;2;248;248;242;48;2;39;40;34mga\u001b[0m\u001b[38;2;248;248;242;48;2;39;40;34m.\u001b[0m\u001b[38;2;248;248;242;48;2;39;40;34msegments_date\u001b[0m\u001b[38;2;248;248;242;48;2;39;40;34m \u001b[0m\u001b[38;2;255;70;137;48;2;39;40;34m=\u001b[0m\u001b[38;2;248;248;242;48;2;39;40;34m \u001b[0m\u001b[38;2;230;219;116;48;2;39;40;34m'2025-06-02'\u001b[0m\u001b[48;2;39;40;34m                                                                            \u001b[0m \u001b[35m│\u001b[0m\n",
       "\u001b[35m│\u001b[0m \u001b[38;2;102;217;239;48;2;39;40;34mGROUP\u001b[0m\u001b[38;2;248;248;242;48;2;39;40;34m \u001b[0m\u001b[38;2;102;217;239;48;2;39;40;34mBY\u001b[0m\u001b[38;2;248;248;242;48;2;39;40;34m \u001b[0m\u001b[38;2;248;248;242;48;2;39;40;34mgag\u001b[0m\u001b[38;2;248;248;242;48;2;39;40;34m.\u001b[0m\u001b[38;2;248;248;242;48;2;39;40;34mad_group_name\u001b[0m\u001b[48;2;39;40;34m                                                                                     \u001b[0m \u001b[35m│\u001b[0m\n",
       "\u001b[35m│\u001b[0m \u001b[38;2;102;217;239;48;2;39;40;34mORDER\u001b[0m\u001b[38;2;248;248;242;48;2;39;40;34m \u001b[0m\u001b[38;2;102;217;239;48;2;39;40;34mBY\u001b[0m\u001b[38;2;248;248;242;48;2;39;40;34m \u001b[0m\u001b[38;2;248;248;242;48;2;39;40;34mcost_per_conversion\u001b[0m\u001b[38;2;248;248;242;48;2;39;40;34m \u001b[0m\u001b[38;2;102;217;239;48;2;39;40;34mDESC\u001b[0m\u001b[48;2;39;40;34m                                                                              \u001b[0m \u001b[35m│\u001b[0m\n",
       "\u001b[35m│\u001b[0m \u001b[38;2;102;217;239;48;2;39;40;34mLIMIT\u001b[0m\u001b[38;2;248;248;242;48;2;39;40;34m \u001b[0m\u001b[38;2;174;129;255;48;2;39;40;34m1\u001b[0m\u001b[48;2;39;40;34m                                                                                                        \u001b[0m \u001b[35m│\u001b[0m\n",
       "\u001b[35m╰─────────────────────────────────────────────────────────────────────────────────────────────────────────────────╯\u001b[0m\n"
      ]
     },
     "metadata": {},
     "output_type": "display_data"
    },
    {
     "data": {
      "text/html": [
       "<pre style=\"white-space:pre;overflow-x:auto;line-height:normal;font-family:Menlo,'DejaVu Sans Mono',consolas,'Courier New',monospace\">\n",
       "\n",
       "</pre>\n"
      ],
      "text/plain": [
       "\n",
       "\n"
      ]
     },
     "metadata": {},
     "output_type": "display_data"
    }
   ],
   "source": [
    "for i, item in enumerate(top_k, 1):\n",
    "    console.rule(f\"[bold green]Match #{i}[/bold green]\", style=\"green\")\n",
    "\n",
    "    # 💠 Similarity Score (shown on top)\n",
    "    score = round(item.get(\"similarity_score\", 0.0) * 100, 2)\n",
    "    console.print(f\"[bold blue]🔗 Similarity Score:[/bold blue] [bold magenta]{score}[/bold magenta]%\")\n",
    "\n",
    "    # 📝 Retrieved Query\n",
    "    console.print(Panel.fit(\n",
    "        f\"[bold cyan]{item['retrieved_query']}[/bold cyan]\",\n",
    "        title=\"🔍 Retrieved Query\",\n",
    "        border_style=\"cyan\"\n",
    "    ))\n",
    "\n",
    "    # 📦 Tables\n",
    "    table_str = \", \".join(item.get(\"tables\", [])) or \"None\"\n",
    "    console.print(Panel.fit(\n",
    "        f\"[bold yellow]{table_str}[/bold yellow]\",\n",
    "        title=\"📦 Tables\",\n",
    "        border_style=\"yellow\"\n",
    "    ))\n",
    "\n",
    "    # 🧱 Columns\n",
    "    column_str = \", \".join(item.get(\"columns\", [])) or \"None\"\n",
    "    console.print(Panel.fit(\n",
    "        f\"[bold white]{column_str}[/bold white]\",\n",
    "        title=\"📊 Columns\",\n",
    "        border_style=\"blue\"\n",
    "    ))\n",
    "\n",
    "    # 🧠 SQL Query (syntax highlighted)\n",
    "    sql_highlight = Syntax(item[\"sql\"], \"sql\", theme=\"monokai\", line_numbers=False)\n",
    "    console.print(Panel(sql_highlight, title=\"🧠 SQL Query\", border_style=\"magenta\"))\n",
    "\n",
    "    console.print(\"\\n\")"
   ]
  },
  {
   "cell_type": "markdown",
   "id": "f361757d",
   "metadata": {},
   "source": [
    "# Pruned Table Schema : Similar table/columns combine "
   ]
  },
  {
   "cell_type": "code",
   "execution_count": 47,
   "id": "b4fab9d3",
   "metadata": {},
   "outputs": [
    {
     "data": {
      "text/html": [
       "<pre style=\"white-space:pre;overflow-x:auto;line-height:normal;font-family:Menlo,'DejaVu Sans Mono',consolas,'Courier New',monospace\"><span style=\"color: #00ff00; text-decoration-color: #00ff00\">───────────────────────────────────────────── </span><span style=\"color: #008000; text-decoration-color: #008000; font-weight: bold\">🧩 Pruned Table Schema</span><span style=\"color: #00ff00; text-decoration-color: #00ff00\"> ──────────────────────────────────────────────</span>\n",
       "</pre>\n"
      ],
      "text/plain": [
       "\u001b[92m───────────────────────────────────────────── \u001b[0m\u001b[1;32m🧩 Pruned Table Schema\u001b[0m\u001b[92m ──────────────────────────────────────────────\u001b[0m\n"
      ]
     },
     "metadata": {},
     "output_type": "display_data"
    },
    {
     "data": {
      "text/html": [
       "<pre style=\"white-space:pre;overflow-x:auto;line-height:normal;font-family:Menlo,'DejaVu Sans Mono',consolas,'Courier New',monospace\"><span style=\"font-weight: bold\">{</span>\n",
       "    <span style=\"color: #008000; text-decoration-color: #008000\">'google_ads_campaign_detailspostfix'</span>: <span style=\"font-weight: bold\">[</span>\n",
       "        <span style=\"color: #008000; text-decoration-color: #008000\">'CAC'</span>,\n",
       "        <span style=\"color: #008000; text-decoration-color: #008000\">'campaign_id'</span>,\n",
       "        <span style=\"color: #008000; text-decoration-color: #008000\">'campaign_name'</span>,\n",
       "        <span style=\"color: #008000; text-decoration-color: #008000\">'conversion_rate'</span>,\n",
       "        <span style=\"color: #008000; text-decoration-color: #008000\">'customer_id'</span>,\n",
       "        <span style=\"color: #008000; text-decoration-color: #008000\">'metrics_conversions'</span>,\n",
       "        <span style=\"color: #008000; text-decoration-color: #008000\">'metrics_impressions'</span>,\n",
       "        <span style=\"color: #008000; text-decoration-color: #008000\">'metrics_interactions'</span>,\n",
       "        <span style=\"color: #008000; text-decoration-color: #008000\">'new_customers'</span>,\n",
       "        <span style=\"color: #008000; text-decoration-color: #008000\">'segments_date'</span>,\n",
       "        <span style=\"color: #008000; text-decoration-color: #008000\">'spend'</span>,\n",
       "        <span style=\"color: #008000; text-decoration-color: #008000\">'total_impressions'</span>\n",
       "    <span style=\"font-weight: bold\">]</span>,\n",
       "    <span style=\"color: #008000; text-decoration-color: #008000\">'google_ads_campaign_performancepostfix'</span>: <span style=\"font-weight: bold\">[</span>\n",
       "        <span style=\"color: #008000; text-decoration-color: #008000\">'campaign_id'</span>,\n",
       "        <span style=\"color: #008000; text-decoration-color: #008000\">'campaign_name'</span>,\n",
       "        <span style=\"color: #008000; text-decoration-color: #008000\">'conversion_rate'</span>,\n",
       "        <span style=\"color: #008000; text-decoration-color: #008000\">'customer_id'</span>,\n",
       "        <span style=\"color: #008000; text-decoration-color: #008000\">'metrics_conversions'</span>,\n",
       "        <span style=\"color: #008000; text-decoration-color: #008000\">'metrics_impressions'</span>,\n",
       "        <span style=\"color: #008000; text-decoration-color: #008000\">'metrics_interactions'</span>,\n",
       "        <span style=\"color: #008000; text-decoration-color: #008000\">'segments_date'</span>,\n",
       "        <span style=\"color: #008000; text-decoration-color: #008000\">'total_impressions'</span>\n",
       "    <span style=\"font-weight: bold\">]</span>,\n",
       "    <span style=\"color: #008000; text-decoration-color: #008000\">'google_ads_campaign_crm_performancepostfix'</span>: <span style=\"font-weight: bold\">[</span>\n",
       "        <span style=\"color: #008000; text-decoration-color: #008000\">'CAC'</span>,\n",
       "        <span style=\"color: #008000; text-decoration-color: #008000\">'campaign_id'</span>,\n",
       "        <span style=\"color: #008000; text-decoration-color: #008000\">'campaign_name'</span>,\n",
       "        <span style=\"color: #008000; text-decoration-color: #008000\">'customer_id'</span>,\n",
       "        <span style=\"color: #008000; text-decoration-color: #008000\">'new_customers'</span>,\n",
       "        <span style=\"color: #008000; text-decoration-color: #008000\">'segments_date'</span>,\n",
       "        <span style=\"color: #008000; text-decoration-color: #008000\">'spend'</span>\n",
       "    <span style=\"font-weight: bold\">]</span>,\n",
       "    <span style=\"color: #008000; text-decoration-color: #008000\">'google_ads_ad_group_detailspostfix'</span>: <span style=\"font-weight: bold\">[</span>\n",
       "        <span style=\"color: #008000; text-decoration-color: #008000\">'ad_group_id'</span>,\n",
       "        <span style=\"color: #008000; text-decoration-color: #008000\">'ad_group_name'</span>,\n",
       "        <span style=\"color: #008000; text-decoration-color: #008000\">'cost_per_conversion'</span>,\n",
       "        <span style=\"color: #008000; text-decoration-color: #008000\">'customer_id'</span>,\n",
       "        <span style=\"color: #008000; text-decoration-color: #008000\">'metrics_conversions'</span>,\n",
       "        <span style=\"color: #008000; text-decoration-color: #008000\">'metrics_cost_micros'</span>,\n",
       "        <span style=\"color: #008000; text-decoration-color: #008000\">'segments_date'</span>\n",
       "    <span style=\"font-weight: bold\">]</span>,\n",
       "    <span style=\"color: #008000; text-decoration-color: #008000\">'google_ads_ad_group_performancepostfix'</span>: <span style=\"font-weight: bold\">[</span>\n",
       "        <span style=\"color: #008000; text-decoration-color: #008000\">'ad_group_id'</span>,\n",
       "        <span style=\"color: #008000; text-decoration-color: #008000\">'ad_group_name'</span>,\n",
       "        <span style=\"color: #008000; text-decoration-color: #008000\">'cost_per_conversion'</span>,\n",
       "        <span style=\"color: #008000; text-decoration-color: #008000\">'customer_id'</span>,\n",
       "        <span style=\"color: #008000; text-decoration-color: #008000\">'metrics_conversions'</span>,\n",
       "        <span style=\"color: #008000; text-decoration-color: #008000\">'metrics_cost_micros'</span>,\n",
       "        <span style=\"color: #008000; text-decoration-color: #008000\">'segments_date'</span>\n",
       "    <span style=\"font-weight: bold\">]</span>\n",
       "<span style=\"font-weight: bold\">}</span>\n",
       "</pre>\n"
      ],
      "text/plain": [
       "\u001b[1m{\u001b[0m\n",
       "    \u001b[32m'google_ads_campaign_detailspostfix'\u001b[0m: \u001b[1m[\u001b[0m\n",
       "        \u001b[32m'CAC'\u001b[0m,\n",
       "        \u001b[32m'campaign_id'\u001b[0m,\n",
       "        \u001b[32m'campaign_name'\u001b[0m,\n",
       "        \u001b[32m'conversion_rate'\u001b[0m,\n",
       "        \u001b[32m'customer_id'\u001b[0m,\n",
       "        \u001b[32m'metrics_conversions'\u001b[0m,\n",
       "        \u001b[32m'metrics_impressions'\u001b[0m,\n",
       "        \u001b[32m'metrics_interactions'\u001b[0m,\n",
       "        \u001b[32m'new_customers'\u001b[0m,\n",
       "        \u001b[32m'segments_date'\u001b[0m,\n",
       "        \u001b[32m'spend'\u001b[0m,\n",
       "        \u001b[32m'total_impressions'\u001b[0m\n",
       "    \u001b[1m]\u001b[0m,\n",
       "    \u001b[32m'google_ads_campaign_performancepostfix'\u001b[0m: \u001b[1m[\u001b[0m\n",
       "        \u001b[32m'campaign_id'\u001b[0m,\n",
       "        \u001b[32m'campaign_name'\u001b[0m,\n",
       "        \u001b[32m'conversion_rate'\u001b[0m,\n",
       "        \u001b[32m'customer_id'\u001b[0m,\n",
       "        \u001b[32m'metrics_conversions'\u001b[0m,\n",
       "        \u001b[32m'metrics_impressions'\u001b[0m,\n",
       "        \u001b[32m'metrics_interactions'\u001b[0m,\n",
       "        \u001b[32m'segments_date'\u001b[0m,\n",
       "        \u001b[32m'total_impressions'\u001b[0m\n",
       "    \u001b[1m]\u001b[0m,\n",
       "    \u001b[32m'google_ads_campaign_crm_performancepostfix'\u001b[0m: \u001b[1m[\u001b[0m\n",
       "        \u001b[32m'CAC'\u001b[0m,\n",
       "        \u001b[32m'campaign_id'\u001b[0m,\n",
       "        \u001b[32m'campaign_name'\u001b[0m,\n",
       "        \u001b[32m'customer_id'\u001b[0m,\n",
       "        \u001b[32m'new_customers'\u001b[0m,\n",
       "        \u001b[32m'segments_date'\u001b[0m,\n",
       "        \u001b[32m'spend'\u001b[0m\n",
       "    \u001b[1m]\u001b[0m,\n",
       "    \u001b[32m'google_ads_ad_group_detailspostfix'\u001b[0m: \u001b[1m[\u001b[0m\n",
       "        \u001b[32m'ad_group_id'\u001b[0m,\n",
       "        \u001b[32m'ad_group_name'\u001b[0m,\n",
       "        \u001b[32m'cost_per_conversion'\u001b[0m,\n",
       "        \u001b[32m'customer_id'\u001b[0m,\n",
       "        \u001b[32m'metrics_conversions'\u001b[0m,\n",
       "        \u001b[32m'metrics_cost_micros'\u001b[0m,\n",
       "        \u001b[32m'segments_date'\u001b[0m\n",
       "    \u001b[1m]\u001b[0m,\n",
       "    \u001b[32m'google_ads_ad_group_performancepostfix'\u001b[0m: \u001b[1m[\u001b[0m\n",
       "        \u001b[32m'ad_group_id'\u001b[0m,\n",
       "        \u001b[32m'ad_group_name'\u001b[0m,\n",
       "        \u001b[32m'cost_per_conversion'\u001b[0m,\n",
       "        \u001b[32m'customer_id'\u001b[0m,\n",
       "        \u001b[32m'metrics_conversions'\u001b[0m,\n",
       "        \u001b[32m'metrics_cost_micros'\u001b[0m,\n",
       "        \u001b[32m'segments_date'\u001b[0m\n",
       "    \u001b[1m]\u001b[0m\n",
       "\u001b[1m}\u001b[0m\n"
      ]
     },
     "metadata": {},
     "output_type": "display_data"
    },
    {
     "data": {
      "text/html": [
       "<pre style=\"white-space:pre;overflow-x:auto;line-height:normal;font-family:Menlo,'DejaVu Sans Mono',consolas,'Courier New',monospace\"><span style=\"color: #00ff00; text-decoration-color: #00ff00\">────────────────────────────────────────────── </span><span style=\"color: #008080; text-decoration-color: #008080; font-weight: bold\">💡 Retrieved Examples</span><span style=\"color: #00ff00; text-decoration-color: #00ff00\"> ──────────────────────────────────────────────</span>\n",
       "</pre>\n"
      ],
      "text/plain": [
       "\u001b[92m────────────────────────────────────────────── \u001b[0m\u001b[1;36m💡 Retrieved Examples\u001b[0m\u001b[92m ──────────────────────────────────────────────\u001b[0m\n"
      ]
     },
     "metadata": {},
     "output_type": "display_data"
    },
    {
     "data": {
      "text/html": [
       "<pre style=\"white-space:pre;overflow-x:auto;line-height:normal;font-family:Menlo,'DejaVu Sans Mono',consolas,'Courier New',monospace\"><span style=\"color: #000080; text-decoration-color: #000080; font-weight: bold\">Example #</span><span style=\"color: #000080; text-decoration-color: #000080; font-weight: bold\">1</span>\n",
       "</pre>\n"
      ],
      "text/plain": [
       "\u001b[1;34mExample #\u001b[0m\u001b[1;34m1\u001b[0m\n"
      ]
     },
     "metadata": {},
     "output_type": "display_data"
    },
    {
     "data": {
      "text/html": [
       "<pre style=\"white-space:pre;overflow-x:auto;line-height:normal;font-family:Menlo,'DejaVu Sans Mono',consolas,'Courier New',monospace\"><span style=\"font-weight: bold\">Query:</span> Over the past <span style=\"color: #008080; text-decoration-color: #008080; font-weight: bold\">14</span> days - Which campaign had the lowest conversion rate?\n",
       "</pre>\n"
      ],
      "text/plain": [
       "\u001b[1mQuery:\u001b[0m Over the past \u001b[1;36m14\u001b[0m days - Which campaign had the lowest conversion rate?\n"
      ]
     },
     "metadata": {},
     "output_type": "display_data"
    },
    {
     "data": {
      "text/html": [
       "<pre style=\"white-space:pre;overflow-x:auto;line-height:normal;font-family:Menlo,'DejaVu Sans Mono',consolas,'Courier New',monospace\"><span style=\"font-weight: bold\">SQL:</span> SELECT gcd.campaign_name, <span style=\"color: #800080; text-decoration-color: #800080; font-weight: bold\">SAFE_DIVIDE</span><span style=\"font-weight: bold\">(</span><span style=\"color: #800080; text-decoration-color: #800080; font-weight: bold\">SUM</span><span style=\"font-weight: bold\">(</span>gcp.metrics_conversions<span style=\"font-weight: bold\">)</span>, <span style=\"color: #800080; text-decoration-color: #800080; font-weight: bold\">SUM</span><span style=\"font-weight: bold\">(</span>gcp.metrics_interactions<span style=\"font-weight: bold\">))</span> * <span style=\"color: #008080; text-decoration-color: #008080; font-weight: bold\">100</span> AS \n",
       "conversion_rate\n",
       "FROM projectx-pipeline.dataset.google_ads_campaign_performancepostfix gcp\n",
       "JOIN projectx-pipeline.dataset.google_ads_campaign_detailspostfix gcd \n",
       "ON gcp.campaign_id = gcd.campaign_id\n",
       "WHERE gcd.customer_id = <span style=\"color: #008080; text-decoration-color: #008080; font-weight: bold\">3424742100</span>\n",
       "AND gcp.segments_date BETWEEN <span style=\"color: #800080; text-decoration-color: #800080; font-weight: bold\">DATE_SUB</span><span style=\"font-weight: bold\">(</span><span style=\"color: #800080; text-decoration-color: #800080; font-weight: bold\">CURRENT_DATE</span><span style=\"font-weight: bold\">()</span>, INTERVAL <span style=\"color: #008080; text-decoration-color: #008080; font-weight: bold\">14</span> DAY<span style=\"font-weight: bold\">)</span> AND <span style=\"color: #800080; text-decoration-color: #800080; font-weight: bold\">DATE_SUB</span><span style=\"font-weight: bold\">(</span><span style=\"color: #800080; text-decoration-color: #800080; font-weight: bold\">CURRENT_DATE</span><span style=\"font-weight: bold\">()</span>, INTERVAL <span style=\"color: #008080; text-decoration-color: #008080; font-weight: bold\">1</span> \n",
       "DAY<span style=\"font-weight: bold\">)</span>\n",
       "GROUP BY gcd.campaign_id, gcd.campaign_name\n",
       "HAVING conversion_rate &gt; <span style=\"color: #008080; text-decoration-color: #008080; font-weight: bold\">0</span>\n",
       "ORDER BY conversion_rate ASC\n",
       "LIMIT <span style=\"color: #008080; text-decoration-color: #008080; font-weight: bold\">1</span>\n",
       "\n",
       "</pre>\n"
      ],
      "text/plain": [
       "\u001b[1mSQL:\u001b[0m SELECT gcd.campaign_name, \u001b[1;35mSAFE_DIVIDE\u001b[0m\u001b[1m(\u001b[0m\u001b[1;35mSUM\u001b[0m\u001b[1m(\u001b[0mgcp.metrics_conversions\u001b[1m)\u001b[0m, \u001b[1;35mSUM\u001b[0m\u001b[1m(\u001b[0mgcp.metrics_interactions\u001b[1m)\u001b[0m\u001b[1m)\u001b[0m * \u001b[1;36m100\u001b[0m AS \n",
       "conversion_rate\n",
       "FROM projectx-pipeline.dataset.google_ads_campaign_performancepostfix gcp\n",
       "JOIN projectx-pipeline.dataset.google_ads_campaign_detailspostfix gcd \n",
       "ON gcp.campaign_id = gcd.campaign_id\n",
       "WHERE gcd.customer_id = \u001b[1;36m3424742100\u001b[0m\n",
       "AND gcp.segments_date BETWEEN \u001b[1;35mDATE_SUB\u001b[0m\u001b[1m(\u001b[0m\u001b[1;35mCURRENT_DATE\u001b[0m\u001b[1m(\u001b[0m\u001b[1m)\u001b[0m, INTERVAL \u001b[1;36m14\u001b[0m DAY\u001b[1m)\u001b[0m AND \u001b[1;35mDATE_SUB\u001b[0m\u001b[1m(\u001b[0m\u001b[1;35mCURRENT_DATE\u001b[0m\u001b[1m(\u001b[0m\u001b[1m)\u001b[0m, INTERVAL \u001b[1;36m1\u001b[0m \n",
       "DAY\u001b[1m)\u001b[0m\n",
       "GROUP BY gcd.campaign_id, gcd.campaign_name\n",
       "HAVING conversion_rate > \u001b[1;36m0\u001b[0m\n",
       "ORDER BY conversion_rate ASC\n",
       "LIMIT \u001b[1;36m1\u001b[0m\n",
       "\n"
      ]
     },
     "metadata": {},
     "output_type": "display_data"
    },
    {
     "data": {
      "text/html": [
       "<pre style=\"white-space:pre;overflow-x:auto;line-height:normal;font-family:Menlo,'DejaVu Sans Mono',consolas,'Courier New',monospace\"><span style=\"color: #000080; text-decoration-color: #000080; font-weight: bold\">Example #</span><span style=\"color: #000080; text-decoration-color: #000080; font-weight: bold\">2</span>\n",
       "</pre>\n"
      ],
      "text/plain": [
       "\u001b[1;34mExample #\u001b[0m\u001b[1;34m2\u001b[0m\n"
      ]
     },
     "metadata": {},
     "output_type": "display_data"
    },
    {
     "data": {
      "text/html": [
       "<pre style=\"white-space:pre;overflow-x:auto;line-height:normal;font-family:Menlo,'DejaVu Sans Mono',consolas,'Courier New',monospace\"><span style=\"font-weight: bold\">Query:</span> What is the total number of campaigns with a conversion rate above <span style=\"color: #008080; text-decoration-color: #008080; font-weight: bold\">4</span>% in may <span style=\"color: #008080; text-decoration-color: #008080; font-weight: bold\">2025</span>.\n",
       "</pre>\n"
      ],
      "text/plain": [
       "\u001b[1mQuery:\u001b[0m What is the total number of campaigns with a conversion rate above \u001b[1;36m4\u001b[0m% in may \u001b[1;36m2025\u001b[0m.\n"
      ]
     },
     "metadata": {},
     "output_type": "display_data"
    },
    {
     "data": {
      "text/html": [
       "<pre style=\"white-space:pre;overflow-x:auto;line-height:normal;font-family:Menlo,'DejaVu Sans Mono',consolas,'Courier New',monospace\"><span style=\"font-weight: bold\">SQL:</span> SELECT <span style=\"color: #800080; text-decoration-color: #800080; font-weight: bold\">COUNT</span><span style=\"font-weight: bold\">(</span>*<span style=\"font-weight: bold\">)</span> AS total_campaigns_above_4pct_CR\n",
       "FROM <span style=\"font-weight: bold\">(</span>\n",
       " SELECT \n",
       " cp.campaign_id,\n",
       " <span style=\"color: #800080; text-decoration-color: #800080; font-weight: bold\">SAFE_MULTIPLY</span><span style=\"font-weight: bold\">(</span>\n",
       " <span style=\"color: #800080; text-decoration-color: #800080; font-weight: bold\">SAFE_DIVIDE</span><span style=\"font-weight: bold\">(</span><span style=\"color: #800080; text-decoration-color: #800080; font-weight: bold\">SUM</span><span style=\"font-weight: bold\">(</span>cp.metrics_conversions<span style=\"font-weight: bold\">)</span>, <span style=\"color: #800080; text-decoration-color: #800080; font-weight: bold\">SUM</span><span style=\"font-weight: bold\">(</span>cp.metrics_interactions<span style=\"font-weight: bold\">))</span>,\n",
       " <span style=\"color: #008080; text-decoration-color: #008080; font-weight: bold\">100</span>\n",
       " <span style=\"font-weight: bold\">)</span> AS conversion_rate\n",
       " FROM `projectx-pipeline.dataset.google_ads_campaign_performancepostfix` cp\n",
       " WHERE cp.customer_id = <span style=\"color: #008080; text-decoration-color: #008080; font-weight: bold\">3424742100</span>\n",
       " AND cp.segments_date BETWEEN <span style=\"color: #008000; text-decoration-color: #008000\">'2025-05-01'</span> AND <span style=\"color: #008000; text-decoration-color: #008000\">'2025-05-31'</span>\n",
       " GROUP BY cp.campaign_id\n",
       " HAVING conversion_rate &gt; <span style=\"color: #008080; text-decoration-color: #008080; font-weight: bold\">4</span>\n",
       "<span style=\"font-weight: bold\">)</span> AS campaign_cr;\n",
       "\n",
       "</pre>\n"
      ],
      "text/plain": [
       "\u001b[1mSQL:\u001b[0m SELECT \u001b[1;35mCOUNT\u001b[0m\u001b[1m(\u001b[0m*\u001b[1m)\u001b[0m AS total_campaigns_above_4pct_CR\n",
       "FROM \u001b[1m(\u001b[0m\n",
       " SELECT \n",
       " cp.campaign_id,\n",
       " \u001b[1;35mSAFE_MULTIPLY\u001b[0m\u001b[1m(\u001b[0m\n",
       " \u001b[1;35mSAFE_DIVIDE\u001b[0m\u001b[1m(\u001b[0m\u001b[1;35mSUM\u001b[0m\u001b[1m(\u001b[0mcp.metrics_conversions\u001b[1m)\u001b[0m, \u001b[1;35mSUM\u001b[0m\u001b[1m(\u001b[0mcp.metrics_interactions\u001b[1m)\u001b[0m\u001b[1m)\u001b[0m,\n",
       " \u001b[1;36m100\u001b[0m\n",
       " \u001b[1m)\u001b[0m AS conversion_rate\n",
       " FROM `projectx-pipeline.dataset.google_ads_campaign_performancepostfix` cp\n",
       " WHERE cp.customer_id = \u001b[1;36m3424742100\u001b[0m\n",
       " AND cp.segments_date BETWEEN \u001b[32m'2025-05-01'\u001b[0m AND \u001b[32m'2025-05-31'\u001b[0m\n",
       " GROUP BY cp.campaign_id\n",
       " HAVING conversion_rate > \u001b[1;36m4\u001b[0m\n",
       "\u001b[1m)\u001b[0m AS campaign_cr;\n",
       "\n"
      ]
     },
     "metadata": {},
     "output_type": "display_data"
    },
    {
     "data": {
      "text/html": [
       "<pre style=\"white-space:pre;overflow-x:auto;line-height:normal;font-family:Menlo,'DejaVu Sans Mono',consolas,'Courier New',monospace\"><span style=\"color: #000080; text-decoration-color: #000080; font-weight: bold\">Example #</span><span style=\"color: #000080; text-decoration-color: #000080; font-weight: bold\">3</span>\n",
       "</pre>\n"
      ],
      "text/plain": [
       "\u001b[1;34mExample #\u001b[0m\u001b[1;34m3\u001b[0m\n"
      ]
     },
     "metadata": {},
     "output_type": "display_data"
    },
    {
     "data": {
      "text/html": [
       "<pre style=\"white-space:pre;overflow-x:auto;line-height:normal;font-family:Menlo,'DejaVu Sans Mono',consolas,'Courier New',monospace\"><span style=\"font-weight: bold\">Query:</span> Identify campaigns with CAC greater than $<span style=\"color: #008080; text-decoration-color: #008080; font-weight: bold\">50</span> and more than <span style=\"color: #008080; text-decoration-color: #008080; font-weight: bold\">100</span> conversions in the last <span style=\"color: #008080; text-decoration-color: #008080; font-weight: bold\">30</span> days.\n",
       "</pre>\n"
      ],
      "text/plain": [
       "\u001b[1mQuery:\u001b[0m Identify campaigns with CAC greater than $\u001b[1;36m50\u001b[0m and more than \u001b[1;36m100\u001b[0m conversions in the last \u001b[1;36m30\u001b[0m days.\n"
      ]
     },
     "metadata": {},
     "output_type": "display_data"
    },
    {
     "data": {
      "text/html": [
       "<pre style=\"white-space:pre;overflow-x:auto;line-height:normal;font-family:Menlo,'DejaVu Sans Mono',consolas,'Courier New',monospace\"><span style=\"font-weight: bold\">SQL:</span> SELECT gcd.campaign_name, <span style=\"color: #800080; text-decoration-color: #800080; font-weight: bold\">SAFE_DIVIDE</span><span style=\"font-weight: bold\">(</span><span style=\"color: #800080; text-decoration-color: #800080; font-weight: bold\">SUM</span><span style=\"font-weight: bold\">(</span>crm.spend<span style=\"font-weight: bold\">)</span>, <span style=\"color: #800080; text-decoration-color: #800080; font-weight: bold\">SUM</span><span style=\"font-weight: bold\">(</span>crm.new_customers<span style=\"font-weight: bold\">))</span> AS CAC, <span style=\"color: #800080; text-decoration-color: #800080; font-weight: bold\">SUM</span><span style=\"font-weight: bold\">(</span>crm.new_customers<span style=\"font-weight: bold\">)</span> \n",
       "AS total_conversions\n",
       "FROM projectx-pipeline.dataset.google_ads_campaign_crm_performancepostfix crm\n",
       "JOIN projectx-pipeline.dataset.google_ads_campaign_detailspostfix gcd ON crm.campaign_id = gcd.campaign_id\n",
       "WHERE crm.customer_id = <span style=\"color: #008080; text-decoration-color: #008080; font-weight: bold\">3424742100</span>\n",
       "AND crm.segments_date BETWEEN <span style=\"color: #800080; text-decoration-color: #800080; font-weight: bold\">DATE_SUB</span><span style=\"font-weight: bold\">(</span><span style=\"color: #800080; text-decoration-color: #800080; font-weight: bold\">CURRENT_DATE</span><span style=\"font-weight: bold\">()</span>, INTERVAL <span style=\"color: #008080; text-decoration-color: #008080; font-weight: bold\">30</span> DAY<span style=\"font-weight: bold\">)</span> AND <span style=\"color: #800080; text-decoration-color: #800080; font-weight: bold\">DATE_SUB</span><span style=\"font-weight: bold\">(</span><span style=\"color: #800080; text-decoration-color: #800080; font-weight: bold\">CURRENT_DATE</span><span style=\"font-weight: bold\">()</span>, INTERVAL <span style=\"color: #008080; text-decoration-color: #008080; font-weight: bold\">1</span> \n",
       "DAY<span style=\"font-weight: bold\">)</span>\n",
       "GROUP BY gcd.campaign_id, gcd.campaign_name\n",
       "HAVING CAC &gt; <span style=\"color: #008080; text-decoration-color: #008080; font-weight: bold\">50</span>\n",
       "AND <span style=\"color: #800080; text-decoration-color: #800080; font-weight: bold\">SUM</span><span style=\"font-weight: bold\">(</span>crm.new_customers<span style=\"font-weight: bold\">)</span> &gt; <span style=\"color: #008080; text-decoration-color: #008080; font-weight: bold\">100</span>\n",
       "\n",
       "</pre>\n"
      ],
      "text/plain": [
       "\u001b[1mSQL:\u001b[0m SELECT gcd.campaign_name, \u001b[1;35mSAFE_DIVIDE\u001b[0m\u001b[1m(\u001b[0m\u001b[1;35mSUM\u001b[0m\u001b[1m(\u001b[0mcrm.spend\u001b[1m)\u001b[0m, \u001b[1;35mSUM\u001b[0m\u001b[1m(\u001b[0mcrm.new_customers\u001b[1m)\u001b[0m\u001b[1m)\u001b[0m AS CAC, \u001b[1;35mSUM\u001b[0m\u001b[1m(\u001b[0mcrm.new_customers\u001b[1m)\u001b[0m \n",
       "AS total_conversions\n",
       "FROM projectx-pipeline.dataset.google_ads_campaign_crm_performancepostfix crm\n",
       "JOIN projectx-pipeline.dataset.google_ads_campaign_detailspostfix gcd ON crm.campaign_id = gcd.campaign_id\n",
       "WHERE crm.customer_id = \u001b[1;36m3424742100\u001b[0m\n",
       "AND crm.segments_date BETWEEN \u001b[1;35mDATE_SUB\u001b[0m\u001b[1m(\u001b[0m\u001b[1;35mCURRENT_DATE\u001b[0m\u001b[1m(\u001b[0m\u001b[1m)\u001b[0m, INTERVAL \u001b[1;36m30\u001b[0m DAY\u001b[1m)\u001b[0m AND \u001b[1;35mDATE_SUB\u001b[0m\u001b[1m(\u001b[0m\u001b[1;35mCURRENT_DATE\u001b[0m\u001b[1m(\u001b[0m\u001b[1m)\u001b[0m, INTERVAL \u001b[1;36m1\u001b[0m \n",
       "DAY\u001b[1m)\u001b[0m\n",
       "GROUP BY gcd.campaign_id, gcd.campaign_name\n",
       "HAVING CAC > \u001b[1;36m50\u001b[0m\n",
       "AND \u001b[1;35mSUM\u001b[0m\u001b[1m(\u001b[0mcrm.new_customers\u001b[1m)\u001b[0m > \u001b[1;36m100\u001b[0m\n",
       "\n"
      ]
     },
     "metadata": {},
     "output_type": "display_data"
    },
    {
     "data": {
      "text/html": [
       "<pre style=\"white-space:pre;overflow-x:auto;line-height:normal;font-family:Menlo,'DejaVu Sans Mono',consolas,'Courier New',monospace\"><span style=\"color: #000080; text-decoration-color: #000080; font-weight: bold\">Example #</span><span style=\"color: #000080; text-decoration-color: #000080; font-weight: bold\">4</span>\n",
       "</pre>\n"
      ],
      "text/plain": [
       "\u001b[1;34mExample #\u001b[0m\u001b[1;34m4\u001b[0m\n"
      ]
     },
     "metadata": {},
     "output_type": "display_data"
    },
    {
     "data": {
      "text/html": [
       "<pre style=\"white-space:pre;overflow-x:auto;line-height:normal;font-family:Menlo,'DejaVu Sans Mono',consolas,'Courier New',monospace\"><span style=\"font-weight: bold\">Query:</span> Which campaign had the maximum impressions on <span style=\"color: #008080; text-decoration-color: #008080; font-weight: bold\">1</span> jan <span style=\"color: #008080; text-decoration-color: #008080; font-weight: bold\">2025</span>?\n",
       "</pre>\n"
      ],
      "text/plain": [
       "\u001b[1mQuery:\u001b[0m Which campaign had the maximum impressions on \u001b[1;36m1\u001b[0m jan \u001b[1;36m2025\u001b[0m?\n"
      ]
     },
     "metadata": {},
     "output_type": "display_data"
    },
    {
     "data": {
      "text/html": [
       "<pre style=\"white-space:pre;overflow-x:auto;line-height:normal;font-family:Menlo,'DejaVu Sans Mono',consolas,'Courier New',monospace\"><span style=\"font-weight: bold\">SQL:</span> SELECT gcd.campaign_id, gcd.campaign_name, <span style=\"color: #800080; text-decoration-color: #800080; font-weight: bold\">SUM</span><span style=\"font-weight: bold\">(</span>gcp.metrics_impressions<span style=\"font-weight: bold\">)</span> AS total_impressions FROM \n",
       "projectx-pipeline.dataset.google_ads_campaign_performancepostfix gcp JOIN \n",
       "projectx-pipeline.dataset.google_ads_campaign_detailspostfix gcd ON gcp.campaign_id = gcd.campaign_id WHERE \n",
       "gcp.customer_id = <span style=\"color: #008080; text-decoration-color: #008080; font-weight: bold\">8870377244</span> AND gcp.segments_date = <span style=\"color: #008000; text-decoration-color: #008000\">'2025-01-01'</span> GROUP BY gcd.campaign_id, gcd.campaign_name ORDER\n",
       "BY total_impressions DESC LIMIT <span style=\"color: #008080; text-decoration-color: #008080; font-weight: bold\">1</span>\n",
       "\n",
       "</pre>\n"
      ],
      "text/plain": [
       "\u001b[1mSQL:\u001b[0m SELECT gcd.campaign_id, gcd.campaign_name, \u001b[1;35mSUM\u001b[0m\u001b[1m(\u001b[0mgcp.metrics_impressions\u001b[1m)\u001b[0m AS total_impressions FROM \n",
       "projectx-pipeline.dataset.google_ads_campaign_performancepostfix gcp JOIN \n",
       "projectx-pipeline.dataset.google_ads_campaign_detailspostfix gcd ON gcp.campaign_id = gcd.campaign_id WHERE \n",
       "gcp.customer_id = \u001b[1;36m8870377244\u001b[0m AND gcp.segments_date = \u001b[32m'2025-01-01'\u001b[0m GROUP BY gcd.campaign_id, gcd.campaign_name ORDER\n",
       "BY total_impressions DESC LIMIT \u001b[1;36m1\u001b[0m\n",
       "\n"
      ]
     },
     "metadata": {},
     "output_type": "display_data"
    },
    {
     "data": {
      "text/html": [
       "<pre style=\"white-space:pre;overflow-x:auto;line-height:normal;font-family:Menlo,'DejaVu Sans Mono',consolas,'Courier New',monospace\"><span style=\"color: #000080; text-decoration-color: #000080; font-weight: bold\">Example #</span><span style=\"color: #000080; text-decoration-color: #000080; font-weight: bold\">5</span>\n",
       "</pre>\n"
      ],
      "text/plain": [
       "\u001b[1;34mExample #\u001b[0m\u001b[1;34m5\u001b[0m\n"
      ]
     },
     "metadata": {},
     "output_type": "display_data"
    },
    {
     "data": {
      "text/html": [
       "<pre style=\"white-space:pre;overflow-x:auto;line-height:normal;font-family:Menlo,'DejaVu Sans Mono',consolas,'Courier New',monospace\"><span style=\"font-weight: bold\">Query:</span> Which ad group had the maximum cost per conversion on <span style=\"color: #008080; text-decoration-color: #008080; font-weight: bold\">2</span> June <span style=\"color: #008080; text-decoration-color: #008080; font-weight: bold\">2025</span> ?\n",
       "</pre>\n"
      ],
      "text/plain": [
       "\u001b[1mQuery:\u001b[0m Which ad group had the maximum cost per conversion on \u001b[1;36m2\u001b[0m June \u001b[1;36m2025\u001b[0m ?\n"
      ]
     },
     "metadata": {},
     "output_type": "display_data"
    },
    {
     "data": {
      "text/html": [
       "<pre style=\"white-space:pre;overflow-x:auto;line-height:normal;font-family:Menlo,'DejaVu Sans Mono',consolas,'Courier New',monospace\"><span style=\"font-weight: bold\">SQL:</span> SELECT gag.ad_group_name, \n",
       "       <span style=\"color: #800080; text-decoration-color: #800080; font-weight: bold\">SAFE_DIVIDE</span><span style=\"font-weight: bold\">(</span><span style=\"color: #800080; text-decoration-color: #800080; font-weight: bold\">SAFE_DIVIDE</span><span style=\"font-weight: bold\">(</span><span style=\"color: #800080; text-decoration-color: #800080; font-weight: bold\">SUM</span><span style=\"font-weight: bold\">(</span>ga.metrics_cost_micros<span style=\"font-weight: bold\">)</span>, <span style=\"color: #008080; text-decoration-color: #008080; font-weight: bold\">1000000</span><span style=\"font-weight: bold\">)</span>, <span style=\"color: #800080; text-decoration-color: #800080; font-weight: bold\">SUM</span><span style=\"font-weight: bold\">(</span>ga.metrics_conversions<span style=\"font-weight: bold\">))</span> AS \n",
       "cost_per_conversion\n",
       "FROM projectx-pipeline.dataset.google_ads_ad_group_performancepostfix ga\n",
       "JOIN projectx-pipeline.dataset.google_ads_ad_group_detailspostfix gag ON ga.ad_group_id = gag.ad_group_id\n",
       "WHERE ga.customer_id = <span style=\"color: #008080; text-decoration-color: #008080; font-weight: bold\">3424742100</span>\n",
       "AND ga.segments_date = <span style=\"color: #008000; text-decoration-color: #008000\">'2025-06-02'</span>\n",
       "GROUP BY gag.ad_group_name\n",
       "ORDER BY cost_per_conversion DESC\n",
       "LIMIT <span style=\"color: #008080; text-decoration-color: #008080; font-weight: bold\">1</span>\n",
       "\n",
       "</pre>\n"
      ],
      "text/plain": [
       "\u001b[1mSQL:\u001b[0m SELECT gag.ad_group_name, \n",
       "       \u001b[1;35mSAFE_DIVIDE\u001b[0m\u001b[1m(\u001b[0m\u001b[1;35mSAFE_DIVIDE\u001b[0m\u001b[1m(\u001b[0m\u001b[1;35mSUM\u001b[0m\u001b[1m(\u001b[0mga.metrics_cost_micros\u001b[1m)\u001b[0m, \u001b[1;36m1000000\u001b[0m\u001b[1m)\u001b[0m, \u001b[1;35mSUM\u001b[0m\u001b[1m(\u001b[0mga.metrics_conversions\u001b[1m)\u001b[0m\u001b[1m)\u001b[0m AS \n",
       "cost_per_conversion\n",
       "FROM projectx-pipeline.dataset.google_ads_ad_group_performancepostfix ga\n",
       "JOIN projectx-pipeline.dataset.google_ads_ad_group_detailspostfix gag ON ga.ad_group_id = gag.ad_group_id\n",
       "WHERE ga.customer_id = \u001b[1;36m3424742100\u001b[0m\n",
       "AND ga.segments_date = \u001b[32m'2025-06-02'\u001b[0m\n",
       "GROUP BY gag.ad_group_name\n",
       "ORDER BY cost_per_conversion DESC\n",
       "LIMIT \u001b[1;36m1\u001b[0m\n",
       "\n"
      ]
     },
     "metadata": {},
     "output_type": "display_data"
    }
   ],
   "source": [
    "from collections import defaultdict\n",
    "from rich.console import Console\n",
    "from rich.pretty import Pretty\n",
    "import json\n",
    "\n",
    "# Constants\n",
    "TABLE_PREFIX = \"google_ads_\"\n",
    "TABLE_SUFFIX = \"postfix\"\n",
    "\n",
    "# Group: table -> set of columns\n",
    "table_columns = defaultdict(set)\n",
    "examples = []\n",
    "\n",
    "# Collect pruned schema + sql/query pairs\n",
    "for item in top_k:\n",
    "    tables = item.get(\"tables\", [])\n",
    "    columns = item.get(\"columns\", [])\n",
    "    query = item.get(\"retrieved_query\", \"\")\n",
    "    sql = item.get(\"sql\", \"\")\n",
    "\n",
    "    examples.append({\n",
    "        \"query\": query,\n",
    "        \"sql\": sql\n",
    "    })\n",
    "\n",
    "    for table in tables:\n",
    "        for col in columns:\n",
    "            table_columns[table].add(col)\n",
    "\n",
    "# Convert to final format\n",
    "pruned_schema = {\n",
    "    f\"{TABLE_PREFIX}{table}{TABLE_SUFFIX}\": sorted(list(cols))\n",
    "    for table, cols in table_columns.items()\n",
    "}\n",
    "\n",
    "# Output bundle\n",
    "output_bundle = {\n",
    "    \"pruned_schema\": pruned_schema,\n",
    "    \"examples\": examples\n",
    "}\n",
    "\n",
    "# ✅ Pretty print\n",
    "console = Console()\n",
    "console.rule(\"[bold green]🧩 Pruned Table Schema[/bold green]\")\n",
    "console.print(Pretty(pruned_schema, expand_all=True))\n",
    "\n",
    "console.rule(\"[bold cyan]💡 Retrieved Examples[/bold cyan]\")\n",
    "for i, ex in enumerate(examples, 1):\n",
    "    console.print(f\"[bold blue]Example #{i}[/bold blue]\")\n",
    "    console.print(f\"[bold]Query:[/bold] {ex['query']}\")\n",
    "    console.print(f\"[bold]SQL:[/bold] {ex['sql']}\\n\")\n",
    "\n",
    "# ✅ Save to file if needed\n",
    "with open(\"rag_output.json\", \"w\") as f:\n",
    "    json.dump(output_bundle, f, indent=2)\n"
   ]
  },
  {
   "cell_type": "code",
   "execution_count": null,
   "id": "cf8c8549",
   "metadata": {},
   "outputs": [],
   "source": []
  }
 ],
 "metadata": {
  "kernelspec": {
   "display_name": "txt2sql",
   "language": "python",
   "name": "python3"
  },
  "language_info": {
   "codemirror_mode": {
    "name": "ipython",
    "version": 3
   },
   "file_extension": ".py",
   "mimetype": "text/x-python",
   "name": "python",
   "nbconvert_exporter": "python",
   "pygments_lexer": "ipython3",
   "version": "3.12.11"
  }
 },
 "nbformat": 4,
 "nbformat_minor": 5
}
