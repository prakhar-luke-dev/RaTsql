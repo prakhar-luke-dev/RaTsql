{
 "cells": [
  {
   "cell_type": "markdown",
   "id": "bf884c2c",
   "metadata": {},
   "source": [
    "# Steps"
   ]
  },
  {
   "cell_type": "markdown",
   "id": "5d647734",
   "metadata": {},
   "source": [
    "## 1. Prep"
   ]
  },
  {
   "cell_type": "markdown",
   "id": "7b7039d1",
   "metadata": {},
   "source": [
    "- Full schema `S`\n",
    "- Full value sample `V`\n",
    "- Schema Description `D`\n",
    "- Full few shot `E`\n",
    "- Added context (Rules etc) `C`\n",
    "- Description `D`"
   ]
  },
  {
   "cell_type": "markdown",
   "id": "62796a65",
   "metadata": {},
   "source": [
    "## 2. Pipelines"
   ]
  },
  {
   "cell_type": "markdown",
   "id": "ff4385c2",
   "metadata": {},
   "source": [
    "### Pipeline 1 : Quries as RAG with schema\n",
    "- v1 : only table in metadata\n",
    "- v2 : table and used column in metadata (all column / selected column)"
   ]
  },
  {
   "cell_type": "markdown",
   "id": "4d7076d8",
   "metadata": {},
   "source": [
    "`input` : NL Quries + respective Gold sql query\n",
    "\n",
    "`output` : pruned schema (table + columns) + examples (NL Quries + Gold sql query)"
   ]
  },
  {
   "cell_type": "markdown",
   "id": "5b4fe6af",
   "metadata": {},
   "source": [
    "## 3. Output"
   ]
  },
  {
   "cell_type": "code",
   "execution_count": null,
   "id": "70d34a75",
   "metadata": {},
   "outputs": [],
   "source": []
  }
 ],
 "metadata": {
  "language_info": {
   "name": "python"
  }
 },
 "nbformat": 4,
 "nbformat_minor": 5
}
